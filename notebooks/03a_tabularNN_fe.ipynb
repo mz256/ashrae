{
 "cells": [
  {
   "cell_type": "markdown",
   "id": "exotic-instrument",
   "metadata": {
    "papermill": {
     "duration": 0.017066,
     "end_time": "2021-07-04T08:26:08.677524",
     "exception": false,
     "start_time": "2021-07-04T08:26:08.660458",
     "status": "completed"
    },
    "tags": []
   },
   "source": [
    "# ASHRAE with fast.ai, Part 1: Preprocessing"
   ]
  },
  {
   "cell_type": "markdown",
   "id": "provincial-primary",
   "metadata": {
    "papermill": {
     "duration": 0.015953,
     "end_time": "2021-07-04T08:26:08.709738",
     "exception": false,
     "start_time": "2021-07-04T08:26:08.693785",
     "status": "completed"
    },
    "tags": []
   },
   "source": [
    "This kernel performs the preprocessing of the training and test data for future use. \n",
    "\n",
    "Even with careful memory management, some operations on the large ASHRAE datasets are too demanding. Let's spread the work across multiple notebooks. This kernel is thus part of the series which further includes:\n",
    "\n",
    "- https://www.kaggle.com/michelezoccali/ashrae-with-fast-ai-part-2 (training)\n",
    "- https://www.kaggle.com/michelezoccali/ashrae-with-fast-ai-part-3 (inference)\n",
    "\n",
    "NB: Kaggle allows you to reference the static output of a kernel from other instances, as long as you remember to commit the notebook and save the output."
   ]
  },
  {
   "cell_type": "markdown",
   "id": "subtle-berkeley",
   "metadata": {
    "papermill": {
     "duration": 0.01566,
     "end_time": "2021-07-04T08:26:08.741533",
     "exception": false,
     "start_time": "2021-07-04T08:26:08.725873",
     "status": "completed"
    },
    "tags": []
   },
   "source": [
    "# Imports"
   ]
  },
  {
   "cell_type": "code",
   "execution_count": 1,
   "id": "numerous-stupid",
   "metadata": {
    "_cell_guid": "b1076dfc-b9ad-4769-8c92-a6c4dae69d19",
    "_uuid": "8f2839f25d086af736a60e9eeb907d3b93b6e0e5",
    "execution": {
     "iopub.execute_input": "2021-07-04T08:26:08.788334Z",
     "iopub.status.busy": "2021-07-04T08:26:08.787694Z",
     "iopub.status.idle": "2021-07-04T08:26:08.791447Z",
     "shell.execute_reply": "2021-07-04T08:26:08.790742Z",
     "shell.execute_reply.started": "2021-06-26T12:43:53.794165Z"
    },
    "papermill": {
     "duration": 0.033808,
     "end_time": "2021-07-04T08:26:08.791634",
     "exception": false,
     "start_time": "2021-07-04T08:26:08.757826",
     "status": "completed"
    },
    "tags": []
   },
   "outputs": [],
   "source": [
    "import os\n",
    "import gc\n",
    "import numpy as np # linear algebra\n",
    "import pandas as pd # data processing, CSV file I/O\n",
    "import datetime"
   ]
  },
  {
   "cell_type": "code",
   "execution_count": 2,
   "id": "introductory-coral",
   "metadata": {
    "execution": {
     "iopub.execute_input": "2021-07-04T08:26:08.830284Z",
     "iopub.status.busy": "2021-07-04T08:26:08.829515Z",
     "iopub.status.idle": "2021-07-04T08:26:08.834837Z",
     "shell.execute_reply": "2021-07-04T08:26:08.835526Z",
     "shell.execute_reply.started": "2021-06-26T12:43:53.800674Z"
    },
    "papermill": {
     "duration": 0.027715,
     "end_time": "2021-07-04T08:26:08.835766",
     "exception": false,
     "start_time": "2021-07-04T08:26:08.808051",
     "status": "completed"
    },
    "tags": []
   },
   "outputs": [
    {
     "name": "stdout",
     "output_type": "stream",
     "text": [
      "../input/ashrae-energy-prediction/sample_submission.csv\n",
      "../input/ashrae-energy-prediction/building_metadata.csv\n",
      "../input/ashrae-energy-prediction/weather_train.csv\n",
      "../input/ashrae-energy-prediction/weather_test.csv\n",
      "../input/ashrae-energy-prediction/train.csv\n",
      "../input/ashrae-energy-prediction/test.csv\n"
     ]
    }
   ],
   "source": [
    "path = '../input/ashrae-energy-prediction'\n",
    "\n",
    "for dirname, _, filenames in os.walk(path):\n",
    "    for filename in filenames:\n",
    "        print(os.path.join(dirname, filename))"
   ]
  },
  {
   "cell_type": "markdown",
   "id": "renewable-cattle",
   "metadata": {
    "papermill": {
     "duration": 0.018286,
     "end_time": "2021-07-04T08:26:08.873049",
     "exception": false,
     "start_time": "2021-07-04T08:26:08.854763",
     "status": "completed"
    },
    "tags": []
   },
   "source": [
    "# Utilities"
   ]
  },
  {
   "cell_type": "code",
   "execution_count": 3,
   "id": "unknown-venue",
   "metadata": {
    "execution": {
     "iopub.execute_input": "2021-07-04T08:26:08.918862Z",
     "iopub.status.busy": "2021-07-04T08:26:08.917358Z",
     "iopub.status.idle": "2021-07-04T08:26:08.924883Z",
     "shell.execute_reply": "2021-07-04T08:26:08.925366Z",
     "shell.execute_reply.started": "2021-06-26T12:43:53.822549Z"
    },
    "papermill": {
     "duration": 0.035085,
     "end_time": "2021-07-04T08:26:08.925556",
     "exception": false,
     "start_time": "2021-07-04T08:26:08.890471",
     "status": "completed"
    },
    "tags": []
   },
   "outputs": [],
   "source": [
    "def reduce_mem(df):\n",
    "    result = df.copy()\n",
    "    for col in result.columns:\n",
    "        col_data = result[col]\n",
    "        dn = col_data.dtype.name\n",
    "        if not dn.startswith(\"datetime\"):\n",
    "            if dn == \"object\":  # only object feature has low cardinality\n",
    "                result[col] = pd.to_numeric(col_data.astype(\"category\").cat.codes, downcast=\"unsigned\")\n",
    "            elif dn.startswith(\"int\") | dn.startswith(\"uint\"):\n",
    "                if col_data.min() >= 0:\n",
    "                    result[col] = pd.to_numeric(col_data, downcast=\"unsigned\")\n",
    "                else:\n",
    "                    result[col] = pd.to_numeric(col_data, downcast='integer')\n",
    "            else:\n",
    "                result[col] = pd.to_numeric(col_data, downcast='float')\n",
    "    return result\n",
    "\n",
    "def add_lag_features(weather_df, window=3):\n",
    "    group_df = weather_df.groupby('site_id')\n",
    "    cols = ['air_temperature', 'cloud_coverage', 'dew_temperature', 'precip_depth_1_hr']\n",
    "    rolled = group_df[cols].rolling(window=window, min_periods=0)\n",
    "    lag_mean = rolled.mean().reset_index().astype(np.float16)\n",
    "    lag_max = rolled.max().reset_index().astype(np.float16)\n",
    "    lag_min = rolled.min().reset_index().astype(np.float16)\n",
    "    for col in cols:\n",
    "        weather_df[f'{col}_min_lag{window}'] = lag_min[col]\n",
    "        weather_df[f'{col}_mean_lag{window}'] = lag_mean[col]\n",
    "        weather_df[f'{col}_max_lag{window}'] = lag_max[col]\n",
    "    return weather_df\n",
    "\n",
    "def _delete_bad_sitezero(X, y):\n",
    "    cond = (X.timestamp > '2016-05-20') | (X.site_id != 0) | (X.meter != 0)\n",
    "    X = X[cond]\n",
    "    y = y.reindex_like(X)\n",
    "    return X.reset_index(drop=True), y.reset_index(drop=True)\n",
    "\n",
    "def _extract_temporal(X, train=True):\n",
    "    X['hour'] = X.timestamp.dt.hour\n",
    "    X['weekday'] = X.timestamp.dt.weekday\n",
    "    if train:\n",
    "        # include month to create validation set, to be deleted before training\n",
    "        X['month'] = X.timestamp.dt.month \n",
    "    # month and year cause overfit, could try other (holiday, business, etc.)\n",
    "    return reduce_mem(X)"
   ]
  },
  {
   "cell_type": "code",
   "execution_count": 4,
   "id": "subject-hanging",
   "metadata": {
    "execution": {
     "iopub.execute_input": "2021-07-04T08:26:08.961732Z",
     "iopub.status.busy": "2021-07-04T08:26:08.960757Z",
     "iopub.status.idle": "2021-07-04T08:26:08.978549Z",
     "shell.execute_reply": "2021-07-04T08:26:08.979046Z",
     "shell.execute_reply.started": "2021-06-26T12:43:53.83948Z"
    },
    "papermill": {
     "duration": 0.03752,
     "end_time": "2021-07-04T08:26:08.979240",
     "exception": false,
     "start_time": "2021-07-04T08:26:08.941720",
     "status": "completed"
    },
    "tags": []
   },
   "outputs": [],
   "source": [
    "def load_data(source='train'):\n",
    "    assert source in ['train','test']\n",
    "    df = pd.read_csv(f'{path}/{source}.csv', parse_dates=['timestamp'])\n",
    "    return reduce_mem(df)\n",
    "\n",
    "def load_building():\n",
    "    df = pd.read_csv(f'{path}/building_metadata.csv').fillna(-1)\n",
    "    return reduce_mem(df)\n",
    "\n",
    "def load_weather(source='train', fix_timezone=True, impute=True, add_lag=True):\n",
    "    assert source in ['train','test']\n",
    "    df = pd.read_csv(f'{path}/weather_{source}.csv', parse_dates=['timestamp'])\n",
    "    if fix_timezone:\n",
    "        offsets = [5,0,9,6,8,0,6,6,5,7,8,6,0,7,6,6]\n",
    "        offset_map = {site: offset for site, offset in enumerate(offsets)}\n",
    "        df.timestamp = df.timestamp - pd.to_timedelta(df.site_id.map(offset_map), unit='h')\n",
    "    if impute:\n",
    "        site_dfs = []\n",
    "        for site in df.site_id.unique():\n",
    "            if source == 'train':\n",
    "                new_idx = pd.date_range(start='2016-1-1', end='2016-12-31-23', freq='H')\n",
    "            else:\n",
    "                new_idx = pd.date_range(start='2017-1-1', end='2018-12-31-23', freq='H')\n",
    "            site_df = df[df.site_id == site].set_index('timestamp').reindex(new_idx)\n",
    "            site_df.site_id = site\n",
    "            for col in [c for c in site_df.columns if c != 'site_id']:\n",
    "                site_df[col] = site_df[col].interpolate(limit_direction='both', method='linear')\n",
    "                site_df[col] = site_df[col].fillna(df[col].median())\n",
    "            site_dfs.append(site_df)\n",
    "        df = pd.concat(site_dfs)\n",
    "        df['timestamp'] = df.index\n",
    "        df = df.reset_index(drop=True)\n",
    "        \n",
    "    if add_lag:\n",
    "        df = add_lag_features(df, window=3)\n",
    "    \n",
    "    return reduce_mem(df)\n",
    "\n",
    "def merged_dfs(source='train', fix_timezone=True, impute=True, add_lag=False):\n",
    "    df = load_data(source=source).merge(load_building(), on='building_id', how='left')\n",
    "    df = df.merge(load_weather(source=source, fix_timezone=fix_timezone, impute=impute, add_lag=add_lag),\n",
    "                 on=['site_id','timestamp'], how='left')\n",
    "    if source == 'train':\n",
    "        X = df.drop('meter_reading', axis=1)  \n",
    "        y = np.log1p(df.meter_reading)  # log-transform of target\n",
    "        return X, y\n",
    "    elif source == 'test':\n",
    "        return df"
   ]
  },
  {
   "cell_type": "markdown",
   "id": "twenty-patrol",
   "metadata": {
    "papermill": {
     "duration": 0.016968,
     "end_time": "2021-07-04T08:26:09.012914",
     "exception": false,
     "start_time": "2021-07-04T08:26:08.995946",
     "status": "completed"
    },
    "tags": []
   },
   "source": [
    "# Training data"
   ]
  },
  {
   "cell_type": "markdown",
   "id": "preliminary-cleaners",
   "metadata": {
    "papermill": {
     "duration": 0.016381,
     "end_time": "2021-07-04T08:26:09.045848",
     "exception": false,
     "start_time": "2021-07-04T08:26:09.029467",
     "status": "completed"
    },
    "tags": []
   },
   "source": [
    "We try without lag features first, as unsure if the TabularPandas instance can deal with the added features without adding enough overhead to fill the RAM."
   ]
  },
  {
   "cell_type": "code",
   "execution_count": 5,
   "id": "agricultural-differential",
   "metadata": {
    "execution": {
     "iopub.execute_input": "2021-07-04T08:26:09.083157Z",
     "iopub.status.busy": "2021-07-04T08:26:09.082218Z",
     "iopub.status.idle": "2021-07-04T08:26:40.198456Z",
     "shell.execute_reply": "2021-07-04T08:26:40.198980Z",
     "shell.execute_reply.started": "2021-06-26T12:43:53.859939Z"
    },
    "papermill": {
     "duration": 31.136181,
     "end_time": "2021-07-04T08:26:40.199152",
     "exception": false,
     "start_time": "2021-07-04T08:26:09.062971",
     "status": "completed"
    },
    "tags": []
   },
   "outputs": [
    {
     "data": {
      "text/html": [
       "<div>\n",
       "<style scoped>\n",
       "    .dataframe tbody tr th:only-of-type {\n",
       "        vertical-align: middle;\n",
       "    }\n",
       "\n",
       "    .dataframe tbody tr th {\n",
       "        vertical-align: top;\n",
       "    }\n",
       "\n",
       "    .dataframe thead th {\n",
       "        text-align: right;\n",
       "    }\n",
       "</style>\n",
       "<table border=\"1\" class=\"dataframe\">\n",
       "  <thead>\n",
       "    <tr style=\"text-align: right;\">\n",
       "      <th></th>\n",
       "      <th>building_id</th>\n",
       "      <th>meter</th>\n",
       "      <th>timestamp</th>\n",
       "      <th>site_id</th>\n",
       "      <th>primary_use</th>\n",
       "      <th>square_feet</th>\n",
       "      <th>year_built</th>\n",
       "      <th>floor_count</th>\n",
       "      <th>air_temperature</th>\n",
       "      <th>cloud_coverage</th>\n",
       "      <th>dew_temperature</th>\n",
       "      <th>precip_depth_1_hr</th>\n",
       "      <th>sea_level_pressure</th>\n",
       "      <th>wind_direction</th>\n",
       "      <th>wind_speed</th>\n",
       "    </tr>\n",
       "  </thead>\n",
       "  <tbody>\n",
       "    <tr>\n",
       "      <th>0</th>\n",
       "      <td>0</td>\n",
       "      <td>0</td>\n",
       "      <td>2016-01-01</td>\n",
       "      <td>0</td>\n",
       "      <td>0</td>\n",
       "      <td>7432</td>\n",
       "      <td>2008.0</td>\n",
       "      <td>-1.0</td>\n",
       "      <td>19.4</td>\n",
       "      <td>6.0</td>\n",
       "      <td>19.4</td>\n",
       "      <td>0.0</td>\n",
       "      <td>1019.400024</td>\n",
       "      <td>0.0</td>\n",
       "      <td>0.0</td>\n",
       "    </tr>\n",
       "    <tr>\n",
       "      <th>1</th>\n",
       "      <td>1</td>\n",
       "      <td>0</td>\n",
       "      <td>2016-01-01</td>\n",
       "      <td>0</td>\n",
       "      <td>0</td>\n",
       "      <td>2720</td>\n",
       "      <td>2004.0</td>\n",
       "      <td>-1.0</td>\n",
       "      <td>19.4</td>\n",
       "      <td>6.0</td>\n",
       "      <td>19.4</td>\n",
       "      <td>0.0</td>\n",
       "      <td>1019.400024</td>\n",
       "      <td>0.0</td>\n",
       "      <td>0.0</td>\n",
       "    </tr>\n",
       "    <tr>\n",
       "      <th>2</th>\n",
       "      <td>2</td>\n",
       "      <td>0</td>\n",
       "      <td>2016-01-01</td>\n",
       "      <td>0</td>\n",
       "      <td>0</td>\n",
       "      <td>5376</td>\n",
       "      <td>1991.0</td>\n",
       "      <td>-1.0</td>\n",
       "      <td>19.4</td>\n",
       "      <td>6.0</td>\n",
       "      <td>19.4</td>\n",
       "      <td>0.0</td>\n",
       "      <td>1019.400024</td>\n",
       "      <td>0.0</td>\n",
       "      <td>0.0</td>\n",
       "    </tr>\n",
       "    <tr>\n",
       "      <th>3</th>\n",
       "      <td>3</td>\n",
       "      <td>0</td>\n",
       "      <td>2016-01-01</td>\n",
       "      <td>0</td>\n",
       "      <td>0</td>\n",
       "      <td>23685</td>\n",
       "      <td>2002.0</td>\n",
       "      <td>-1.0</td>\n",
       "      <td>19.4</td>\n",
       "      <td>6.0</td>\n",
       "      <td>19.4</td>\n",
       "      <td>0.0</td>\n",
       "      <td>1019.400024</td>\n",
       "      <td>0.0</td>\n",
       "      <td>0.0</td>\n",
       "    </tr>\n",
       "    <tr>\n",
       "      <th>4</th>\n",
       "      <td>4</td>\n",
       "      <td>0</td>\n",
       "      <td>2016-01-01</td>\n",
       "      <td>0</td>\n",
       "      <td>0</td>\n",
       "      <td>116607</td>\n",
       "      <td>1975.0</td>\n",
       "      <td>-1.0</td>\n",
       "      <td>19.4</td>\n",
       "      <td>6.0</td>\n",
       "      <td>19.4</td>\n",
       "      <td>0.0</td>\n",
       "      <td>1019.400024</td>\n",
       "      <td>0.0</td>\n",
       "      <td>0.0</td>\n",
       "    </tr>\n",
       "  </tbody>\n",
       "</table>\n",
       "</div>"
      ],
      "text/plain": [
       "   building_id  meter  timestamp  site_id  primary_use  square_feet  \\\n",
       "0            0      0 2016-01-01        0            0         7432   \n",
       "1            1      0 2016-01-01        0            0         2720   \n",
       "2            2      0 2016-01-01        0            0         5376   \n",
       "3            3      0 2016-01-01        0            0        23685   \n",
       "4            4      0 2016-01-01        0            0       116607   \n",
       "\n",
       "   year_built  floor_count  air_temperature  cloud_coverage  dew_temperature  \\\n",
       "0      2008.0         -1.0             19.4             6.0             19.4   \n",
       "1      2004.0         -1.0             19.4             6.0             19.4   \n",
       "2      1991.0         -1.0             19.4             6.0             19.4   \n",
       "3      2002.0         -1.0             19.4             6.0             19.4   \n",
       "4      1975.0         -1.0             19.4             6.0             19.4   \n",
       "\n",
       "   precip_depth_1_hr  sea_level_pressure  wind_direction  wind_speed  \n",
       "0                0.0         1019.400024             0.0         0.0  \n",
       "1                0.0         1019.400024             0.0         0.0  \n",
       "2                0.0         1019.400024             0.0         0.0  \n",
       "3                0.0         1019.400024             0.0         0.0  \n",
       "4                0.0         1019.400024             0.0         0.0  "
      ]
     },
     "execution_count": 5,
     "metadata": {},
     "output_type": "execute_result"
    }
   ],
   "source": [
    "X_train, y_train = merged_dfs(add_lag=False)\n",
    "X_train.head()"
   ]
  },
  {
   "cell_type": "code",
   "execution_count": 6,
   "id": "silver-drinking",
   "metadata": {
    "execution": {
     "iopub.execute_input": "2021-07-04T08:26:40.239910Z",
     "iopub.status.busy": "2021-07-04T08:26:40.239176Z",
     "iopub.status.idle": "2021-07-04T08:26:57.339972Z",
     "shell.execute_reply": "2021-07-04T08:26:57.340550Z",
     "shell.execute_reply.started": "2021-06-26T12:44:19.107243Z"
    },
    "papermill": {
     "duration": 17.124354,
     "end_time": "2021-07-04T08:26:57.340980",
     "exception": false,
     "start_time": "2021-07-04T08:26:40.216626",
     "status": "completed"
    },
    "tags": []
   },
   "outputs": [
    {
     "data": {
      "text/plain": [
       "37"
      ]
     },
     "execution_count": 6,
     "metadata": {},
     "output_type": "execute_result"
    }
   ],
   "source": [
    "# preprocessing\n",
    "X_train, y_train = _delete_bad_sitezero(X_train, y_train)\n",
    "X_train = _extract_temporal(X_train)\n",
    "\n",
    "# remove timestamp and other unimportant features\n",
    "to_drop = ['timestamp','sea_level_pressure','wind_direction','wind_speed']\n",
    "X_train.drop(to_drop, axis=1, inplace=True)\n",
    "\n",
    "gc.collect()"
   ]
  },
  {
   "cell_type": "code",
   "execution_count": 7,
   "id": "administrative-harvard",
   "metadata": {
    "execution": {
     "iopub.execute_input": "2021-07-04T08:26:57.384357Z",
     "iopub.status.busy": "2021-07-04T08:26:57.382935Z",
     "iopub.status.idle": "2021-07-04T08:26:57.923438Z",
     "shell.execute_reply": "2021-07-04T08:26:57.922455Z",
     "shell.execute_reply.started": "2021-06-26T12:44:33.685754Z"
    },
    "papermill": {
     "duration": 0.563875,
     "end_time": "2021-07-04T08:26:57.923668",
     "exception": false,
     "start_time": "2021-07-04T08:26:57.359793",
     "status": "completed"
    },
    "tags": []
   },
   "outputs": [
    {
     "name": "stdout",
     "output_type": "stream",
     "text": [
      "<class 'pandas.core.frame.DataFrame'>\n",
      "RangeIndex: 19869886 entries, 0 to 19869885\n",
      "Data columns (total 15 columns):\n",
      " #   Column             Dtype  \n",
      "---  ------             -----  \n",
      " 0   building_id        uint16 \n",
      " 1   meter              uint8  \n",
      " 2   site_id            uint8  \n",
      " 3   primary_use        uint8  \n",
      " 4   square_feet        uint32 \n",
      " 5   year_built         float32\n",
      " 6   floor_count        float32\n",
      " 7   air_temperature    float32\n",
      " 8   cloud_coverage     float32\n",
      " 9   dew_temperature    float32\n",
      " 10  precip_depth_1_hr  float32\n",
      " 11  hour               uint8  \n",
      " 12  weekday            uint8  \n",
      " 13  month              uint8  \n",
      " 14  meter_reading      float32\n",
      "dtypes: float32(7), uint16(1), uint32(1), uint8(6)\n",
      "memory usage: 758.0 MB\n"
     ]
    }
   ],
   "source": [
    "df_train = pd.concat([X_train, y_train], axis=1)\n",
    "\n",
    "del X_train, y_train\n",
    "gc.collect()\n",
    "\n",
    "df_train.info()"
   ]
  },
  {
   "cell_type": "markdown",
   "id": "foster-function",
   "metadata": {
    "papermill": {
     "duration": 0.018535,
     "end_time": "2021-07-04T08:26:57.961397",
     "exception": false,
     "start_time": "2021-07-04T08:26:57.942862",
     "status": "completed"
    },
    "tags": []
   },
   "source": [
    "An important part of the preprocessing involves careful type downcasting for memory management. Saving to a csv file does not preserve dtypes, hence we save in HDF5 format. We can add multiple frames to the save HDF5 file as long as we specify a key for retrieval."
   ]
  },
  {
   "cell_type": "code",
   "execution_count": 8,
   "id": "boxed-citizen",
   "metadata": {
    "execution": {
     "iopub.execute_input": "2021-07-04T08:26:58.002279Z",
     "iopub.status.busy": "2021-07-04T08:26:58.001605Z",
     "iopub.status.idle": "2021-07-04T08:27:01.415286Z",
     "shell.execute_reply": "2021-07-04T08:27:01.414716Z",
     "shell.execute_reply.started": "2021-06-26T12:44:34.197905Z"
    },
    "papermill": {
     "duration": 3.436336,
     "end_time": "2021-07-04T08:27:01.415455",
     "exception": false,
     "start_time": "2021-07-04T08:26:57.979119",
     "status": "completed"
    },
    "tags": []
   },
   "outputs": [],
   "source": [
    "df_train.to_hdf('preprocessing_no_lag.h5', index=False, key='train')\n",
    "del df_train"
   ]
  },
  {
   "cell_type": "markdown",
   "id": "bound-bradford",
   "metadata": {
    "papermill": {
     "duration": 0.01735,
     "end_time": "2021-07-04T08:27:01.450883",
     "exception": false,
     "start_time": "2021-07-04T08:27:01.433533",
     "status": "completed"
    },
    "tags": []
   },
   "source": [
    "# Test data"
   ]
  },
  {
   "cell_type": "code",
   "execution_count": 9,
   "id": "behavioral-toner",
   "metadata": {
    "execution": {
     "iopub.execute_input": "2021-07-04T08:27:01.492998Z",
     "iopub.status.busy": "2021-07-04T08:27:01.492327Z",
     "iopub.status.idle": "2021-07-04T08:28:23.563089Z",
     "shell.execute_reply": "2021-07-04T08:28:23.563635Z",
     "shell.execute_reply.started": "2021-06-26T12:44:36.472919Z"
    },
    "papermill": {
     "duration": 82.095105,
     "end_time": "2021-07-04T08:28:23.563849",
     "exception": false,
     "start_time": "2021-07-04T08:27:01.468744",
     "status": "completed"
    },
    "tags": []
   },
   "outputs": [
    {
     "data": {
      "text/html": [
       "<div>\n",
       "<style scoped>\n",
       "    .dataframe tbody tr th:only-of-type {\n",
       "        vertical-align: middle;\n",
       "    }\n",
       "\n",
       "    .dataframe tbody tr th {\n",
       "        vertical-align: top;\n",
       "    }\n",
       "\n",
       "    .dataframe thead th {\n",
       "        text-align: right;\n",
       "    }\n",
       "</style>\n",
       "<table border=\"1\" class=\"dataframe\">\n",
       "  <thead>\n",
       "    <tr style=\"text-align: right;\">\n",
       "      <th></th>\n",
       "      <th>row_id</th>\n",
       "      <th>building_id</th>\n",
       "      <th>meter</th>\n",
       "      <th>site_id</th>\n",
       "      <th>primary_use</th>\n",
       "      <th>square_feet</th>\n",
       "      <th>year_built</th>\n",
       "      <th>floor_count</th>\n",
       "      <th>air_temperature</th>\n",
       "      <th>cloud_coverage</th>\n",
       "      <th>dew_temperature</th>\n",
       "      <th>precip_depth_1_hr</th>\n",
       "      <th>hour</th>\n",
       "      <th>weekday</th>\n",
       "    </tr>\n",
       "  </thead>\n",
       "  <tbody>\n",
       "    <tr>\n",
       "      <th>0</th>\n",
       "      <td>0</td>\n",
       "      <td>0</td>\n",
       "      <td>0</td>\n",
       "      <td>0</td>\n",
       "      <td>0</td>\n",
       "      <td>7432</td>\n",
       "      <td>2008.0</td>\n",
       "      <td>-1.0</td>\n",
       "      <td>15.6</td>\n",
       "      <td>2.0</td>\n",
       "      <td>12.8</td>\n",
       "      <td>0.0</td>\n",
       "      <td>0</td>\n",
       "      <td>6</td>\n",
       "    </tr>\n",
       "    <tr>\n",
       "      <th>1</th>\n",
       "      <td>1</td>\n",
       "      <td>1</td>\n",
       "      <td>0</td>\n",
       "      <td>0</td>\n",
       "      <td>0</td>\n",
       "      <td>2720</td>\n",
       "      <td>2004.0</td>\n",
       "      <td>-1.0</td>\n",
       "      <td>15.6</td>\n",
       "      <td>2.0</td>\n",
       "      <td>12.8</td>\n",
       "      <td>0.0</td>\n",
       "      <td>0</td>\n",
       "      <td>6</td>\n",
       "    </tr>\n",
       "    <tr>\n",
       "      <th>2</th>\n",
       "      <td>2</td>\n",
       "      <td>2</td>\n",
       "      <td>0</td>\n",
       "      <td>0</td>\n",
       "      <td>0</td>\n",
       "      <td>5376</td>\n",
       "      <td>1991.0</td>\n",
       "      <td>-1.0</td>\n",
       "      <td>15.6</td>\n",
       "      <td>2.0</td>\n",
       "      <td>12.8</td>\n",
       "      <td>0.0</td>\n",
       "      <td>0</td>\n",
       "      <td>6</td>\n",
       "    </tr>\n",
       "    <tr>\n",
       "      <th>3</th>\n",
       "      <td>3</td>\n",
       "      <td>3</td>\n",
       "      <td>0</td>\n",
       "      <td>0</td>\n",
       "      <td>0</td>\n",
       "      <td>23685</td>\n",
       "      <td>2002.0</td>\n",
       "      <td>-1.0</td>\n",
       "      <td>15.6</td>\n",
       "      <td>2.0</td>\n",
       "      <td>12.8</td>\n",
       "      <td>0.0</td>\n",
       "      <td>0</td>\n",
       "      <td>6</td>\n",
       "    </tr>\n",
       "    <tr>\n",
       "      <th>4</th>\n",
       "      <td>4</td>\n",
       "      <td>4</td>\n",
       "      <td>0</td>\n",
       "      <td>0</td>\n",
       "      <td>0</td>\n",
       "      <td>116607</td>\n",
       "      <td>1975.0</td>\n",
       "      <td>-1.0</td>\n",
       "      <td>15.6</td>\n",
       "      <td>2.0</td>\n",
       "      <td>12.8</td>\n",
       "      <td>0.0</td>\n",
       "      <td>0</td>\n",
       "      <td>6</td>\n",
       "    </tr>\n",
       "  </tbody>\n",
       "</table>\n",
       "</div>"
      ],
      "text/plain": [
       "   row_id  building_id  meter  site_id  primary_use  square_feet  year_built  \\\n",
       "0       0            0      0        0            0         7432      2008.0   \n",
       "1       1            1      0        0            0         2720      2004.0   \n",
       "2       2            2      0        0            0         5376      1991.0   \n",
       "3       3            3      0        0            0        23685      2002.0   \n",
       "4       4            4      0        0            0       116607      1975.0   \n",
       "\n",
       "   floor_count  air_temperature  cloud_coverage  dew_temperature  \\\n",
       "0         -1.0             15.6             2.0             12.8   \n",
       "1         -1.0             15.6             2.0             12.8   \n",
       "2         -1.0             15.6             2.0             12.8   \n",
       "3         -1.0             15.6             2.0             12.8   \n",
       "4         -1.0             15.6             2.0             12.8   \n",
       "\n",
       "   precip_depth_1_hr  hour  weekday  \n",
       "0                0.0     0        6  \n",
       "1                0.0     0        6  \n",
       "2                0.0     0        6  \n",
       "3                0.0     0        6  \n",
       "4                0.0     0        6  "
      ]
     },
     "execution_count": 9,
     "metadata": {},
     "output_type": "execute_result"
    }
   ],
   "source": [
    "X_test = merged_dfs(source='test', add_lag=False)\n",
    "X_test = _extract_temporal(X_test, train=False)\n",
    "X_test.drop(columns=['timestamp']+to_drop, inplace=True)\n",
    "gc.collect()\n",
    "\n",
    "X_test.head()"
   ]
  },
  {
   "cell_type": "code",
   "execution_count": 10,
   "id": "technological-chancellor",
   "metadata": {
    "execution": {
     "iopub.execute_input": "2021-07-04T08:28:23.611772Z",
     "iopub.status.busy": "2021-07-04T08:28:23.611127Z",
     "iopub.status.idle": "2021-07-04T08:28:23.615404Z",
     "shell.execute_reply": "2021-07-04T08:28:23.616061Z",
     "shell.execute_reply.started": "2021-06-26T12:46:06.157533Z"
    },
    "papermill": {
     "duration": 0.034058,
     "end_time": "2021-07-04T08:28:23.616307",
     "exception": false,
     "start_time": "2021-07-04T08:28:23.582249",
     "status": "completed"
    },
    "tags": []
   },
   "outputs": [
    {
     "name": "stdout",
     "output_type": "stream",
     "text": [
      "<class 'pandas.core.frame.DataFrame'>\n",
      "Int64Index: 41697600 entries, 0 to 41697599\n",
      "Data columns (total 14 columns):\n",
      " #   Column             Dtype  \n",
      "---  ------             -----  \n",
      " 0   row_id             uint32 \n",
      " 1   building_id        uint16 \n",
      " 2   meter              uint8  \n",
      " 3   site_id            uint8  \n",
      " 4   primary_use        uint8  \n",
      " 5   square_feet        uint32 \n",
      " 6   year_built         float32\n",
      " 7   floor_count        float32\n",
      " 8   air_temperature    float32\n",
      " 9   cloud_coverage     float32\n",
      " 10  dew_temperature    float32\n",
      " 11  precip_depth_1_hr  float32\n",
      " 12  hour               uint8  \n",
      " 13  weekday            uint8  \n",
      "dtypes: float32(6), uint16(1), uint32(2), uint8(5)\n",
      "memory usage: 1.8 GB\n"
     ]
    }
   ],
   "source": [
    "X_test.info()"
   ]
  },
  {
   "cell_type": "markdown",
   "id": "induced-specification",
   "metadata": {
    "papermill": {
     "duration": 0.01825,
     "end_time": "2021-07-04T08:28:23.654629",
     "exception": false,
     "start_time": "2021-07-04T08:28:23.636379",
     "status": "completed"
    },
    "tags": []
   },
   "source": [
    "Now we add the test DataFrame to the same HDF5 file."
   ]
  },
  {
   "cell_type": "code",
   "execution_count": 11,
   "id": "egyptian-anaheim",
   "metadata": {
    "execution": {
     "iopub.execute_input": "2021-07-04T08:28:23.695979Z",
     "iopub.status.busy": "2021-07-04T08:28:23.695260Z",
     "iopub.status.idle": "2021-07-04T08:28:27.538421Z",
     "shell.execute_reply": "2021-07-04T08:28:27.539287Z",
     "shell.execute_reply.started": "2021-06-26T12:46:06.175762Z"
    },
    "papermill": {
     "duration": 3.865959,
     "end_time": "2021-07-04T08:28:27.539630",
     "exception": false,
     "start_time": "2021-07-04T08:28:23.673671",
     "status": "completed"
    },
    "tags": []
   },
   "outputs": [],
   "source": [
    "X_test.to_hdf('preprocessing_no_lag.h5', index=False, key='test')"
   ]
  },
  {
   "cell_type": "markdown",
   "id": "excess-orchestra",
   "metadata": {
    "papermill": {
     "duration": 0.093478,
     "end_time": "2021-07-04T08:28:27.696004",
     "exception": false,
     "start_time": "2021-07-04T08:28:27.602526",
     "status": "completed"
    },
    "tags": []
   },
   "source": [
    "Let us verify that HDF5 files did indeed preserve dtypes."
   ]
  },
  {
   "cell_type": "code",
   "execution_count": 12,
   "id": "macro-usage",
   "metadata": {
    "execution": {
     "iopub.execute_input": "2021-07-04T08:28:27.893539Z",
     "iopub.status.busy": "2021-07-04T08:28:27.892535Z",
     "iopub.status.idle": "2021-07-04T08:28:31.683750Z",
     "shell.execute_reply": "2021-07-04T08:28:31.682964Z",
     "shell.execute_reply.started": "2021-06-26T12:49:38.698671Z"
    },
    "papermill": {
     "duration": 3.901444,
     "end_time": "2021-07-04T08:28:31.683968",
     "exception": false,
     "start_time": "2021-07-04T08:28:27.782524",
     "status": "completed"
    },
    "tags": []
   },
   "outputs": [
    {
     "name": "stdout",
     "output_type": "stream",
     "text": [
      "<class 'pandas.core.frame.DataFrame'>\n",
      "Int64Index: 41697600 entries, 0 to 41697599\n",
      "Data columns (total 14 columns):\n",
      " #   Column             Dtype  \n",
      "---  ------             -----  \n",
      " 0   row_id             uint32 \n",
      " 1   building_id        uint16 \n",
      " 2   meter              uint8  \n",
      " 3   site_id            uint8  \n",
      " 4   primary_use        uint8  \n",
      " 5   square_feet        uint32 \n",
      " 6   year_built         float32\n",
      " 7   floor_count        float32\n",
      " 8   air_temperature    float32\n",
      " 9   cloud_coverage     float32\n",
      " 10  dew_temperature    float32\n",
      " 11  precip_depth_1_hr  float32\n",
      " 12  hour               uint8  \n",
      " 13  weekday            uint8  \n",
      "dtypes: float32(6), uint16(1), uint32(2), uint8(5)\n",
      "memory usage: 1.8 GB\n"
     ]
    }
   ],
   "source": [
    "X_test2 = pd.read_hdf('preprocessing_no_lag.h5','test')\n",
    "X_test2.info()"
   ]
  },
  {
   "cell_type": "markdown",
   "id": "involved-alignment",
   "metadata": {
    "papermill": {
     "duration": 9.347106,
     "end_time": "2021-07-04T08:28:41.052964",
     "exception": false,
     "start_time": "2021-07-04T08:28:31.705858",
     "status": "completed"
    },
    "tags": []
   },
   "source": [
    "We are now ready to load `df_train` and `X_test` in any other kernel to start modelling! If you are interested, check out the kernel at:\n",
    "\n",
    "- https://www.kaggle.com/michelezoccali/ashrae-with-fast-ai-part-2"
   ]
  }
 ],
 "metadata": {
  "kernelspec": {
   "display_name": "Python 3",
   "language": "python",
   "name": "python3"
  },
  "language_info": {
   "codemirror_mode": {
    "name": "ipython",
    "version": 3
   },
   "file_extension": ".py",
   "mimetype": "text/x-python",
   "name": "python",
   "nbconvert_exporter": "python",
   "pygments_lexer": "ipython3",
   "version": "3.7.10"
  },
  "papermill": {
   "default_parameters": {},
   "duration": 161.859417,
   "end_time": "2021-07-04T08:28:41.786231",
   "environment_variables": {},
   "exception": null,
   "input_path": "__notebook__.ipynb",
   "output_path": "__notebook__.ipynb",
   "parameters": {},
   "start_time": "2021-07-04T08:25:59.926814",
   "version": "2.3.3"
  }
 },
 "nbformat": 4,
 "nbformat_minor": 5
}
