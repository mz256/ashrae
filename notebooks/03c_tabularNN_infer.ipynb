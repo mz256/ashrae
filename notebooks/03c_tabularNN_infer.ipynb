{
 "cells": [
  {
   "cell_type": "markdown",
   "id": "dying-mission",
   "metadata": {
    "papermill": {
     "duration": 0.013547,
     "end_time": "2021-07-04T13:12:09.783802",
     "exception": false,
     "start_time": "2021-07-04T13:12:09.770255",
     "status": "completed"
    },
    "tags": []
   },
   "source": [
    "# ASHRAE with fast.ai, Part 3: Inference"
   ]
  },
  {
   "cell_type": "markdown",
   "id": "conceptual-astronomy",
   "metadata": {
    "papermill": {
     "duration": 0.011477,
     "end_time": "2021-07-04T13:12:09.807109",
     "exception": false,
     "start_time": "2021-07-04T13:12:09.795632",
     "status": "completed"
    },
    "tags": []
   },
   "source": [
    "This kernel leverages the convenient fast.ai API to prepare the test set for inference in just a few lines of code.\n",
    "\n",
    "In order to combine the large size of the ASHRAE dataset and the overhead of fast.ai's objects with the limited memory of Kaggle sessions, this kernel is part of a series which further includes:\n",
    "\n",
    "- https://www.kaggle.com/michelezoccali/ashrae-with-fast-ai-part-1 (preprocessing)\n",
    "- https://www.kaggle.com/michelezoccali/ashrae-with-fast-ai-part-2 (training)"
   ]
  },
  {
   "cell_type": "markdown",
   "id": "metropolitan-budapest",
   "metadata": {
    "papermill": {
     "duration": 0.01169,
     "end_time": "2021-07-04T13:12:09.830562",
     "exception": false,
     "start_time": "2021-07-04T13:12:09.818872",
     "status": "completed"
    },
    "tags": []
   },
   "source": [
    "# Imports"
   ]
  },
  {
   "cell_type": "code",
   "execution_count": 1,
   "id": "listed-collection",
   "metadata": {
    "_cell_guid": "b1076dfc-b9ad-4769-8c92-a6c4dae69d19",
    "_uuid": "8f2839f25d086af736a60e9eeb907d3b93b6e0e5",
    "execution": {
     "iopub.execute_input": "2021-07-04T13:12:09.863904Z",
     "iopub.status.busy": "2021-07-04T13:12:09.863349Z",
     "iopub.status.idle": "2021-07-04T13:12:12.370147Z",
     "shell.execute_reply": "2021-07-04T13:12:12.369092Z",
     "shell.execute_reply.started": "2021-07-03T14:56:09.538792Z"
    },
    "papermill": {
     "duration": 2.528117,
     "end_time": "2021-07-04T13:12:12.370321",
     "exception": false,
     "start_time": "2021-07-04T13:12:09.842204",
     "status": "completed"
    },
    "tags": []
   },
   "outputs": [],
   "source": [
    "import os\n",
    "import gc\n",
    "import sys\n",
    "import pickle\n",
    "\n",
    "import numpy as np\n",
    "import pandas as pd\n",
    "\n",
    "from tqdm.notebook import tqdm\n",
    "from fastai.tabular.all import *\n",
    "\n",
    "# plotting\n",
    "import seaborn as sns"
   ]
  },
  {
   "cell_type": "code",
   "execution_count": 2,
   "id": "experimental-responsibility",
   "metadata": {
    "execution": {
     "iopub.execute_input": "2021-07-04T13:12:12.398451Z",
     "iopub.status.busy": "2021-07-04T13:12:12.397929Z",
     "iopub.status.idle": "2021-07-04T13:12:12.417724Z",
     "shell.execute_reply": "2021-07-04T13:12:12.418248Z",
     "shell.execute_reply.started": "2021-07-03T14:56:10.571071Z"
    },
    "papermill": {
     "duration": 0.035946,
     "end_time": "2021-07-04T13:12:12.418435",
     "exception": false,
     "start_time": "2021-07-04T13:12:12.382489",
     "status": "completed"
    },
    "tags": []
   },
   "outputs": [
    {
     "name": "stdout",
     "output_type": "stream",
     "text": [
      "../input/ashrae-with-fast-ai-part-1/__results__.html\n",
      "../input/ashrae-with-fast-ai-part-1/preprocessing_no_lag.h5\n",
      "../input/ashrae-with-fast-ai-part-1/__resultx__.html\n",
      "../input/ashrae-with-fast-ai-part-1/__notebook__.ipynb\n",
      "../input/ashrae-with-fast-ai-part-1/__output__.json\n",
      "../input/ashrae-with-fast-ai-part-1/custom.css\n",
      "../input/ashrae-with-fast-ai-part-2/__results__.html\n",
      "../input/ashrae-with-fast-ai-part-2/tabular_nn.pickle\n",
      "../input/ashrae-with-fast-ai-part-2/__notebook__.ipynb\n",
      "../input/ashrae-with-fast-ai-part-2/__output__.json\n",
      "../input/ashrae-with-fast-ai-part-2/custom.css\n",
      "../input/ashrae-with-fast-ai-part-2/__results___files/__results___26_2.png\n"
     ]
    }
   ],
   "source": [
    "data_path = '../input/ashrae-with-fast-ai-part-1/'\n",
    "model_path = '../input/ashrae-with-fast-ai-part-2/'\n",
    "\n",
    "for path in [data_path, model_path]:\n",
    "    for dirname, _, filenames in os.walk(path):\n",
    "        for filename in filenames:\n",
    "            print(os.path.join(dirname, filename))"
   ]
  },
  {
   "cell_type": "markdown",
   "id": "jewish-mills",
   "metadata": {
    "papermill": {
     "duration": 0.012156,
     "end_time": "2021-07-04T13:12:12.443624",
     "exception": false,
     "start_time": "2021-07-04T13:12:12.431468",
     "status": "completed"
    },
    "tags": []
   },
   "source": [
    "# Prepare test dataset"
   ]
  },
  {
   "cell_type": "code",
   "execution_count": 3,
   "id": "critical-soldier",
   "metadata": {
    "execution": {
     "iopub.execute_input": "2021-07-04T13:12:12.471326Z",
     "iopub.status.busy": "2021-07-04T13:12:12.470838Z",
     "iopub.status.idle": "2021-07-04T13:12:27.127649Z",
     "shell.execute_reply": "2021-07-04T13:12:27.128250Z",
     "shell.execute_reply.started": "2021-07-03T14:56:10.591773Z"
    },
    "papermill": {
     "duration": 14.672728,
     "end_time": "2021-07-04T13:12:27.128460",
     "exception": false,
     "start_time": "2021-07-04T13:12:12.455732",
     "status": "completed"
    },
    "tags": []
   },
   "outputs": [
    {
     "name": "stdout",
     "output_type": "stream",
     "text": [
      "<class 'pandas.core.frame.DataFrame'>\n",
      "Int64Index: 41697600 entries, 0 to 41697599\n",
      "Data columns (total 14 columns):\n",
      " #   Column             Dtype  \n",
      "---  ------             -----  \n",
      " 0   row_id             uint32 \n",
      " 1   building_id        uint16 \n",
      " 2   meter              uint8  \n",
      " 3   site_id            uint8  \n",
      " 4   primary_use        uint8  \n",
      " 5   square_feet        uint32 \n",
      " 6   year_built         float32\n",
      " 7   floor_count        float32\n",
      " 8   air_temperature    float32\n",
      " 9   cloud_coverage     float32\n",
      " 10  dew_temperature    float32\n",
      " 11  precip_depth_1_hr  float32\n",
      " 12  hour               uint8  \n",
      " 13  weekday            uint8  \n",
      "dtypes: float32(6), uint16(1), uint32(2), uint8(5)\n",
      "memory usage: 1.8 GB\n"
     ]
    }
   ],
   "source": [
    "#%%time\n",
    "X_test = pd.read_hdf(data_path + 'preprocessing_no_lag.h5', 'test')\n",
    "X_test.info()"
   ]
  },
  {
   "cell_type": "code",
   "execution_count": 4,
   "id": "pending-outreach",
   "metadata": {
    "execution": {
     "iopub.execute_input": "2021-07-04T13:12:27.159808Z",
     "iopub.status.busy": "2021-07-04T13:12:27.158896Z",
     "iopub.status.idle": "2021-07-04T13:12:28.191936Z",
     "shell.execute_reply": "2021-07-04T13:12:28.192342Z",
     "shell.execute_reply.started": "2021-07-03T14:56:28.175154Z"
    },
    "papermill": {
     "duration": 1.050495,
     "end_time": "2021-07-04T13:12:28.192502",
     "exception": false,
     "start_time": "2021-07-04T13:12:27.142007",
     "status": "completed"
    },
    "tags": []
   },
   "outputs": [
    {
     "data": {
      "text/plain": [
       "0"
      ]
     },
     "execution_count": 4,
     "metadata": {},
     "output_type": "execute_result"
    }
   ],
   "source": [
    "row_ids = X_test.row_id # for submission file\n",
    "X_test = X_test.drop(columns='row_id')\n",
    "\n",
    "gc.collect()"
   ]
  },
  {
   "cell_type": "code",
   "execution_count": 5,
   "id": "square-maintenance",
   "metadata": {
    "execution": {
     "iopub.execute_input": "2021-07-04T13:12:28.221929Z",
     "iopub.status.busy": "2021-07-04T13:12:28.221414Z",
     "iopub.status.idle": "2021-07-04T13:12:28.224872Z",
     "shell.execute_reply": "2021-07-04T13:12:28.225226Z",
     "shell.execute_reply.started": "2021-07-03T14:56:29.302517Z"
    },
    "papermill": {
     "duration": 0.020091,
     "end_time": "2021-07-04T13:12:28.225340",
     "exception": false,
     "start_time": "2021-07-04T13:12:28.205249",
     "status": "completed"
    },
    "tags": []
   },
   "outputs": [],
   "source": [
    "procs_nn = [Categorify, Normalize]\n",
    "cont = ['building_id','square_feet','year_built','floor_count','air_temperature','cloud_coverage',\n",
    "       'dew_temperature','precip_depth_1_hr']\n",
    "cat = ['meter','site_id','primary_use','hour','weekday']"
   ]
  },
  {
   "cell_type": "markdown",
   "id": "beautiful-forth",
   "metadata": {
    "papermill": {
     "duration": 0.012432,
     "end_time": "2021-07-04T13:12:28.250364",
     "exception": false,
     "start_time": "2021-07-04T13:12:28.237932",
     "status": "completed"
    },
    "tags": []
   },
   "source": [
    "Let's create a TabularPandas instance with the same transforms of the training set."
   ]
  },
  {
   "cell_type": "code",
   "execution_count": 6,
   "id": "sacred-installation",
   "metadata": {
    "execution": {
     "iopub.execute_input": "2021-07-04T13:12:28.280002Z",
     "iopub.status.busy": "2021-07-04T13:12:28.279530Z",
     "iopub.status.idle": "2021-07-04T13:13:05.303220Z",
     "shell.execute_reply": "2021-07-04T13:13:05.303653Z",
     "shell.execute_reply.started": "2021-07-03T14:56:30.781660Z"
    },
    "papermill": {
     "duration": 37.04084,
     "end_time": "2021-07-04T13:13:05.303836",
     "exception": false,
     "start_time": "2021-07-04T13:12:28.262996",
     "status": "completed"
    },
    "tags": []
   },
   "outputs": [
    {
     "data": {
      "text/plain": [
       "52"
      ]
     },
     "execution_count": 6,
     "metadata": {},
     "output_type": "execute_result"
    }
   ],
   "source": [
    "test = TabularPandas(X_test, procs_nn, cat, cont, inplace=True, reduce_memory=True)\n",
    "\n",
    "del X_test, procs_nn, cat, cont\n",
    "gc.collect()"
   ]
  },
  {
   "cell_type": "markdown",
   "id": "wireless-waters",
   "metadata": {
    "papermill": {
     "duration": 0.012899,
     "end_time": "2021-07-04T13:13:05.329993",
     "exception": false,
     "start_time": "2021-07-04T13:13:05.317094",
     "status": "completed"
    },
    "tags": []
   },
   "source": [
    "We can now load our trained neural network back in..."
   ]
  },
  {
   "cell_type": "code",
   "execution_count": 7,
   "id": "consecutive-membership",
   "metadata": {
    "execution": {
     "iopub.execute_input": "2021-07-04T13:13:05.359773Z",
     "iopub.status.busy": "2021-07-04T13:13:05.359159Z",
     "iopub.status.idle": "2021-07-04T13:13:23.541962Z",
     "shell.execute_reply": "2021-07-04T13:13:23.541443Z"
    },
    "papermill": {
     "duration": 18.199325,
     "end_time": "2021-07-04T13:13:23.542103",
     "exception": false,
     "start_time": "2021-07-04T13:13:05.342778",
     "status": "completed"
    },
    "tags": []
   },
   "outputs": [],
   "source": [
    "with open(f'{model_path}/tabular_nn.pickle', mode='rb') as f:\n",
    "    learn = pickle.load(f)"
   ]
  },
  {
   "cell_type": "markdown",
   "id": "varied-terrorist",
   "metadata": {
    "papermill": {
     "duration": 0.01293,
     "end_time": "2021-07-04T13:13:23.568591",
     "exception": false,
     "start_time": "2021-07-04T13:13:23.555661",
     "status": "completed"
    },
    "tags": []
   },
   "source": [
    "...and predict with it."
   ]
  },
  {
   "cell_type": "code",
   "execution_count": 8,
   "id": "earlier-colorado",
   "metadata": {
    "execution": {
     "iopub.execute_input": "2021-07-04T13:13:23.601042Z",
     "iopub.status.busy": "2021-07-04T13:13:23.600258Z",
     "iopub.status.idle": "2021-07-04T13:15:19.175205Z",
     "shell.execute_reply": "2021-07-04T13:15:19.174747Z",
     "shell.execute_reply.started": "2021-07-03T14:58:01.891572Z"
    },
    "papermill": {
     "duration": 115.59379,
     "end_time": "2021-07-04T13:15:19.175331",
     "exception": false,
     "start_time": "2021-07-04T13:13:23.581541",
     "status": "completed"
    },
    "tags": []
   },
   "outputs": [
    {
     "data": {
      "application/vnd.jupyter.widget-view+json": {
       "model_id": "f9484631badc4e27944bbfd85dae0c8f",
       "version_major": 2,
       "version_minor": 0
      },
      "text/plain": [
       "  0%|          | 0/30 [00:00<?, ?it/s]"
      ]
     },
     "metadata": {},
     "output_type": "display_data"
    },
    {
     "data": {
      "text/html": [],
      "text/plain": [
       "<IPython.core.display.HTML object>"
      ]
     },
     "metadata": {},
     "output_type": "display_data"
    },
    {
     "name": "stderr",
     "output_type": "stream",
     "text": [
      "/opt/conda/lib/python3.7/site-packages/fastai/learner.py:172: UserWarning: Using a target size (torch.Size([1389920, 0])) that is different to the input size (torch.Size([1389920, 1])). This will likely lead to incorrect results due to broadcasting. Please ensure they have the same size.\n",
      "  self.loss_grad = self.loss_func(self.pred, *self.yb)\n"
     ]
    },
    {
     "data": {
      "text/html": [],
      "text/plain": [
       "<IPython.core.display.HTML object>"
      ]
     },
     "metadata": {},
     "output_type": "display_data"
    },
    {
     "data": {
      "text/html": [],
      "text/plain": [
       "<IPython.core.display.HTML object>"
      ]
     },
     "metadata": {},
     "output_type": "display_data"
    },
    {
     "data": {
      "text/html": [],
      "text/plain": [
       "<IPython.core.display.HTML object>"
      ]
     },
     "metadata": {},
     "output_type": "display_data"
    },
    {
     "data": {
      "text/html": [],
      "text/plain": [
       "<IPython.core.display.HTML object>"
      ]
     },
     "metadata": {},
     "output_type": "display_data"
    },
    {
     "data": {
      "text/html": [],
      "text/plain": [
       "<IPython.core.display.HTML object>"
      ]
     },
     "metadata": {},
     "output_type": "display_data"
    },
    {
     "data": {
      "text/html": [],
      "text/plain": [
       "<IPython.core.display.HTML object>"
      ]
     },
     "metadata": {},
     "output_type": "display_data"
    },
    {
     "data": {
      "text/html": [],
      "text/plain": [
       "<IPython.core.display.HTML object>"
      ]
     },
     "metadata": {},
     "output_type": "display_data"
    },
    {
     "data": {
      "text/html": [],
      "text/plain": [
       "<IPython.core.display.HTML object>"
      ]
     },
     "metadata": {},
     "output_type": "display_data"
    },
    {
     "data": {
      "text/html": [],
      "text/plain": [
       "<IPython.core.display.HTML object>"
      ]
     },
     "metadata": {},
     "output_type": "display_data"
    },
    {
     "data": {
      "text/html": [],
      "text/plain": [
       "<IPython.core.display.HTML object>"
      ]
     },
     "metadata": {},
     "output_type": "display_data"
    },
    {
     "data": {
      "text/html": [],
      "text/plain": [
       "<IPython.core.display.HTML object>"
      ]
     },
     "metadata": {},
     "output_type": "display_data"
    },
    {
     "data": {
      "text/html": [],
      "text/plain": [
       "<IPython.core.display.HTML object>"
      ]
     },
     "metadata": {},
     "output_type": "display_data"
    },
    {
     "data": {
      "text/html": [],
      "text/plain": [
       "<IPython.core.display.HTML object>"
      ]
     },
     "metadata": {},
     "output_type": "display_data"
    },
    {
     "data": {
      "text/html": [],
      "text/plain": [
       "<IPython.core.display.HTML object>"
      ]
     },
     "metadata": {},
     "output_type": "display_data"
    },
    {
     "data": {
      "text/html": [],
      "text/plain": [
       "<IPython.core.display.HTML object>"
      ]
     },
     "metadata": {},
     "output_type": "display_data"
    },
    {
     "data": {
      "text/html": [],
      "text/plain": [
       "<IPython.core.display.HTML object>"
      ]
     },
     "metadata": {},
     "output_type": "display_data"
    },
    {
     "data": {
      "text/html": [],
      "text/plain": [
       "<IPython.core.display.HTML object>"
      ]
     },
     "metadata": {},
     "output_type": "display_data"
    },
    {
     "data": {
      "text/html": [],
      "text/plain": [
       "<IPython.core.display.HTML object>"
      ]
     },
     "metadata": {},
     "output_type": "display_data"
    },
    {
     "data": {
      "text/html": [],
      "text/plain": [
       "<IPython.core.display.HTML object>"
      ]
     },
     "metadata": {},
     "output_type": "display_data"
    },
    {
     "data": {
      "text/html": [],
      "text/plain": [
       "<IPython.core.display.HTML object>"
      ]
     },
     "metadata": {},
     "output_type": "display_data"
    },
    {
     "data": {
      "text/html": [],
      "text/plain": [
       "<IPython.core.display.HTML object>"
      ]
     },
     "metadata": {},
     "output_type": "display_data"
    },
    {
     "data": {
      "text/html": [],
      "text/plain": [
       "<IPython.core.display.HTML object>"
      ]
     },
     "metadata": {},
     "output_type": "display_data"
    },
    {
     "data": {
      "text/html": [],
      "text/plain": [
       "<IPython.core.display.HTML object>"
      ]
     },
     "metadata": {},
     "output_type": "display_data"
    },
    {
     "data": {
      "text/html": [],
      "text/plain": [
       "<IPython.core.display.HTML object>"
      ]
     },
     "metadata": {},
     "output_type": "display_data"
    },
    {
     "data": {
      "text/html": [],
      "text/plain": [
       "<IPython.core.display.HTML object>"
      ]
     },
     "metadata": {},
     "output_type": "display_data"
    },
    {
     "data": {
      "text/html": [],
      "text/plain": [
       "<IPython.core.display.HTML object>"
      ]
     },
     "metadata": {},
     "output_type": "display_data"
    },
    {
     "data": {
      "text/html": [],
      "text/plain": [
       "<IPython.core.display.HTML object>"
      ]
     },
     "metadata": {},
     "output_type": "display_data"
    },
    {
     "data": {
      "text/html": [],
      "text/plain": [
       "<IPython.core.display.HTML object>"
      ]
     },
     "metadata": {},
     "output_type": "display_data"
    },
    {
     "data": {
      "text/html": [],
      "text/plain": [
       "<IPython.core.display.HTML object>"
      ]
     },
     "metadata": {},
     "output_type": "display_data"
    }
   ],
   "source": [
    "n_iterations = 30\n",
    "batch_size = len(test) // n_iterations\n",
    "\n",
    "preds = []\n",
    "for i in tqdm(range(n_iterations)):\n",
    "    start = i * batch_size\n",
    "    test_batch = test.iloc[start:start + batch_size]\n",
    "    test_dl = TabDataLoader(test_batch, bs=batch_size, shuffle=False, drop_last=False)\n",
    "    \n",
    "    del test_batch; gc.collect()\n",
    "    \n",
    "    batch_preds, _ = learn.get_preds(dl=test_dl)\n",
    "    batch_preds = to_np(batch_preds.squeeze())\n",
    "    preds.extend(np.expm1(batch_preds))\n",
    "    \n",
    "    del test_dl, batch_preds; gc.collect()"
   ]
  },
  {
   "cell_type": "markdown",
   "id": "exterior-substance",
   "metadata": {
    "papermill": {
     "duration": 0.025197,
     "end_time": "2021-07-04T13:15:19.228533",
     "exception": false,
     "start_time": "2021-07-04T13:15:19.203336",
     "status": "completed"
    },
    "tags": []
   },
   "source": [
    "At last, we can save our predictions (clipped at 0 on the left as negative meter readings do not make much sense) and inspect their distribution."
   ]
  },
  {
   "cell_type": "code",
   "execution_count": 9,
   "id": "meaningful-paragraph",
   "metadata": {
    "execution": {
     "iopub.execute_input": "2021-07-04T13:15:25.132355Z",
     "iopub.status.busy": "2021-07-04T13:15:25.131094Z",
     "iopub.status.idle": "2021-07-04T13:17:27.144522Z",
     "shell.execute_reply": "2021-07-04T13:17:27.143934Z",
     "shell.execute_reply.started": "2021-07-03T15:00:43.797935Z"
    },
    "papermill": {
     "duration": 127.890708,
     "end_time": "2021-07-04T13:17:27.144656",
     "exception": false,
     "start_time": "2021-07-04T13:15:19.253948",
     "status": "completed"
    },
    "tags": []
   },
   "outputs": [],
   "source": [
    "submission = pd.DataFrame({'row_id':row_ids, 'meter_reading':np.clip(preds, 0, a_max=None)})\n",
    "submission.to_csv('submission.csv', index=False)\n",
    "\n",
    "del preds"
   ]
  },
  {
   "cell_type": "code",
   "execution_count": 10,
   "id": "active-thumb",
   "metadata": {
    "execution": {
     "iopub.execute_input": "2021-07-04T13:17:27.200326Z",
     "iopub.status.busy": "2021-07-04T13:17:27.199459Z",
     "iopub.status.idle": "2021-07-04T13:17:29.638804Z",
     "shell.execute_reply": "2021-07-04T13:17:29.638367Z",
     "shell.execute_reply.started": "2021-07-03T15:03:17.547566Z"
    },
    "papermill": {
     "duration": 2.468672,
     "end_time": "2021-07-04T13:17:29.638931",
     "exception": false,
     "start_time": "2021-07-04T13:17:27.170259",
     "status": "completed"
    },
    "tags": []
   },
   "outputs": [
    {
     "name": "stdout",
     "output_type": "stream",
     "text": [
      "(41697600,)\n"
     ]
    },
    {
     "data": {
      "image/png": "[encoded data removed]",
      "text/plain": [
       "<Figure size 432x288 with 1 Axes>"
      ]
     },
     "metadata": {
      "needs_background": "light"
     },
     "output_type": "display_data"
    }
   ],
   "source": [
    "logs = np.log1p(submission.meter_reading)\n",
    "print(logs.shape)\n",
    "np.log1p(submission.meter_reading).hist(bins=100);"
   ]
  },
  {
   "cell_type": "code",
   "execution_count": 11,
   "id": "pediatric-video",
   "metadata": {
    "execution": {
     "iopub.execute_input": "2021-07-04T13:17:29.695682Z",
     "iopub.status.busy": "2021-07-04T13:17:29.694967Z",
     "iopub.status.idle": "2021-07-04T13:17:29.697388Z",
     "shell.execute_reply": "2021-07-04T13:17:29.697830Z",
     "shell.execute_reply.started": "2021-07-03T15:03:25.961047Z"
    },
    "papermill": {
     "duration": 0.032508,
     "end_time": "2021-07-04T13:17:29.697968",
     "exception": false,
     "start_time": "2021-07-04T13:17:29.665460",
     "status": "completed"
    },
    "tags": []
   },
   "outputs": [],
   "source": [
    "#sns.displot(logs);"
   ]
  },
  {
   "cell_type": "code",
   "execution_count": 12,
   "id": "present-separate",
   "metadata": {
    "execution": {
     "iopub.execute_input": "2021-07-04T13:17:29.754952Z",
     "iopub.status.busy": "2021-07-04T13:17:29.753930Z",
     "iopub.status.idle": "2021-07-04T13:17:30.184042Z",
     "shell.execute_reply": "2021-07-04T13:17:30.184477Z",
     "shell.execute_reply.started": "2021-07-03T15:04:28.333243Z"
    },
    "papermill": {
     "duration": 0.460422,
     "end_time": "2021-07-04T13:17:30.184624",
     "exception": false,
     "start_time": "2021-07-04T13:17:29.724202",
     "status": "completed"
    },
    "tags": []
   },
   "outputs": [
    {
     "data": {
      "text/plain": [
       "(3.9269902e-12, 1157407.2, 421.07315)"
      ]
     },
     "execution_count": 12,
     "metadata": {},
     "output_type": "execute_result"
    }
   ],
   "source": [
    "submission.meter_reading.min(), submission.meter_reading.max(), submission.meter_reading.mean()"
   ]
  },
  {
   "cell_type": "markdown",
   "id": "lesser-constitution",
   "metadata": {
    "papermill": {
     "duration": 0.026126,
     "end_time": "2021-07-04T13:17:30.237092",
     "exception": false,
     "start_time": "2021-07-04T13:17:30.210966",
     "status": "completed"
    },
    "tags": []
   },
   "source": [
    "And now we are done!\n",
    "\n",
    "If anyone has any tips regarding a better management of memory resources (with or without fast.ai classes), so as to fit all of this in a single kernel for instance, they'd be greatly appreciated! 😉"
   ]
  }
 ],
 "metadata": {
  "kernelspec": {
   "display_name": "Python 3",
   "language": "python",
   "name": "python3"
  },
  "language_info": {
   "codemirror_mode": {
    "name": "ipython",
    "version": 3
   },
   "file_extension": ".py",
   "mimetype": "text/x-python",
   "name": "python",
   "nbconvert_exporter": "python",
   "pygments_lexer": "ipython3",
   "version": "3.7.10"
  },
  "papermill": {
   "default_parameters": {},
   "duration": 329.765545,
   "end_time": "2021-07-04T13:17:32.574312",
   "environment_variables": {},
   "exception": null,
   "input_path": "__notebook__.ipynb",
   "output_path": "__notebook__.ipynb",
   "parameters": {},
   "start_time": "2021-07-04T13:12:02.808767",
   "version": "2.3.3"
  },
  "widgets": {
   "application/vnd.jupyter.widget-state+json": {
    "state": {
     "1c1639ca842c4eb28415f720cb15e2e4": {
      "model_module": "@jupyter-widgets/controls",
      "model_module_version": "1.5.0",
      "model_name": "HTMLModel",
      "state": {
       "_dom_classes": [],
       "_model_module": "@jupyter-widgets/controls",
       "_model_module_version": "1.5.0",
       "_model_name": "HTMLModel",
       "_view_count": null,
       "_view_module": "@jupyter-widgets/controls",
       "_view_module_version": "1.5.0",
       "_view_name": "HTMLView",
       "description": "",
       "description_tooltip": null,
       "layout": "IPY_MODEL_60d20353b9554d5c8683adf07be6323d",
       "placeholder": "​",
       "style": "IPY_MODEL_58bb27c15e164b089a9b352c2f4a3177",
       "value": " 30/30 [01:55&lt;00:00,  4.07s/it]"
      }
     },
     "2e0ce51510ae4593828cf865e1273a55": {
      "model_module": "@jupyter-widgets/base",
      "model_module_version": "1.2.0",
      "model_name": "LayoutModel",
      "state": {
       "_model_module": "@jupyter-widgets/base",
       "_model_module_version": "1.2.0",
       "_model_name": "LayoutModel",
       "_view_count": null,
       "_view_module": "@jupyter-widgets/base",
       "_view_module_version": "1.2.0",
       "_view_name": "LayoutView",
       "align_content": null,
       "align_items": null,
       "align_self": null,
       "border": null,
       "bottom": null,
       "display": null,
       "flex": null,
       "flex_flow": null,
       "grid_area": null,
       "grid_auto_columns": null,
       "grid_auto_flow": null,
       "grid_auto_rows": null,
       "grid_column": null,
       "grid_gap": null,
       "grid_row": null,
       "grid_template_areas": null,
       "grid_template_columns": null,
       "grid_template_rows": null,
       "height": null,
       "justify_content": null,
       "justify_items": null,
       "left": null,
       "margin": null,
       "max_height": null,
       "max_width": null,
       "min_height": null,
       "min_width": null,
       "object_fit": null,
       "object_position": null,
       "order": null,
       "overflow": null,
       "overflow_x": null,
       "overflow_y": null,
       "padding": null,
       "right": null,
       "top": null,
       "visibility": null,
       "width": null
      }
     },
     "46556ff00bd440aa837864b9a9dc64ce": {
      "model_module": "@jupyter-widgets/controls",
      "model_module_version": "1.5.0",
      "model_name": "DescriptionStyleModel",
      "state": {
       "_model_module": "@jupyter-widgets/controls",
       "_model_module_version": "1.5.0",
       "_model_name": "DescriptionStyleModel",
       "_view_count": null,
       "_view_module": "@jupyter-widgets/base",
       "_view_module_version": "1.2.0",
       "_view_name": "StyleView",
       "description_width": ""
      }
     },
     "55de641408c741e0b6a0aeb0660dc06f": {
      "model_module": "@jupyter-widgets/controls",
      "model_module_version": "1.5.0",
      "model_name": "ProgressStyleModel",
      "state": {
       "_model_module": "@jupyter-widgets/controls",
       "_model_module_version": "1.5.0",
       "_model_name": "ProgressStyleModel",
       "_view_count": null,
       "_view_module": "@jupyter-widgets/base",
       "_view_module_version": "1.2.0",
       "_view_name": "StyleView",
       "bar_color": null,
       "description_width": ""
      }
     },
     "58bb27c15e164b089a9b352c2f4a3177": {
      "model_module": "@jupyter-widgets/controls",
      "model_module_version": "1.5.0",
      "model_name": "DescriptionStyleModel",
      "state": {
       "_model_module": "@jupyter-widgets/controls",
       "_model_module_version": "1.5.0",
       "_model_name": "DescriptionStyleModel",
       "_view_count": null,
       "_view_module": "@jupyter-widgets/base",
       "_view_module_version": "1.2.0",
       "_view_name": "StyleView",
       "description_width": ""
      }
     },
     "60d20353b9554d5c8683adf07be6323d": {
      "model_module": "@jupyter-widgets/base",
      "model_module_version": "1.2.0",
      "model_name": "LayoutModel",
      "state": {
       "_model_module": "@jupyter-widgets/base",
       "_model_module_version": "1.2.0",
       "_model_name": "LayoutModel",
       "_view_count": null,
       "_view_module": "@jupyter-widgets/base",
       "_view_module_version": "1.2.0",
       "_view_name": "LayoutView",
       "align_content": null,
       "align_items": null,
       "align_self": null,
       "border": null,
       "bottom": null,
       "display": null,
       "flex": null,
       "flex_flow": null,
       "grid_area": null,
       "grid_auto_columns": null,
       "grid_auto_flow": null,
       "grid_auto_rows": null,
       "grid_column": null,
       "grid_gap": null,
       "grid_row": null,
       "grid_template_areas": null,
       "grid_template_columns": null,
       "grid_template_rows": null,
       "height": null,
       "justify_content": null,
       "justify_items": null,
       "left": null,
       "margin": null,
       "max_height": null,
       "max_width": null,
       "min_height": null,
       "min_width": null,
       "object_fit": null,
       "object_position": null,
       "order": null,
       "overflow": null,
       "overflow_x": null,
       "overflow_y": null,
       "padding": null,
       "right": null,
       "top": null,
       "visibility": null,
       "width": null
      }
     },
     "8f9e1f02e66c49539009b2bc01b1af57": {
      "model_module": "@jupyter-widgets/controls",
      "model_module_version": "1.5.0",
      "model_name": "FloatProgressModel",
      "state": {
       "_dom_classes": [],
       "_model_module": "@jupyter-widgets/controls",
       "_model_module_version": "1.5.0",
       "_model_name": "FloatProgressModel",
       "_view_count": null,
       "_view_module": "@jupyter-widgets/controls",
       "_view_module_version": "1.5.0",
       "_view_name": "ProgressView",
       "bar_style": "success",
       "description": "",
       "description_tooltip": null,
       "layout": "IPY_MODEL_c754da2db1864783a29e61adb7395f86",
       "max": 30.0,
       "min": 0.0,
       "orientation": "horizontal",
       "style": "IPY_MODEL_55de641408c741e0b6a0aeb0660dc06f",
       "value": 30.0
      }
     },
     "c754da2db1864783a29e61adb7395f86": {
      "model_module": "@jupyter-widgets/base",
      "model_module_version": "1.2.0",
      "model_name": "LayoutModel",
      "state": {
       "_model_module": "@jupyter-widgets/base",
       "_model_module_version": "1.2.0",
       "_model_name": "LayoutModel",
       "_view_count": null,
       "_view_module": "@jupyter-widgets/base",
       "_view_module_version": "1.2.0",
       "_view_name": "LayoutView",
       "align_content": null,
       "align_items": null,
       "align_self": null,
       "border": null,
       "bottom": null,
       "display": null,
       "flex": null,
       "flex_flow": null,
       "grid_area": null,
       "grid_auto_columns": null,
       "grid_auto_flow": null,
       "grid_auto_rows": null,
       "grid_column": null,
       "grid_gap": null,
       "grid_row": null,
       "grid_template_areas": null,
       "grid_template_columns": null,
       "grid_template_rows": null,
       "height": null,
       "justify_content": null,
       "justify_items": null,
       "left": null,
       "margin": null,
       "max_height": null,
       "max_width": null,
       "min_height": null,
       "min_width": null,
       "object_fit": null,
       "object_position": null,
       "order": null,
       "overflow": null,
       "overflow_x": null,
       "overflow_y": null,
       "padding": null,
       "right": null,
       "top": null,
       "visibility": null,
       "width": null
      }
     },
     "d441a5edfd6641c2880d13d3e9e3323a": {
      "model_module": "@jupyter-widgets/controls",
      "model_module_version": "1.5.0",
      "model_name": "HTMLModel",
      "state": {
       "_dom_classes": [],
       "_model_module": "@jupyter-widgets/controls",
       "_model_module_version": "1.5.0",
       "_model_name": "HTMLModel",
       "_view_count": null,
       "_view_module": "@jupyter-widgets/controls",
       "_view_module_version": "1.5.0",
       "_view_name": "HTMLView",
       "description": "",
       "description_tooltip": null,
       "layout": "IPY_MODEL_2e0ce51510ae4593828cf865e1273a55",
       "placeholder": "​",
       "style": "IPY_MODEL_46556ff00bd440aa837864b9a9dc64ce",
       "value": "100%"
      }
     },
     "f7bc42d02a8a4db7bb444b694d147209": {
      "model_module": "@jupyter-widgets/base",
      "model_module_version": "1.2.0",
      "model_name": "LayoutModel",
      "state": {
       "_model_module": "@jupyter-widgets/base",
       "_model_module_version": "1.2.0",
       "_model_name": "LayoutModel",
       "_view_count": null,
       "_view_module": "@jupyter-widgets/base",
       "_view_module_version": "1.2.0",
       "_view_name": "LayoutView",
       "align_content": null,
       "align_items": null,
       "align_self": null,
       "border": null,
       "bottom": null,
       "display": null,
       "flex": null,
       "flex_flow": null,
       "grid_area": null,
       "grid_auto_columns": null,
       "grid_auto_flow": null,
       "grid_auto_rows": null,
       "grid_column": null,
       "grid_gap": null,
       "grid_row": null,
       "grid_template_areas": null,
       "grid_template_columns": null,
       "grid_template_rows": null,
       "height": null,
       "justify_content": null,
       "justify_items": null,
       "left": null,
       "margin": null,
       "max_height": null,
       "max_width": null,
       "min_height": null,
       "min_width": null,
       "object_fit": null,
       "object_position": null,
       "order": null,
       "overflow": null,
       "overflow_x": null,
       "overflow_y": null,
       "padding": null,
       "right": null,
       "top": null,
       "visibility": null,
       "width": null
      }
     },
     "f9484631badc4e27944bbfd85dae0c8f": {
      "model_module": "@jupyter-widgets/controls",
      "model_module_version": "1.5.0",
      "model_name": "HBoxModel",
      "state": {
       "_dom_classes": [],
       "_model_module": "@jupyter-widgets/controls",
       "_model_module_version": "1.5.0",
       "_model_name": "HBoxModel",
       "_view_count": null,
       "_view_module": "@jupyter-widgets/controls",
       "_view_module_version": "1.5.0",
       "_view_name": "HBoxView",
       "box_style": "",
       "children": [
        "IPY_MODEL_d441a5edfd6641c2880d13d3e9e3323a",
        "IPY_MODEL_8f9e1f02e66c49539009b2bc01b1af57",
        "IPY_MODEL_1c1639ca842c4eb28415f720cb15e2e4"
       ],
       "layout": "IPY_MODEL_f7bc42d02a8a4db7bb444b694d147209"
      }
     }
    },
    "version_major": 2,
    "version_minor": 0
   }
  }
 },
 "nbformat": 4,
 "nbformat_minor": 5
}
