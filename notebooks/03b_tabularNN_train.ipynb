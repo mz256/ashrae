{
 "cells": [
  {
   "cell_type": "markdown",
   "id": "suffering-share",
   "metadata": {
    "papermill": {
     "duration": 0.019969,
     "end_time": "2021-07-04T11:32:34.368467",
     "exception": false,
     "start_time": "2021-07-04T11:32:34.348498",
     "status": "completed"
    },
    "tags": []
   },
   "source": [
    "# ASHRAE with fast.ai, Part 2: Training"
   ]
  },
  {
   "cell_type": "markdown",
   "id": "taken-violin",
   "metadata": {
    "papermill": {
     "duration": 0.01902,
     "end_time": "2021-07-04T11:32:34.406352",
     "exception": false,
     "start_time": "2021-07-04T11:32:34.387332",
     "status": "completed"
    },
    "tags": []
   },
   "source": [
    "This kernel leverages the convenient fast.ai API to prepare the dataset for training in just a few lines of code. It then trains a neural network adapted for tabular data.\n",
    "\n",
    "In order to combine the large size of the ASHRAE dataset and the overhead of fast.ai's objects with the limited memory of Kaggle sessions, this kernel is part of a series which further includes:\n",
    "\n",
    "- https://www.kaggle.com/michelezoccali/ashrae-with-fast-ai-part-1 (preprocessing)\n",
    "- https://www.kaggle.com/michelezoccali/ashrae-with-fast-ai-part-3 (inference)"
   ]
  },
  {
   "cell_type": "markdown",
   "id": "expensive-range",
   "metadata": {
    "papermill": {
     "duration": 0.018463,
     "end_time": "2021-07-04T11:32:34.444181",
     "exception": false,
     "start_time": "2021-07-04T11:32:34.425718",
     "status": "completed"
    },
    "tags": []
   },
   "source": [
    "# Imports"
   ]
  },
  {
   "cell_type": "code",
   "execution_count": 1,
   "id": "careful-equipment",
   "metadata": {
    "execution": {
     "iopub.execute_input": "2021-07-04T11:32:34.486974Z",
     "iopub.status.busy": "2021-07-04T11:32:34.485450Z",
     "iopub.status.idle": "2021-07-04T11:32:36.877164Z",
     "shell.execute_reply": "2021-07-04T11:32:36.876599Z",
     "shell.execute_reply.started": "2021-07-04T07:49:32.592374Z"
    },
    "papermill": {
     "duration": 2.414359,
     "end_time": "2021-07-04T11:32:36.877351",
     "exception": false,
     "start_time": "2021-07-04T11:32:34.462992",
     "status": "completed"
    },
    "tags": []
   },
   "outputs": [],
   "source": [
    "import os\n",
    "import gc\n",
    "import sys\n",
    "import psutil\n",
    "\n",
    "import numpy as np\n",
    "import pandas as pd\n",
    "import datetime\n",
    "import warnings\n",
    "\n",
    "from tqdm.notebook import tqdm\n",
    "from sklearn.metrics import mean_squared_error\n",
    "from fastai.tabular.all import *\n",
    "\n",
    "# plotting\n",
    "import matplotlib.pyplot as plt\n",
    "import seaborn as sns"
   ]
  },
  {
   "cell_type": "markdown",
   "id": "studied-material",
   "metadata": {
    "papermill": {
     "duration": 0.018551,
     "end_time": "2021-07-04T11:32:36.915184",
     "exception": false,
     "start_time": "2021-07-04T11:32:36.896633",
     "status": "completed"
    },
    "tags": []
   },
   "source": [
    "The pre-processed DataFrames can be accessed in the input folder, in the `ashrae-with-fast-ai-part-1` subdirectory."
   ]
  },
  {
   "cell_type": "code",
   "execution_count": 2,
   "id": "bizarre-element",
   "metadata": {
    "execution": {
     "iopub.execute_input": "2021-07-04T11:32:36.957027Z",
     "iopub.status.busy": "2021-07-04T11:32:36.956362Z",
     "iopub.status.idle": "2021-07-04T11:32:36.967631Z",
     "shell.execute_reply": "2021-07-04T11:32:36.967996Z",
     "shell.execute_reply.started": "2021-07-04T07:49:35.94701Z"
    },
    "papermill": {
     "duration": 0.034351,
     "end_time": "2021-07-04T11:32:36.968141",
     "exception": false,
     "start_time": "2021-07-04T11:32:36.933790",
     "status": "completed"
    },
    "tags": []
   },
   "outputs": [
    {
     "name": "stdout",
     "output_type": "stream",
     "text": [
      "../input/ashrae-with-fast-ai-part-1/__results__.html\n",
      "../input/ashrae-with-fast-ai-part-1/preprocessing_no_lag.h5\n",
      "../input/ashrae-with-fast-ai-part-1/__resultx__.html\n",
      "../input/ashrae-with-fast-ai-part-1/__notebook__.ipynb\n",
      "../input/ashrae-with-fast-ai-part-1/__output__.json\n",
      "../input/ashrae-with-fast-ai-part-1/custom.css\n"
     ]
    }
   ],
   "source": [
    "path = '../input/ashrae-with-fast-ai-part-1/'\n",
    "\n",
    "for dirname, _, filenames in os.walk(path):\n",
    "    for filename in filenames:\n",
    "        print(os.path.join(dirname, filename))"
   ]
  },
  {
   "cell_type": "markdown",
   "id": "attended-material",
   "metadata": {
    "papermill": {
     "duration": 0.01909,
     "end_time": "2021-07-04T11:32:37.006677",
     "exception": false,
     "start_time": "2021-07-04T11:32:36.987587",
     "status": "completed"
    },
    "tags": []
   },
   "source": [
    "# Load data"
   ]
  },
  {
   "cell_type": "markdown",
   "id": "casual-workstation",
   "metadata": {
    "papermill": {
     "duration": 0.019376,
     "end_time": "2021-07-04T11:32:37.045151",
     "exception": false,
     "start_time": "2021-07-04T11:32:37.025775",
     "status": "completed"
    },
    "tags": []
   },
   "source": [
    "Let's load the preprocessed training dataset without lag features."
   ]
  },
  {
   "cell_type": "code",
   "execution_count": 3,
   "id": "ruled-telephone",
   "metadata": {
    "execution": {
     "iopub.execute_input": "2021-07-04T11:32:37.087689Z",
     "iopub.status.busy": "2021-07-04T11:32:37.086996Z",
     "iopub.status.idle": "2021-07-04T11:32:45.663868Z",
     "shell.execute_reply": "2021-07-04T11:32:45.663449Z",
     "shell.execute_reply.started": "2021-07-03T14:06:42.00812Z"
    },
    "papermill": {
     "duration": 8.599683,
     "end_time": "2021-07-04T11:32:45.663988",
     "exception": false,
     "start_time": "2021-07-04T11:32:37.064305",
     "status": "completed"
    },
    "tags": []
   },
   "outputs": [
    {
     "data": {
      "text/html": [
       "<div>\n",
       "<style scoped>\n",
       "    .dataframe tbody tr th:only-of-type {\n",
       "        vertical-align: middle;\n",
       "    }\n",
       "\n",
       "    .dataframe tbody tr th {\n",
       "        vertical-align: top;\n",
       "    }\n",
       "\n",
       "    .dataframe thead th {\n",
       "        text-align: right;\n",
       "    }\n",
       "</style>\n",
       "<table border=\"1\" class=\"dataframe\">\n",
       "  <thead>\n",
       "    <tr style=\"text-align: right;\">\n",
       "      <th></th>\n",
       "      <th>building_id</th>\n",
       "      <th>meter</th>\n",
       "      <th>site_id</th>\n",
       "      <th>primary_use</th>\n",
       "      <th>square_feet</th>\n",
       "      <th>year_built</th>\n",
       "      <th>floor_count</th>\n",
       "      <th>air_temperature</th>\n",
       "      <th>cloud_coverage</th>\n",
       "      <th>dew_temperature</th>\n",
       "      <th>precip_depth_1_hr</th>\n",
       "      <th>hour</th>\n",
       "      <th>weekday</th>\n",
       "      <th>month</th>\n",
       "      <th>meter_reading</th>\n",
       "    </tr>\n",
       "  </thead>\n",
       "  <tbody>\n",
       "    <tr>\n",
       "      <th>0</th>\n",
       "      <td>105</td>\n",
       "      <td>0</td>\n",
       "      <td>1</td>\n",
       "      <td>0</td>\n",
       "      <td>50623</td>\n",
       "      <td>-1.0</td>\n",
       "      <td>5.0</td>\n",
       "      <td>3.8</td>\n",
       "      <td>0.0</td>\n",
       "      <td>2.4</td>\n",
       "      <td>0.0</td>\n",
       "      <td>0</td>\n",
       "      <td>4</td>\n",
       "      <td>1</td>\n",
       "      <td>3.190624</td>\n",
       "    </tr>\n",
       "    <tr>\n",
       "      <th>1</th>\n",
       "      <td>106</td>\n",
       "      <td>0</td>\n",
       "      <td>1</td>\n",
       "      <td>0</td>\n",
       "      <td>5374</td>\n",
       "      <td>-1.0</td>\n",
       "      <td>4.0</td>\n",
       "      <td>3.8</td>\n",
       "      <td>0.0</td>\n",
       "      <td>2.4</td>\n",
       "      <td>0.0</td>\n",
       "      <td>0</td>\n",
       "      <td>4</td>\n",
       "      <td>1</td>\n",
       "      <td>0.318163</td>\n",
       "    </tr>\n",
       "    <tr>\n",
       "      <th>2</th>\n",
       "      <td>106</td>\n",
       "      <td>3</td>\n",
       "      <td>1</td>\n",
       "      <td>0</td>\n",
       "      <td>5374</td>\n",
       "      <td>-1.0</td>\n",
       "      <td>4.0</td>\n",
       "      <td>3.8</td>\n",
       "      <td>0.0</td>\n",
       "      <td>2.4</td>\n",
       "      <td>0.0</td>\n",
       "      <td>0</td>\n",
       "      <td>4</td>\n",
       "      <td>1</td>\n",
       "      <td>0.000000</td>\n",
       "    </tr>\n",
       "    <tr>\n",
       "      <th>3</th>\n",
       "      <td>107</td>\n",
       "      <td>0</td>\n",
       "      <td>1</td>\n",
       "      <td>0</td>\n",
       "      <td>97532</td>\n",
       "      <td>2005.0</td>\n",
       "      <td>10.0</td>\n",
       "      <td>3.8</td>\n",
       "      <td>0.0</td>\n",
       "      <td>2.4</td>\n",
       "      <td>0.0</td>\n",
       "      <td>0</td>\n",
       "      <td>4</td>\n",
       "      <td>1</td>\n",
       "      <td>5.171529</td>\n",
       "    </tr>\n",
       "    <tr>\n",
       "      <th>4</th>\n",
       "      <td>108</td>\n",
       "      <td>0</td>\n",
       "      <td>1</td>\n",
       "      <td>0</td>\n",
       "      <td>81580</td>\n",
       "      <td>1913.0</td>\n",
       "      <td>5.0</td>\n",
       "      <td>3.8</td>\n",
       "      <td>0.0</td>\n",
       "      <td>2.4</td>\n",
       "      <td>0.0</td>\n",
       "      <td>0</td>\n",
       "      <td>4</td>\n",
       "      <td>1</td>\n",
       "      <td>4.524668</td>\n",
       "    </tr>\n",
       "  </tbody>\n",
       "</table>\n",
       "</div>"
      ],
      "text/plain": [
       "   building_id  meter  site_id  primary_use  square_feet  year_built  \\\n",
       "0          105      0        1            0        50623        -1.0   \n",
       "1          106      0        1            0         5374        -1.0   \n",
       "2          106      3        1            0         5374        -1.0   \n",
       "3          107      0        1            0        97532      2005.0   \n",
       "4          108      0        1            0        81580      1913.0   \n",
       "\n",
       "   floor_count  air_temperature  cloud_coverage  dew_temperature  \\\n",
       "0          5.0              3.8             0.0              2.4   \n",
       "1          4.0              3.8             0.0              2.4   \n",
       "2          4.0              3.8             0.0              2.4   \n",
       "3         10.0              3.8             0.0              2.4   \n",
       "4          5.0              3.8             0.0              2.4   \n",
       "\n",
       "   precip_depth_1_hr  hour  weekday  month  meter_reading  \n",
       "0                0.0     0        4      1       3.190624  \n",
       "1                0.0     0        4      1       0.318163  \n",
       "2                0.0     0        4      1       0.000000  \n",
       "3                0.0     0        4      1       5.171529  \n",
       "4                0.0     0        4      1       4.524668  "
      ]
     },
     "execution_count": 3,
     "metadata": {},
     "output_type": "execute_result"
    }
   ],
   "source": [
    "#%%time\n",
    "df_train = pd.read_hdf(path + 'preprocessing_no_lag.h5', 'train')\n",
    "df_train.head()"
   ]
  },
  {
   "cell_type": "code",
   "execution_count": 4,
   "id": "concrete-livestock",
   "metadata": {
    "execution": {
     "iopub.execute_input": "2021-07-04T11:32:45.715858Z",
     "iopub.status.busy": "2021-07-04T11:32:45.715244Z",
     "iopub.status.idle": "2021-07-04T11:32:45.719695Z",
     "shell.execute_reply": "2021-07-04T11:32:45.720102Z",
     "shell.execute_reply.started": "2021-07-03T14:06:52.706773Z"
    },
    "papermill": {
     "duration": 0.036034,
     "end_time": "2021-07-04T11:32:45.720297",
     "exception": false,
     "start_time": "2021-07-04T11:32:45.684263",
     "status": "completed"
    },
    "tags": []
   },
   "outputs": [
    {
     "name": "stdout",
     "output_type": "stream",
     "text": [
      "<class 'pandas.core.frame.DataFrame'>\n",
      "Int64Index: 19869886 entries, 0 to 19869885\n",
      "Data columns (total 15 columns):\n",
      " #   Column             Dtype  \n",
      "---  ------             -----  \n",
      " 0   building_id        uint16 \n",
      " 1   meter              uint8  \n",
      " 2   site_id            uint8  \n",
      " 3   primary_use        uint8  \n",
      " 4   square_feet        uint32 \n",
      " 5   year_built         float32\n",
      " 6   floor_count        float32\n",
      " 7   air_temperature    float32\n",
      " 8   cloud_coverage     float32\n",
      " 9   dew_temperature    float32\n",
      " 10  precip_depth_1_hr  float32\n",
      " 11  hour               uint8  \n",
      " 12  weekday            uint8  \n",
      " 13  month              uint8  \n",
      " 14  meter_reading      float32\n",
      "dtypes: float32(7), uint16(1), uint32(1), uint8(6)\n",
      "memory usage: 909.6 MB\n"
     ]
    }
   ],
   "source": [
    "df_train.info(memory_usage='deep')"
   ]
  },
  {
   "cell_type": "code",
   "execution_count": 5,
   "id": "pacific-wrong",
   "metadata": {
    "execution": {
     "iopub.execute_input": "2021-07-04T11:32:45.863931Z",
     "iopub.status.busy": "2021-07-04T11:32:45.862695Z",
     "iopub.status.idle": "2021-07-04T11:32:45.866068Z",
     "shell.execute_reply": "2021-07-04T11:32:45.866485Z",
     "shell.execute_reply.started": "2021-07-03T14:06:52.739649Z"
    },
    "papermill": {
     "duration": 0.126309,
     "end_time": "2021-07-04T11:32:45.866641",
     "exception": false,
     "start_time": "2021-07-04T11:32:45.740332",
     "status": "completed"
    },
    "tags": []
   },
   "outputs": [
    {
     "data": {
      "text/plain": [
       "40"
      ]
     },
     "execution_count": 5,
     "metadata": {},
     "output_type": "execute_result"
    }
   ],
   "source": [
    "gc.collect()"
   ]
  },
  {
   "cell_type": "code",
   "execution_count": 6,
   "id": "studied-illinois",
   "metadata": {
    "execution": {
     "iopub.execute_input": "2021-07-04T11:32:45.910893Z",
     "iopub.status.busy": "2021-07-04T11:32:45.910369Z",
     "iopub.status.idle": "2021-07-04T11:32:45.925570Z",
     "shell.execute_reply": "2021-07-04T11:32:45.924939Z",
     "shell.execute_reply.started": "2021-07-03T14:06:52.860227Z"
    },
    "papermill": {
     "duration": 0.038779,
     "end_time": "2021-07-04T11:32:45.925717",
     "exception": false,
     "start_time": "2021-07-04T11:32:45.886938",
     "status": "completed"
    },
    "tags": []
   },
   "outputs": [
    {
     "name": "stdout",
     "output_type": "stream",
     "text": [
      "USER         PID  %MEM     VSZ     RSS  NICE STATUS  START   TIME  CMDLINE\n",
      "root           1   0.0   11.4M    2.9M        sleep  11:32  00:00  /bin/bash -c \n",
      "root           9   0.6  650.9M   99.3M        runni  11:32  00:04  python -c imp\n",
      "root          24   8.1    9.1G    1.3G        runni  11:32  00:17  /opt/conda/bi\n"
     ]
    }
   ],
   "source": [
    "# use for snapshot of RAM consumption by process\n",
    "psutil.test()"
   ]
  },
  {
   "cell_type": "markdown",
   "id": "cathedral-subdivision",
   "metadata": {
    "papermill": {
     "duration": 0.020505,
     "end_time": "2021-07-04T11:32:45.967683",
     "exception": false,
     "start_time": "2021-07-04T11:32:45.947178",
     "status": "completed"
    },
    "tags": []
   },
   "source": [
    "# Modeling"
   ]
  },
  {
   "cell_type": "markdown",
   "id": "difficult-rough",
   "metadata": {
    "papermill": {
     "duration": 0.020929,
     "end_time": "2021-07-04T11:32:46.009403",
     "exception": false,
     "start_time": "2021-07-04T11:32:45.988474",
     "status": "completed"
    },
    "tags": []
   },
   "source": [
    "We will be using fast.ai's TabularLearner NN class. One possible way to instantiate such a class is by first defining, among other things:\n",
    "\n",
    "- Categorical and continuous variables\n",
    "- A training/validation split\n",
    "- A set of transforms one wishes to apply to the data\n",
    "- A TabularPandas object\n",
    "- A DataLoaders object\n",
    "\n",
    "Let's do so in order below."
   ]
  },
  {
   "cell_type": "code",
   "execution_count": 7,
   "id": "imposed-acrylic",
   "metadata": {
    "execution": {
     "iopub.execute_input": "2021-07-04T11:32:46.057094Z",
     "iopub.status.busy": "2021-07-04T11:32:46.055877Z",
     "iopub.status.idle": "2021-07-04T11:32:47.104398Z",
     "shell.execute_reply": "2021-07-04T11:32:47.103916Z"
    },
    "papermill": {
     "duration": 1.074114,
     "end_time": "2021-07-04T11:32:47.104546",
     "exception": false,
     "start_time": "2021-07-04T11:32:46.030432",
     "status": "completed"
    },
    "tags": []
   },
   "outputs": [],
   "source": [
    "dep_var = 'meter_reading'\n",
    "cont, cat = cont_cat_split(df_train, max_card=25, dep_var=dep_var)\n",
    "#cont, cat"
   ]
  },
  {
   "cell_type": "code",
   "execution_count": 8,
   "id": "cooked-priority",
   "metadata": {
    "execution": {
     "iopub.execute_input": "2021-07-04T11:32:47.152519Z",
     "iopub.status.busy": "2021-07-04T11:32:47.151435Z",
     "iopub.status.idle": "2021-07-04T11:32:47.999920Z",
     "shell.execute_reply": "2021-07-04T11:32:47.999176Z",
     "shell.execute_reply.started": "2021-07-03T13:53:25.146362Z"
    },
    "papermill": {
     "duration": 0.874122,
     "end_time": "2021-07-04T11:32:48.000042",
     "exception": false,
     "start_time": "2021-07-04T11:32:47.125920",
     "status": "completed"
    },
    "tags": []
   },
   "outputs": [
    {
     "data": {
      "text/plain": [
       "meter           4\n",
       "site_id        16\n",
       "primary_use    16\n",
       "hour           24\n",
       "weekday         7\n",
       "month          12\n",
       "dtype: int64"
      ]
     },
     "execution_count": 8,
     "metadata": {},
     "output_type": "execute_result"
    }
   ],
   "source": [
    "df_train[cat].nunique()"
   ]
  },
  {
   "cell_type": "markdown",
   "id": "tired-cross",
   "metadata": {
    "papermill": {
     "duration": 0.022272,
     "end_time": "2021-07-04T11:32:48.043568",
     "exception": false,
     "start_time": "2021-07-04T11:32:48.021296",
     "status": "completed"
    },
    "tags": []
   },
   "source": [
    "Here we will be doing a simple 11/1 train/validation split for starters. Let us extract the last month of 2016 as validation set."
   ]
  },
  {
   "cell_type": "code",
   "execution_count": 9,
   "id": "executed-match",
   "metadata": {
    "execution": {
     "iopub.execute_input": "2021-07-04T11:32:48.091834Z",
     "iopub.status.busy": "2021-07-04T11:32:48.091127Z",
     "iopub.status.idle": "2021-07-04T11:32:50.504885Z",
     "shell.execute_reply": "2021-07-04T11:32:50.505419Z",
     "shell.execute_reply.started": "2021-07-03T13:53:25.988291Z"
    },
    "papermill": {
     "duration": 2.440131,
     "end_time": "2021-07-04T11:32:50.505580",
     "exception": false,
     "start_time": "2021-07-04T11:32:48.065449",
     "status": "completed"
    },
    "tags": []
   },
   "outputs": [],
   "source": [
    "cond = df_train.month<12\n",
    "train_idx = np.where( cond)[0]\n",
    "valid_idx = np.where(~cond)[0]\n",
    "\n",
    "splits = (list(train_idx), list(valid_idx))\n",
    "\n",
    "df_train = df_train.drop(columns='month') # remove to avoid overfit\n",
    "cat.remove('month')"
   ]
  },
  {
   "cell_type": "markdown",
   "id": "structural-ancient",
   "metadata": {
    "papermill": {
     "duration": 0.032821,
     "end_time": "2021-07-04T11:32:50.573748",
     "exception": false,
     "start_time": "2021-07-04T11:32:50.540927",
     "status": "completed"
    },
    "tags": []
   },
   "source": [
    "Let's tell fast.ai which transforms we wish to apply. Note that here we do not include `FillMissing`, contrary to common practice, as we took care of missing values during preprocessing."
   ]
  },
  {
   "cell_type": "code",
   "execution_count": 10,
   "id": "verified-incident",
   "metadata": {
    "execution": {
     "iopub.execute_input": "2021-07-04T11:32:50.652326Z",
     "iopub.status.busy": "2021-07-04T11:32:50.651438Z",
     "iopub.status.idle": "2021-07-04T11:33:14.678132Z",
     "shell.execute_reply": "2021-07-04T11:33:14.677709Z",
     "shell.execute_reply.started": "2021-07-03T13:53:28.41799Z"
    },
    "papermill": {
     "duration": 24.06948,
     "end_time": "2021-07-04T11:33:14.678272",
     "exception": false,
     "start_time": "2021-07-04T11:32:50.608792",
     "status": "completed"
    },
    "tags": []
   },
   "outputs": [
    {
     "data": {
      "text/plain": [
       "(18143067, 1726819)"
      ]
     },
     "execution_count": 10,
     "metadata": {},
     "output_type": "execute_result"
    }
   ],
   "source": [
    "pd.options.mode.chained_assignment = None # to be included alongside reduce_memory=True\n",
    "\n",
    "procs_nn = [Categorify, Normalize]\n",
    "df_train = TabularPandas(df_train, procs_nn, cat, cont,\n",
    "                      splits=splits, y_names=dep_var,\n",
    "                      inplace=True, reduce_memory=True)\n",
    "\n",
    "len(df_train.train), len(df_train.valid)"
   ]
  },
  {
   "cell_type": "markdown",
   "id": "conditional-concern",
   "metadata": {
    "papermill": {
     "duration": 0.021079,
     "end_time": "2021-07-04T11:33:14.721097",
     "exception": false,
     "start_time": "2021-07-04T11:33:14.700018",
     "status": "completed"
    },
    "tags": []
   },
   "source": [
    "TabularPandas instances have a handy method to directly create the `DataLoaders`:"
   ]
  },
  {
   "cell_type": "code",
   "execution_count": 11,
   "id": "accomplished-stopping",
   "metadata": {
    "execution": {
     "iopub.execute_input": "2021-07-04T11:33:14.769628Z",
     "iopub.status.busy": "2021-07-04T11:33:14.768466Z",
     "iopub.status.idle": "2021-07-04T11:33:20.512129Z",
     "shell.execute_reply": "2021-07-04T11:33:20.512879Z",
     "shell.execute_reply.started": "2021-07-03T13:53:52.908281Z"
    },
    "papermill": {
     "duration": 5.770273,
     "end_time": "2021-07-04T11:33:20.513046",
     "exception": false,
     "start_time": "2021-07-04T11:33:14.742773",
     "status": "completed"
    },
    "tags": []
   },
   "outputs": [
    {
     "data": {
      "text/plain": [
       "152"
      ]
     },
     "execution_count": 11,
     "metadata": {},
     "output_type": "execute_result"
    }
   ],
   "source": [
    "dls = df_train.dataloaders(1024)\n",
    "gc.collect()"
   ]
  },
  {
   "cell_type": "markdown",
   "id": "incorrect-bleeding",
   "metadata": {
    "papermill": {
     "duration": 0.021688,
     "end_time": "2021-07-04T11:33:20.556870",
     "exception": false,
     "start_time": "2021-07-04T11:33:20.535182",
     "status": "completed"
    },
    "tags": []
   },
   "source": [
    "Let's establish the range of the target variable, so that we may rescale the outputs of the NN to fill this range by means of a sigmoid activation added as the last layer."
   ]
  },
  {
   "cell_type": "code",
   "execution_count": 12,
   "id": "written-finding",
   "metadata": {
    "execution": {
     "iopub.execute_input": "2021-07-04T11:33:20.606318Z",
     "iopub.status.busy": "2021-07-04T11:33:20.605098Z",
     "iopub.status.idle": "2021-07-04T11:33:21.727602Z",
     "shell.execute_reply": "2021-07-04T11:33:21.728078Z",
     "shell.execute_reply.started": "2021-07-03T13:53:58.645754Z"
    },
    "papermill": {
     "duration": 1.149393,
     "end_time": "2021-07-04T11:33:21.728251",
     "exception": false,
     "start_time": "2021-07-04T11:33:20.578858",
     "status": "completed"
    },
    "tags": []
   },
   "outputs": [
    {
     "data": {
      "text/plain": [
       "(0.0, 16.902212)"
      ]
     },
     "execution_count": 12,
     "metadata": {},
     "output_type": "execute_result"
    }
   ],
   "source": [
    "df_train.train.y.min(), df_train.train.y.max()"
   ]
  },
  {
   "cell_type": "markdown",
   "id": "finnish-radiation",
   "metadata": {
    "papermill": {
     "duration": 0.039502,
     "end_time": "2021-07-04T11:33:21.807625",
     "exception": false,
     "start_time": "2021-07-04T11:33:21.768123",
     "status": "completed"
    },
    "tags": []
   },
   "source": [
    "Instantiate the model and inspect its architecture."
   ]
  },
  {
   "cell_type": "code",
   "execution_count": 13,
   "id": "olive-karaoke",
   "metadata": {
    "execution": {
     "iopub.execute_input": "2021-07-04T11:33:21.892495Z",
     "iopub.status.busy": "2021-07-04T11:33:21.891687Z",
     "iopub.status.idle": "2021-07-04T11:33:21.936667Z",
     "shell.execute_reply": "2021-07-04T11:33:21.936192Z",
     "shell.execute_reply.started": "2021-07-03T13:53:59.744649Z"
    },
    "papermill": {
     "duration": 0.090161,
     "end_time": "2021-07-04T11:33:21.936791",
     "exception": false,
     "start_time": "2021-07-04T11:33:21.846630",
     "status": "completed"
    },
    "tags": []
   },
   "outputs": [
    {
     "data": {
      "text/plain": [
       "TabularModel(\n",
       "  (embeds): ModuleList(\n",
       "    (0): Embedding(5, 4)\n",
       "    (1): Embedding(17, 8)\n",
       "    (2): Embedding(17, 8)\n",
       "    (3): Embedding(25, 10)\n",
       "    (4): Embedding(8, 5)\n",
       "  )\n",
       "  (emb_drop): Dropout(p=0.0, inplace=False)\n",
       "  (bn_cont): BatchNorm1d(8, eps=1e-05, momentum=0.1, affine=True, track_running_stats=True)\n",
       "  (layers): Sequential(\n",
       "    (0): LinBnDrop(\n",
       "      (0): BatchNorm1d(43, eps=1e-05, momentum=0.1, affine=True, track_running_stats=True)\n",
       "      (1): Linear(in_features=43, out_features=500, bias=False)\n",
       "      (2): ReLU(inplace=True)\n",
       "    )\n",
       "    (1): LinBnDrop(\n",
       "      (0): BatchNorm1d(500, eps=1e-05, momentum=0.1, affine=True, track_running_stats=True)\n",
       "      (1): Linear(in_features=500, out_features=250, bias=False)\n",
       "      (2): ReLU(inplace=True)\n",
       "    )\n",
       "    (2): LinBnDrop(\n",
       "      (0): Linear(in_features=250, out_features=1, bias=True)\n",
       "    )\n",
       "    (3): SigmoidRange(low=0, high=17)\n",
       "  )\n",
       ")"
      ]
     },
     "execution_count": 13,
     "metadata": {},
     "output_type": "execute_result"
    }
   ],
   "source": [
    "learn = tabular_learner(dls, y_range=(0,17), layers=[500,250], n_out=1, loss_func=F.mse_loss)\n",
    "learn.model"
   ]
  },
  {
   "cell_type": "code",
   "execution_count": 14,
   "id": "exact-array",
   "metadata": {
    "execution": {
     "iopub.execute_input": "2021-07-04T11:33:21.995804Z",
     "iopub.status.busy": "2021-07-04T11:33:21.995159Z",
     "iopub.status.idle": "2021-07-04T11:33:51.220957Z",
     "shell.execute_reply": "2021-07-04T11:33:51.220524Z",
     "shell.execute_reply.started": "2021-07-03T13:53:59.792483Z"
    },
    "papermill": {
     "duration": 29.25661,
     "end_time": "2021-07-04T11:33:51.221082",
     "exception": false,
     "start_time": "2021-07-04T11:33:21.964472",
     "status": "completed"
    },
    "tags": []
   },
   "outputs": [
    {
     "data": {
      "text/html": [],
      "text/plain": [
       "<IPython.core.display.HTML object>"
      ]
     },
     "metadata": {},
     "output_type": "display_data"
    },
    {
     "data": {
      "text/plain": [
       "SuggestedLRs(lr_min=0.05248074531555176, lr_steep=0.0006918309954926372)"
      ]
     },
     "execution_count": 14,
     "metadata": {},
     "output_type": "execute_result"
    },
    {
     "data": {
      "image/png": "[encoded data removed]",
      "text/plain": [
       "<Figure size 432x288 with 1 Axes>"
      ]
     },
     "metadata": {
      "needs_background": "light"
     },
     "output_type": "display_data"
    }
   ],
   "source": [
    "# find appropriate learning rate\n",
    "learn.lr_find()"
   ]
  },
  {
   "cell_type": "markdown",
   "id": "wireless-personality",
   "metadata": {
    "papermill": {
     "duration": 0.023342,
     "end_time": "2021-07-04T11:33:51.268474",
     "exception": false,
     "start_time": "2021-07-04T11:33:51.245132",
     "status": "completed"
    },
    "tags": []
   },
   "source": [
    "Let us now train the model with the 1-cycle policy."
   ]
  },
  {
   "cell_type": "code",
   "execution_count": 15,
   "id": "american-latvia",
   "metadata": {
    "execution": {
     "iopub.execute_input": "2021-07-04T11:33:51.320069Z",
     "iopub.status.busy": "2021-07-04T11:33:51.319405Z",
     "iopub.status.idle": "2021-07-04T12:18:10.526769Z",
     "shell.execute_reply": "2021-07-04T12:18:10.527151Z",
     "shell.execute_reply.started": "2021-07-03T13:54:28.744652Z"
    },
    "papermill": {
     "duration": 2659.235342,
     "end_time": "2021-07-04T12:18:10.527345",
     "exception": false,
     "start_time": "2021-07-04T11:33:51.292003",
     "status": "completed"
    },
    "tags": []
   },
   "outputs": [
    {
     "data": {
      "text/html": [
       "<table border=\"1\" class=\"dataframe\">\n",
       "  <thead>\n",
       "    <tr style=\"text-align: left;\">\n",
       "      <th>epoch</th>\n",
       "      <th>train_loss</th>\n",
       "      <th>valid_loss</th>\n",
       "      <th>time</th>\n",
       "    </tr>\n",
       "  </thead>\n",
       "  <tbody>\n",
       "    <tr>\n",
       "      <td>0</td>\n",
       "      <td>1.338438</td>\n",
       "      <td>1.414644</td>\n",
       "      <td>04:28</td>\n",
       "    </tr>\n",
       "    <tr>\n",
       "      <td>1</td>\n",
       "      <td>1.304255</td>\n",
       "      <td>1.299428</td>\n",
       "      <td>04:29</td>\n",
       "    </tr>\n",
       "    <tr>\n",
       "      <td>2</td>\n",
       "      <td>1.282917</td>\n",
       "      <td>1.270029</td>\n",
       "      <td>04:27</td>\n",
       "    </tr>\n",
       "    <tr>\n",
       "      <td>3</td>\n",
       "      <td>1.249625</td>\n",
       "      <td>1.328734</td>\n",
       "      <td>04:28</td>\n",
       "    </tr>\n",
       "    <tr>\n",
       "      <td>4</td>\n",
       "      <td>1.193581</td>\n",
       "      <td>1.269364</td>\n",
       "      <td>04:27</td>\n",
       "    </tr>\n",
       "    <tr>\n",
       "      <td>5</td>\n",
       "      <td>1.170001</td>\n",
       "      <td>1.254336</td>\n",
       "      <td>04:24</td>\n",
       "    </tr>\n",
       "    <tr>\n",
       "      <td>6</td>\n",
       "      <td>1.121347</td>\n",
       "      <td>1.186581</td>\n",
       "      <td>04:24</td>\n",
       "    </tr>\n",
       "    <tr>\n",
       "      <td>7</td>\n",
       "      <td>1.036339</td>\n",
       "      <td>1.149135</td>\n",
       "      <td>04:22</td>\n",
       "    </tr>\n",
       "    <tr>\n",
       "      <td>8</td>\n",
       "      <td>0.964187</td>\n",
       "      <td>1.120624</td>\n",
       "      <td>04:23</td>\n",
       "    </tr>\n",
       "    <tr>\n",
       "      <td>9</td>\n",
       "      <td>0.929154</td>\n",
       "      <td>1.117309</td>\n",
       "      <td>04:24</td>\n",
       "    </tr>\n",
       "  </tbody>\n",
       "</table>"
      ],
      "text/plain": [
       "<IPython.core.display.HTML object>"
      ]
     },
     "metadata": {},
     "output_type": "display_data"
    }
   ],
   "source": [
    "learn.fit_one_cycle(10, 1e-2)"
   ]
  },
  {
   "cell_type": "markdown",
   "id": "biological-tuition",
   "metadata": {
    "papermill": {
     "duration": 0.024081,
     "end_time": "2021-07-04T12:18:10.576062",
     "exception": false,
     "start_time": "2021-07-04T12:18:10.551981",
     "status": "completed"
    },
    "tags": []
   },
   "source": [
    "Let us check the results of the training by hand."
   ]
  },
  {
   "cell_type": "code",
   "execution_count": 16,
   "id": "continent-palace",
   "metadata": {
    "execution": {
     "iopub.execute_input": "2021-07-04T12:18:10.688688Z",
     "iopub.status.busy": "2021-07-04T12:18:10.687900Z",
     "iopub.status.idle": "2021-07-04T12:18:20.999835Z",
     "shell.execute_reply": "2021-07-04T12:18:20.999404Z",
     "shell.execute_reply.started": "2021-07-03T13:59:04.037138Z"
    },
    "papermill": {
     "duration": 10.399644,
     "end_time": "2021-07-04T12:18:20.999960",
     "exception": false,
     "start_time": "2021-07-04T12:18:10.600316",
     "status": "completed"
    },
    "tags": []
   },
   "outputs": [
    {
     "data": {
      "text/html": [],
      "text/plain": [
       "<IPython.core.display.HTML object>"
      ]
     },
     "metadata": {},
     "output_type": "display_data"
    },
    {
     "data": {
      "text/plain": [
       "1.0570287"
      ]
     },
     "execution_count": 16,
     "metadata": {},
     "output_type": "execute_result"
    }
   ],
   "source": [
    "# this gets predictions on the validation set by default\n",
    "preds, targs = learn.get_preds()\n",
    "\n",
    "rmse_valid = np.sqrt(mean_squared_error(to_np(targs.squeeze()), to_np(preds.squeeze())))\n",
    "rmse_valid"
   ]
  },
  {
   "cell_type": "code",
   "execution_count": 17,
   "id": "connected-helen",
   "metadata": {
    "execution": {
     "iopub.execute_input": "2021-07-04T12:18:24.336522Z",
     "iopub.status.busy": "2021-07-04T12:18:24.335644Z",
     "iopub.status.idle": "2021-07-04T12:18:24.339735Z",
     "shell.execute_reply": "2021-07-04T12:18:24.339318Z",
     "shell.execute_reply.started": "2021-07-03T13:59:04.054982Z"
    },
    "papermill": {
     "duration": 3.314912,
     "end_time": "2021-07-04T12:18:24.339855",
     "exception": false,
     "start_time": "2021-07-04T12:18:21.024943",
     "status": "completed"
    },
    "tags": []
   },
   "outputs": [
    {
     "data": {
      "text/plain": [
       "1203"
      ]
     },
     "execution_count": 17,
     "metadata": {},
     "output_type": "execute_result"
    }
   ],
   "source": [
    "del cond, train_idx, valid_idx, splits\n",
    "del df_train, dls, preds, targs, rmse_valid\n",
    "gc.collect()"
   ]
  },
  {
   "cell_type": "markdown",
   "id": "proper-canadian",
   "metadata": {
    "papermill": {
     "duration": 0.024657,
     "end_time": "2021-07-04T12:18:24.389927",
     "exception": false,
     "start_time": "2021-07-04T12:18:24.365270",
     "status": "completed"
    },
    "tags": []
   },
   "source": [
    "It seems that the model is performing well on the validation set (as well as LGBM \n",
    "in [this kernel](https://www.kaggle.com/michelezoccali/ashrae-energy-prediction-single-lgbm)). Let's save it."
   ]
  },
  {
   "cell_type": "code",
   "execution_count": 18,
   "id": "modified-block",
   "metadata": {
    "execution": {
     "iopub.execute_input": "2021-07-04T12:18:24.443776Z",
     "iopub.status.busy": "2021-07-04T12:18:24.442970Z",
     "iopub.status.idle": "2021-07-04T12:18:30.929689Z",
     "shell.execute_reply": "2021-07-04T12:18:30.929132Z",
     "shell.execute_reply.started": "2021-07-03T13:59:07.718322Z"
    },
    "papermill": {
     "duration": 6.515051,
     "end_time": "2021-07-04T12:18:30.929817",
     "exception": false,
     "start_time": "2021-07-04T12:18:24.414766",
     "status": "completed"
    },
    "tags": []
   },
   "outputs": [],
   "source": [
    "with open('tabular_nn.pickle', mode='wb') as f:\n",
    "    pickle.dump(learn, f)"
   ]
  },
  {
   "cell_type": "markdown",
   "id": "perceived-father",
   "metadata": {
    "papermill": {
     "duration": 0.024784,
     "end_time": "2021-07-04T12:18:30.980167",
     "exception": false,
     "start_time": "2021-07-04T12:18:30.955383",
     "status": "completed"
    },
    "tags": []
   },
   "source": [
    "That's it. Now we only ought to do inference on the test set. However, trying to create a TabularPandas object for the entire test set in this kernel causes memory peaks which crash the session. Thus, let's continue in:\n",
    "\n",
    "- https://www.kaggle.com/michelezoccali/ashrae-with-fast-ai-part-3"
   ]
  }
 ],
 "metadata": {
  "kernelspec": {
   "display_name": "Python 3",
   "language": "python",
   "name": "python3"
  },
  "language_info": {
   "codemirror_mode": {
    "name": "ipython",
    "version": 3
   },
   "file_extension": ".py",
   "mimetype": "text/x-python",
   "name": "python",
   "nbconvert_exporter": "python",
   "pygments_lexer": "ipython3",
   "version": "3.7.10"
  },
  "papermill": {
   "default_parameters": {},
   "duration": 2766.354091,
   "end_time": "2021-07-04T12:18:34.110586",
   "environment_variables": {},
   "exception": null,
   "input_path": "__notebook__.ipynb",
   "output_path": "__notebook__.ipynb",
   "parameters": {},
   "start_time": "2021-07-04T11:32:27.756495",
   "version": "2.3.3"
  }
 },
 "nbformat": 4,
 "nbformat_minor": 5
}
