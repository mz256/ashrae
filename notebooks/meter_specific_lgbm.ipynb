{
 "cells": [
  {
   "cell_type": "markdown",
   "id": "defined-miami",
   "metadata": {
    "execution": {
     "iopub.execute_input": "2021-06-18T12:45:41.772452Z",
     "iopub.status.busy": "2021-06-18T12:45:41.771878Z",
     "iopub.status.idle": "2021-06-18T12:45:41.775498Z",
     "shell.execute_reply": "2021-06-18T12:45:41.774852Z",
     "shell.execute_reply.started": "2021-06-18T12:45:41.772418Z"
    },
    "papermill": {
     "duration": 0.022413,
     "end_time": "2021-06-19T10:45:06.316860",
     "exception": false,
     "start_time": "2021-06-19T10:45:06.294447",
     "status": "completed"
    },
    "tags": []
   },
   "source": [
    "# Meter-specific LGBM for ASHRAE"
   ]
  },
  {
   "cell_type": "markdown",
   "id": "voluntary-experiment",
   "metadata": {
    "papermill": {
     "duration": 0.02179,
     "end_time": "2021-06-19T10:45:06.360368",
     "exception": false,
     "start_time": "2021-06-19T10:45:06.338578",
     "status": "completed"
    },
    "tags": []
   },
   "source": [
    "This is a modified version of [this other kernel](https://www.kaggle.com/michelezoccali/ashrae-energy-prediction-single-model) with meter-specific models rather than a single one, in an attempt to capture effects on consumption specific to each meter type."
   ]
  },
  {
   "cell_type": "code",
   "execution_count": 1,
   "id": "whole-divide",
   "metadata": {
    "execution": {
     "iopub.execute_input": "2021-06-19T10:45:06.412069Z",
     "iopub.status.busy": "2021-06-19T10:45:06.411555Z",
     "iopub.status.idle": "2021-06-19T10:45:08.272951Z",
     "shell.execute_reply": "2021-06-19T10:45:08.273339Z",
     "shell.execute_reply.started": "2021-06-17T17:19:32.201094Z"
    },
    "papermill": {
     "duration": 1.891744,
     "end_time": "2021-06-19T10:45:08.273578",
     "exception": false,
     "start_time": "2021-06-19T10:45:06.381834",
     "status": "completed"
    },
    "tags": []
   },
   "outputs": [
    {
     "data": {
      "text/html": [
       "<style type='text/css'>\n",
       ".datatable table.frame { margin-bottom: 0; }\n",
       ".datatable table.frame thead { border-bottom: none; }\n",
       ".datatable table.frame tr.coltypes td {  color: #FFFFFF;  line-height: 6px;  padding: 0 0.5em;}\n",
       ".datatable .bool    { background: #DDDD99; }\n",
       ".datatable .object  { background: #565656; }\n",
       ".datatable .int     { background: #5D9E5D; }\n",
       ".datatable .float   { background: #4040CC; }\n",
       ".datatable .str     { background: #CC4040; }\n",
       ".datatable .row_index {  background: var(--jp-border-color3);  border-right: 1px solid var(--jp-border-color0);  color: var(--jp-ui-font-color3);  font-size: 9px;}\n",
       ".datatable .frame tr.coltypes .row_index {  background: var(--jp-border-color0);}\n",
       ".datatable th:nth-child(2) { padding-left: 12px; }\n",
       ".datatable .hellipsis {  color: var(--jp-cell-editor-border-color);}\n",
       ".datatable .vellipsis {  background: var(--jp-layout-color0);  color: var(--jp-cell-editor-border-color);}\n",
       ".datatable .na {  color: var(--jp-cell-editor-border-color);  font-size: 80%;}\n",
       ".datatable .footer { font-size: 9px; }\n",
       ".datatable .frame_dimensions {  background: var(--jp-border-color3);  border-top: 1px solid var(--jp-border-color0);  color: var(--jp-ui-font-color3);  display: inline-block;  opacity: 0.6;  padding: 1px 10px 1px 5px;}\n",
       "</style>\n"
      ],
      "text/plain": [
       "<IPython.core.display.HTML object>"
      ]
     },
     "metadata": {},
     "output_type": "display_data"
    }
   ],
   "source": [
    "import numpy as np # linear algebra\n",
    "import pandas as pd # data processing, CSV file I/O\n",
    "import os\n",
    "import datetime\n",
    "import warnings\n",
    "import gc\n",
    "\n",
    "from sklearn.metrics import mean_squared_error\n",
    "from sklearn.model_selection import KFold\n",
    "import lightgbm as lgb\n",
    "\n",
    "from tqdm.notebook import tqdm\n",
    "\n",
    "# plotting\n",
    "import matplotlib.pyplot as plt\n",
    "import seaborn as sns"
   ]
  },
  {
   "cell_type": "code",
   "execution_count": 2,
   "id": "norwegian-highland",
   "metadata": {
    "execution": {
     "iopub.execute_input": "2021-06-19T10:45:08.324394Z",
     "iopub.status.busy": "2021-06-19T10:45:08.323540Z",
     "iopub.status.idle": "2021-06-19T10:45:08.328624Z",
     "shell.execute_reply": "2021-06-19T10:45:08.329216Z",
     "shell.execute_reply.started": "2021-06-17T17:19:34.423937Z"
    },
    "papermill": {
     "duration": 0.032715,
     "end_time": "2021-06-19T10:45:08.329420",
     "exception": false,
     "start_time": "2021-06-19T10:45:08.296705",
     "status": "completed"
    },
    "tags": []
   },
   "outputs": [
    {
     "name": "stdout",
     "output_type": "stream",
     "text": [
      "../input/ashrae-energy-prediction/sample_submission.csv\n",
      "../input/ashrae-energy-prediction/building_metadata.csv\n",
      "../input/ashrae-energy-prediction/weather_train.csv\n",
      "../input/ashrae-energy-prediction/weather_test.csv\n",
      "../input/ashrae-energy-prediction/train.csv\n",
      "../input/ashrae-energy-prediction/test.csv\n"
     ]
    }
   ],
   "source": [
    "path = '../input/ashrae-energy-prediction'\n",
    "\n",
    "for dirname, _, filenames in os.walk(path):\n",
    "    for filename in filenames:\n",
    "        print(os.path.join(dirname, filename))"
   ]
  },
  {
   "cell_type": "markdown",
   "id": "blond-madrid",
   "metadata": {
    "papermill": {
     "duration": 0.041047,
     "end_time": "2021-06-19T10:45:08.407504",
     "exception": false,
     "start_time": "2021-06-19T10:45:08.366457",
     "status": "completed"
    },
    "tags": []
   },
   "source": [
    "# Utilities"
   ]
  },
  {
   "cell_type": "markdown",
   "id": "abandoned-wagon",
   "metadata": {
    "papermill": {
     "duration": 0.034827,
     "end_time": "2021-06-19T10:45:08.480940",
     "exception": false,
     "start_time": "2021-06-19T10:45:08.446113",
     "status": "completed"
    },
    "tags": []
   },
   "source": [
    "Memory reduction adapted from [this kernel.](https://www.kaggle.com/purist1024/ashrae-simple-data-cleanup-lb-1-08-no-leaks/notebook)"
   ]
  },
  {
   "cell_type": "code",
   "execution_count": 3,
   "id": "major-percentage",
   "metadata": {
    "execution": {
     "iopub.execute_input": "2021-06-19T10:45:08.558406Z",
     "iopub.status.busy": "2021-06-19T10:45:08.557745Z",
     "iopub.status.idle": "2021-06-19T10:45:08.559051Z",
     "shell.execute_reply": "2021-06-19T10:45:08.559546Z",
     "shell.execute_reply.started": "2021-06-17T17:19:34.433436Z"
    },
    "papermill": {
     "duration": 0.043468,
     "end_time": "2021-06-19T10:45:08.559701",
     "exception": false,
     "start_time": "2021-06-19T10:45:08.516233",
     "status": "completed"
    },
    "tags": []
   },
   "outputs": [],
   "source": [
    "def reduce_mem(df):\n",
    "    result = df.copy()\n",
    "    for col in result.columns:\n",
    "        col_data = result[col]\n",
    "        dn = col_data.dtype.name\n",
    "        if not dn.startswith(\"datetime\"):  # avoid changing datetime\n",
    "            if dn == \"object\":  # only object features have low cardinality\n",
    "                result[col] = pd.to_numeric(col_data.astype(\"category\").cat.codes, downcast=\"unsigned\")\n",
    "            elif dn.startswith(\"int\") | dn.startswith(\"uint\"):\n",
    "                if col_data.min() >= 0:\n",
    "                    result[col] = pd.to_numeric(col_data, downcast=\"unsigned\")\n",
    "                else:\n",
    "                    result[col] = pd.to_numeric(col_data, downcast='integer')\n",
    "            else:\n",
    "                result[col] = pd.to_numeric(col_data, downcast='float')\n",
    "    return result"
   ]
  },
  {
   "cell_type": "markdown",
   "id": "silent-engine",
   "metadata": {
    "papermill": {
     "duration": 0.033948,
     "end_time": "2021-06-19T10:45:08.627941",
     "exception": false,
     "start_time": "2021-06-19T10:45:08.593993",
     "status": "completed"
    },
    "tags": []
   },
   "source": [
    "Routine to add lag features to weather dataset, adapted from [this kernel](https://www.kaggle.com/corochann/ashrae-training-lgbm-by-meter-type/notebook)."
   ]
  },
  {
   "cell_type": "code",
   "execution_count": 4,
   "id": "descending-dealing",
   "metadata": {
    "execution": {
     "iopub.execute_input": "2021-06-19T10:45:08.701450Z",
     "iopub.status.busy": "2021-06-19T10:45:08.697984Z",
     "iopub.status.idle": "2021-06-19T10:45:08.703619Z",
     "shell.execute_reply": "2021-06-19T10:45:08.704285Z",
     "shell.execute_reply.started": "2021-06-17T17:19:34.445578Z"
    },
    "papermill": {
     "duration": 0.042295,
     "end_time": "2021-06-19T10:45:08.704562",
     "exception": false,
     "start_time": "2021-06-19T10:45:08.662267",
     "status": "completed"
    },
    "tags": []
   },
   "outputs": [],
   "source": [
    "def add_lag_features(weather_df, window=3):\n",
    "    group_df = weather_df.groupby('site_id')\n",
    "    cols = ['air_temperature', 'cloud_coverage', 'dew_temperature', 'precip_depth_1_hr']\n",
    "    rolled = group_df[cols].rolling(window=window, min_periods=0)\n",
    "    lag_mean = rolled.mean().reset_index().astype(np.float16)\n",
    "    lag_max = rolled.max().reset_index().astype(np.float16)\n",
    "    lag_min = rolled.min().reset_index().astype(np.float16)\n",
    "    for col in cols:\n",
    "        weather_df[f'{col}_min_lag{window}'] = lag_min[col]\n",
    "        weather_df[f'{col}_mean_lag{window}'] = lag_mean[col]\n",
    "        weather_df[f'{col}_max_lag{window}'] = lag_max[col]\n",
    "    return weather_df"
   ]
  },
  {
   "cell_type": "markdown",
   "id": "portable-compression",
   "metadata": {
    "papermill": {
     "duration": 0.035127,
     "end_time": "2021-06-19T10:45:08.774980",
     "exception": false,
     "start_time": "2021-06-19T10:45:08.739853",
     "status": "completed"
    },
    "tags": []
   },
   "source": [
    "# Load data"
   ]
  },
  {
   "cell_type": "code",
   "execution_count": 5,
   "id": "continental-competition",
   "metadata": {
    "execution": {
     "iopub.execute_input": "2021-06-19T10:45:08.846948Z",
     "iopub.status.busy": "2021-06-19T10:45:08.846341Z",
     "iopub.status.idle": "2021-06-19T10:45:08.858221Z",
     "shell.execute_reply": "2021-06-19T10:45:08.858737Z",
     "shell.execute_reply.started": "2021-06-17T17:19:34.458263Z"
    },
    "papermill": {
     "duration": 0.049128,
     "end_time": "2021-06-19T10:45:08.858888",
     "exception": false,
     "start_time": "2021-06-19T10:45:08.809760",
     "status": "completed"
    },
    "tags": []
   },
   "outputs": [],
   "source": [
    "def load_data(source='train'):\n",
    "    assert source in ['train','test']\n",
    "    df = pd.read_csv(f'{path}/{source}.csv', parse_dates=['timestamp'])\n",
    "    return reduce_mem(df)\n",
    "\n",
    "def load_building():\n",
    "    df = pd.read_csv(f'{path}/building_metadata.csv').fillna(-1)\n",
    "    return reduce_mem(df)\n",
    "\n",
    "def load_weather(source='train', fix_timezone=True, impute=True, add_lag=True):\n",
    "    assert source in ['train','test']\n",
    "    df = pd.read_csv(f'{path}/weather_{source}.csv', parse_dates=['timestamp'])\n",
    "    if fix_timezone:\n",
    "        offsets = [5,0,9,6,8,0,6,6,5,7,8,6,0,7,6,6]\n",
    "        offset_map = {site: offset for site, offset in enumerate(offsets)}\n",
    "        df.timestamp = df.timestamp - pd.to_timedelta(df.site_id.map(offset_map), unit='h')\n",
    "    if impute:\n",
    "        site_dfs = []\n",
    "        for site in df.site_id.unique():\n",
    "            if source == 'train':\n",
    "                new_idx = pd.date_range(start='2016-1-1', end='2016-12-31-23', freq='H')\n",
    "            else:\n",
    "                new_idx = pd.date_range(start='2017-1-1', end='2018-12-31-23', freq='H')\n",
    "            site_df = df[df.site_id == site].set_index('timestamp').reindex(new_idx)\n",
    "            site_df.site_id = site\n",
    "            for col in [c for c in site_df.columns if c != 'site_id']:\n",
    "                site_df[col] = site_df[col].interpolate(limit_direction='both', method='linear')\n",
    "                site_df[col] = site_df[col].fillna(df[col].median())\n",
    "            site_dfs.append(site_df)\n",
    "        df = pd.concat(site_dfs)\n",
    "        df['timestamp'] = df.index\n",
    "        df = df.reset_index(drop=True)\n",
    "        \n",
    "    if add_lag:\n",
    "        df = add_lag_features(df, window=3)\n",
    "    \n",
    "    return reduce_mem(df)\n",
    "\n",
    "def merged_dfs(source='train', fix_timezone=True, impute=True, add_lag=True):\n",
    "    df = load_data(source=source).merge(load_building(), on='building_id', how='left')\n",
    "    df = df.merge(load_weather(source=source, fix_timezone=True, impute=True, add_lag=True),\n",
    "                 on=['site_id','timestamp'], how='left')\n",
    "    if source == 'train':\n",
    "        X = df.drop('meter_reading', axis=1)  \n",
    "        y = np.log1p(df.meter_reading)  # log-transform of target\n",
    "        return X, y\n",
    "    elif source == 'test':\n",
    "        return df"
   ]
  },
  {
   "cell_type": "code",
   "execution_count": 6,
   "id": "agricultural-worship",
   "metadata": {
    "execution": {
     "iopub.execute_input": "2021-06-19T10:45:08.931353Z",
     "iopub.status.busy": "2021-06-19T10:45:08.930747Z",
     "iopub.status.idle": "2021-06-19T10:45:34.499645Z",
     "shell.execute_reply": "2021-06-19T10:45:34.499067Z",
     "shell.execute_reply.started": "2021-06-17T17:19:34.478249Z"
    },
    "papermill": {
     "duration": 25.605657,
     "end_time": "2021-06-19T10:45:34.499773",
     "exception": false,
     "start_time": "2021-06-19T10:45:08.894116",
     "status": "completed"
    },
    "tags": []
   },
   "outputs": [
    {
     "name": "stdout",
     "output_type": "stream",
     "text": [
      "CPU times: user 18 s, sys: 2.27 s, total: 20.3 s\n",
      "Wall time: 25.5 s\n"
     ]
    },
    {
     "data": {
      "text/html": [
       "<div>\n",
       "<style scoped>\n",
       "    .dataframe tbody tr th:only-of-type {\n",
       "        vertical-align: middle;\n",
       "    }\n",
       "\n",
       "    .dataframe tbody tr th {\n",
       "        vertical-align: top;\n",
       "    }\n",
       "\n",
       "    .dataframe thead th {\n",
       "        text-align: right;\n",
       "    }\n",
       "</style>\n",
       "<table border=\"1\" class=\"dataframe\">\n",
       "  <thead>\n",
       "    <tr style=\"text-align: right;\">\n",
       "      <th></th>\n",
       "      <th>building_id</th>\n",
       "      <th>meter</th>\n",
       "      <th>timestamp</th>\n",
       "      <th>site_id</th>\n",
       "      <th>primary_use</th>\n",
       "      <th>square_feet</th>\n",
       "      <th>year_built</th>\n",
       "      <th>floor_count</th>\n",
       "      <th>air_temperature</th>\n",
       "      <th>cloud_coverage</th>\n",
       "      <th>...</th>\n",
       "      <th>air_temperature_max_lag3</th>\n",
       "      <th>cloud_coverage_min_lag3</th>\n",
       "      <th>cloud_coverage_mean_lag3</th>\n",
       "      <th>cloud_coverage_max_lag3</th>\n",
       "      <th>dew_temperature_min_lag3</th>\n",
       "      <th>dew_temperature_mean_lag3</th>\n",
       "      <th>dew_temperature_max_lag3</th>\n",
       "      <th>precip_depth_1_hr_min_lag3</th>\n",
       "      <th>precip_depth_1_hr_mean_lag3</th>\n",
       "      <th>precip_depth_1_hr_max_lag3</th>\n",
       "    </tr>\n",
       "  </thead>\n",
       "  <tbody>\n",
       "    <tr>\n",
       "      <th>0</th>\n",
       "      <td>0</td>\n",
       "      <td>0</td>\n",
       "      <td>2016-01-01</td>\n",
       "      <td>0</td>\n",
       "      <td>0</td>\n",
       "      <td>7432</td>\n",
       "      <td>2008.0</td>\n",
       "      <td>-1.0</td>\n",
       "      <td>19.4</td>\n",
       "      <td>6.0</td>\n",
       "      <td>...</td>\n",
       "      <td>19.40625</td>\n",
       "      <td>6.0</td>\n",
       "      <td>6.0</td>\n",
       "      <td>6.0</td>\n",
       "      <td>19.40625</td>\n",
       "      <td>19.40625</td>\n",
       "      <td>19.40625</td>\n",
       "      <td>0.0</td>\n",
       "      <td>0.0</td>\n",
       "      <td>0.0</td>\n",
       "    </tr>\n",
       "    <tr>\n",
       "      <th>1</th>\n",
       "      <td>1</td>\n",
       "      <td>0</td>\n",
       "      <td>2016-01-01</td>\n",
       "      <td>0</td>\n",
       "      <td>0</td>\n",
       "      <td>2720</td>\n",
       "      <td>2004.0</td>\n",
       "      <td>-1.0</td>\n",
       "      <td>19.4</td>\n",
       "      <td>6.0</td>\n",
       "      <td>...</td>\n",
       "      <td>19.40625</td>\n",
       "      <td>6.0</td>\n",
       "      <td>6.0</td>\n",
       "      <td>6.0</td>\n",
       "      <td>19.40625</td>\n",
       "      <td>19.40625</td>\n",
       "      <td>19.40625</td>\n",
       "      <td>0.0</td>\n",
       "      <td>0.0</td>\n",
       "      <td>0.0</td>\n",
       "    </tr>\n",
       "    <tr>\n",
       "      <th>2</th>\n",
       "      <td>2</td>\n",
       "      <td>0</td>\n",
       "      <td>2016-01-01</td>\n",
       "      <td>0</td>\n",
       "      <td>0</td>\n",
       "      <td>5376</td>\n",
       "      <td>1991.0</td>\n",
       "      <td>-1.0</td>\n",
       "      <td>19.4</td>\n",
       "      <td>6.0</td>\n",
       "      <td>...</td>\n",
       "      <td>19.40625</td>\n",
       "      <td>6.0</td>\n",
       "      <td>6.0</td>\n",
       "      <td>6.0</td>\n",
       "      <td>19.40625</td>\n",
       "      <td>19.40625</td>\n",
       "      <td>19.40625</td>\n",
       "      <td>0.0</td>\n",
       "      <td>0.0</td>\n",
       "      <td>0.0</td>\n",
       "    </tr>\n",
       "    <tr>\n",
       "      <th>3</th>\n",
       "      <td>3</td>\n",
       "      <td>0</td>\n",
       "      <td>2016-01-01</td>\n",
       "      <td>0</td>\n",
       "      <td>0</td>\n",
       "      <td>23685</td>\n",
       "      <td>2002.0</td>\n",
       "      <td>-1.0</td>\n",
       "      <td>19.4</td>\n",
       "      <td>6.0</td>\n",
       "      <td>...</td>\n",
       "      <td>19.40625</td>\n",
       "      <td>6.0</td>\n",
       "      <td>6.0</td>\n",
       "      <td>6.0</td>\n",
       "      <td>19.40625</td>\n",
       "      <td>19.40625</td>\n",
       "      <td>19.40625</td>\n",
       "      <td>0.0</td>\n",
       "      <td>0.0</td>\n",
       "      <td>0.0</td>\n",
       "    </tr>\n",
       "    <tr>\n",
       "      <th>4</th>\n",
       "      <td>4</td>\n",
       "      <td>0</td>\n",
       "      <td>2016-01-01</td>\n",
       "      <td>0</td>\n",
       "      <td>0</td>\n",
       "      <td>116607</td>\n",
       "      <td>1975.0</td>\n",
       "      <td>-1.0</td>\n",
       "      <td>19.4</td>\n",
       "      <td>6.0</td>\n",
       "      <td>...</td>\n",
       "      <td>19.40625</td>\n",
       "      <td>6.0</td>\n",
       "      <td>6.0</td>\n",
       "      <td>6.0</td>\n",
       "      <td>19.40625</td>\n",
       "      <td>19.40625</td>\n",
       "      <td>19.40625</td>\n",
       "      <td>0.0</td>\n",
       "      <td>0.0</td>\n",
       "      <td>0.0</td>\n",
       "    </tr>\n",
       "  </tbody>\n",
       "</table>\n",
       "<p>5 rows × 27 columns</p>\n",
       "</div>"
      ],
      "text/plain": [
       "   building_id  meter  timestamp  site_id  primary_use  square_feet  \\\n",
       "0            0      0 2016-01-01        0            0         7432   \n",
       "1            1      0 2016-01-01        0            0         2720   \n",
       "2            2      0 2016-01-01        0            0         5376   \n",
       "3            3      0 2016-01-01        0            0        23685   \n",
       "4            4      0 2016-01-01        0            0       116607   \n",
       "\n",
       "   year_built  floor_count  air_temperature  cloud_coverage  ...  \\\n",
       "0      2008.0         -1.0             19.4             6.0  ...   \n",
       "1      2004.0         -1.0             19.4             6.0  ...   \n",
       "2      1991.0         -1.0             19.4             6.0  ...   \n",
       "3      2002.0         -1.0             19.4             6.0  ...   \n",
       "4      1975.0         -1.0             19.4             6.0  ...   \n",
       "\n",
       "   air_temperature_max_lag3  cloud_coverage_min_lag3  \\\n",
       "0                  19.40625                      6.0   \n",
       "1                  19.40625                      6.0   \n",
       "2                  19.40625                      6.0   \n",
       "3                  19.40625                      6.0   \n",
       "4                  19.40625                      6.0   \n",
       "\n",
       "   cloud_coverage_mean_lag3  cloud_coverage_max_lag3  \\\n",
       "0                       6.0                      6.0   \n",
       "1                       6.0                      6.0   \n",
       "2                       6.0                      6.0   \n",
       "3                       6.0                      6.0   \n",
       "4                       6.0                      6.0   \n",
       "\n",
       "   dew_temperature_min_lag3  dew_temperature_mean_lag3  \\\n",
       "0                  19.40625                   19.40625   \n",
       "1                  19.40625                   19.40625   \n",
       "2                  19.40625                   19.40625   \n",
       "3                  19.40625                   19.40625   \n",
       "4                  19.40625                   19.40625   \n",
       "\n",
       "   dew_temperature_max_lag3  precip_depth_1_hr_min_lag3  \\\n",
       "0                  19.40625                         0.0   \n",
       "1                  19.40625                         0.0   \n",
       "2                  19.40625                         0.0   \n",
       "3                  19.40625                         0.0   \n",
       "4                  19.40625                         0.0   \n",
       "\n",
       "   precip_depth_1_hr_mean_lag3  precip_depth_1_hr_max_lag3  \n",
       "0                          0.0                         0.0  \n",
       "1                          0.0                         0.0  \n",
       "2                          0.0                         0.0  \n",
       "3                          0.0                         0.0  \n",
       "4                          0.0                         0.0  \n",
       "\n",
       "[5 rows x 27 columns]"
      ]
     },
     "execution_count": 6,
     "metadata": {},
     "output_type": "execute_result"
    }
   ],
   "source": [
    "%%time\n",
    "X_train, y_train = merged_dfs()\n",
    "X_train.head()"
   ]
  },
  {
   "cell_type": "code",
   "execution_count": 7,
   "id": "returning-locator",
   "metadata": {
    "execution": {
     "iopub.execute_input": "2021-06-19T10:45:34.550020Z",
     "iopub.status.busy": "2021-06-19T10:45:34.549572Z",
     "iopub.status.idle": "2021-06-19T10:45:34.560779Z",
     "shell.execute_reply": "2021-06-19T10:45:34.561263Z",
     "shell.execute_reply.started": "2021-06-17T17:20:06.398979Z"
    },
    "papermill": {
     "duration": 0.037517,
     "end_time": "2021-06-19T10:45:34.561421",
     "exception": false,
     "start_time": "2021-06-19T10:45:34.523904",
     "status": "completed"
    },
    "tags": []
   },
   "outputs": [
    {
     "name": "stdout",
     "output_type": "stream",
     "text": [
      "<class 'pandas.core.frame.DataFrame'>\n",
      "Int64Index: 20216100 entries, 0 to 20216099\n",
      "Data columns (total 27 columns):\n",
      " #   Column                       Dtype         \n",
      "---  ------                       -----         \n",
      " 0   building_id                  uint16        \n",
      " 1   meter                        uint8         \n",
      " 2   timestamp                    datetime64[ns]\n",
      " 3   site_id                      uint8         \n",
      " 4   primary_use                  uint8         \n",
      " 5   square_feet                  uint32        \n",
      " 6   year_built                   float32       \n",
      " 7   floor_count                  float32       \n",
      " 8   air_temperature              float32       \n",
      " 9   cloud_coverage               float32       \n",
      " 10  dew_temperature              float32       \n",
      " 11  precip_depth_1_hr            float32       \n",
      " 12  sea_level_pressure           float32       \n",
      " 13  wind_direction               float32       \n",
      " 14  wind_speed                   float32       \n",
      " 15  air_temperature_min_lag3     float16       \n",
      " 16  air_temperature_mean_lag3    float16       \n",
      " 17  air_temperature_max_lag3     float16       \n",
      " 18  cloud_coverage_min_lag3      float16       \n",
      " 19  cloud_coverage_mean_lag3     float16       \n",
      " 20  cloud_coverage_max_lag3      float16       \n",
      " 21  dew_temperature_min_lag3     float16       \n",
      " 22  dew_temperature_mean_lag3    float16       \n",
      " 23  dew_temperature_max_lag3     float16       \n",
      " 24  precip_depth_1_hr_min_lag3   float16       \n",
      " 25  precip_depth_1_hr_mean_lag3  float16       \n",
      " 26  precip_depth_1_hr_max_lag3   float16       \n",
      "dtypes: datetime64[ns](1), float16(12), float32(9), uint16(1), uint32(1), uint8(3)\n",
      "memory usage: 1.6 GB\n"
     ]
    }
   ],
   "source": [
    "X_train.info()"
   ]
  },
  {
   "cell_type": "markdown",
   "id": "sonic-adelaide",
   "metadata": {
    "papermill": {
     "duration": 0.022964,
     "end_time": "2021-06-19T10:45:34.608888",
     "exception": false,
     "start_time": "2021-06-19T10:45:34.585924",
     "status": "completed"
    },
    "tags": []
   },
   "source": [
    "This corresponds to more than 50% improvement in memory usage! Plus, we have already filled time gaps and missing values."
   ]
  },
  {
   "cell_type": "markdown",
   "id": "theoretical-kidney",
   "metadata": {
    "papermill": {
     "duration": 0.02334,
     "end_time": "2021-06-19T10:45:34.655899",
     "exception": false,
     "start_time": "2021-06-19T10:45:34.632559",
     "status": "completed"
    },
    "tags": []
   },
   "source": [
    "# Preprocessing"
   ]
  },
  {
   "cell_type": "markdown",
   "id": "coupled-banana",
   "metadata": {
    "papermill": {
     "duration": 0.023072,
     "end_time": "2021-06-19T10:45:34.702292",
     "exception": false,
     "start_time": "2021-06-19T10:45:34.679220",
     "status": "completed"
    },
    "tags": []
   },
   "source": [
    "Let us remove the first 141 days of electrical meter readings at site 0, which are mostly zero or contain anomalous spikes."
   ]
  },
  {
   "cell_type": "code",
   "execution_count": 8,
   "id": "ignored-james",
   "metadata": {
    "execution": {
     "iopub.execute_input": "2021-06-19T10:45:34.754511Z",
     "iopub.status.busy": "2021-06-19T10:45:34.754059Z",
     "iopub.status.idle": "2021-06-19T10:45:34.757238Z",
     "shell.execute_reply": "2021-06-19T10:45:34.756853Z",
     "shell.execute_reply.started": "2021-06-17T17:20:06.416317Z"
    },
    "papermill": {
     "duration": 0.031482,
     "end_time": "2021-06-19T10:45:34.757334",
     "exception": false,
     "start_time": "2021-06-19T10:45:34.725852",
     "status": "completed"
    },
    "tags": []
   },
   "outputs": [],
   "source": [
    "def _delete_bad_sitezero(X, y):\n",
    "    cond = (X.timestamp > '2016-05-20') | (X.site_id != 0) | (X.meter != 0)\n",
    "    X = X[cond]\n",
    "    y = y.reindex_like(X)\n",
    "    return X.reset_index(drop=True), y.reset_index(drop=True)\n",
    "\n",
    "def _extract_temporal(X):\n",
    "    X['hour'] = X.timestamp.dt.hour\n",
    "    X['weekday'] = X.timestamp.dt.weekday\n",
    "    # month and year cause overfit, could try other (holiday, business, etc.)\n",
    "    return reduce_mem(X)"
   ]
  },
  {
   "cell_type": "code",
   "execution_count": 9,
   "id": "alone-healing",
   "metadata": {
    "execution": {
     "iopub.execute_input": "2021-06-19T10:45:34.805485Z",
     "iopub.status.busy": "2021-06-19T10:45:34.804847Z",
     "iopub.status.idle": "2021-06-19T10:45:47.076726Z",
     "shell.execute_reply": "2021-06-19T10:45:47.077217Z",
     "shell.execute_reply.started": "2021-06-17T17:20:06.426299Z"
    },
    "papermill": {
     "duration": 12.297379,
     "end_time": "2021-06-19T10:45:47.077524",
     "exception": false,
     "start_time": "2021-06-19T10:45:34.780145",
     "status": "completed"
    },
    "tags": []
   },
   "outputs": [
    {
     "data": {
      "text/plain": [
       "57"
      ]
     },
     "execution_count": 9,
     "metadata": {},
     "output_type": "execute_result"
    }
   ],
   "source": [
    "# preprocessing\n",
    "X_train, y_train = _delete_bad_sitezero(X_train, y_train)\n",
    "X_train = _extract_temporal(X_train)\n",
    "\n",
    "# remove timestamp and other unimportant features\n",
    "to_drop = ['timestamp','sea_level_pressure','wind_direction','wind_speed']\n",
    "X_train.drop(to_drop, axis=1, inplace=True)\n",
    "\n",
    "gc.collect()"
   ]
  },
  {
   "cell_type": "markdown",
   "id": "documented-equivalent",
   "metadata": {
    "papermill": {
     "duration": 0.023393,
     "end_time": "2021-06-19T10:45:47.126213",
     "exception": false,
     "start_time": "2021-06-19T10:45:47.102820",
     "status": "completed"
    },
    "tags": []
   },
   "source": [
    "# Modeling (one model per meter)"
   ]
  },
  {
   "cell_type": "markdown",
   "id": "hindu-display",
   "metadata": {
    "papermill": {
     "duration": 0.023688,
     "end_time": "2021-06-19T10:45:47.173418",
     "exception": false,
     "start_time": "2021-06-19T10:45:47.149730",
     "status": "completed"
    },
    "tags": []
   },
   "source": [
    "Let us write a small wrapper for LGBM, to pass to a CV routine."
   ]
  },
  {
   "cell_type": "code",
   "execution_count": 10,
   "id": "minute-senator",
   "metadata": {
    "execution": {
     "iopub.execute_input": "2021-06-19T10:45:47.231503Z",
     "iopub.status.busy": "2021-06-19T10:45:47.230841Z",
     "iopub.status.idle": "2021-06-19T10:45:47.233742Z",
     "shell.execute_reply": "2021-06-19T10:45:47.233219Z",
     "shell.execute_reply.started": "2021-06-17T17:20:21.144478Z"
    },
    "papermill": {
     "duration": 0.036903,
     "end_time": "2021-06-19T10:45:47.233861",
     "exception": false,
     "start_time": "2021-06-19T10:45:47.196958",
     "status": "completed"
    },
    "tags": []
   },
   "outputs": [],
   "source": [
    "def LGBM_wrapper(Xt, yt, Xv, yv, fold=-1):\n",
    "    \n",
    "    cat_features = ['building_id','site_id','primary_use','hour','weekday']\n",
    "    \n",
    "    dset = lgb.Dataset(Xt, label=yt, categorical_feature=cat_features)\n",
    "    dset_val = lgb.Dataset(Xv, label=yv, categorical_feature=cat_features)\n",
    "    \n",
    "    params = {\n",
    "        \"objective\": \"regression\",\n",
    "        \"boosting\": \"gbdt\",\n",
    "        \"num_leaves\": 40,\n",
    "        \"learning_rate\": 0.05,\n",
    "        \"feature_fraction\": 0.85,\n",
    "        \"reg_lambda\": 2,\n",
    "        \"metric\": \"rmse\",\n",
    "        \"verbose\": -1\n",
    "    }\n",
    "    \n",
    "    print(f'Fold {fold}')\n",
    "    \n",
    "    # filter some known warnings (open issue at https://github.com/microsoft/LightGBM/issues/3379)\n",
    "    with warnings.catch_warnings():\n",
    "        warnings.filterwarnings(\"ignore\", \"categorical_column in param dict is overridden\")\n",
    "        warnings.filterwarnings(\"ignore\", \"Overriding the parameters from Reference Dataset\")\n",
    "        model = lgb.train(params,\n",
    "                         train_set=dset,\n",
    "                         num_boost_round=1000,\n",
    "                         valid_sets=[dset, dset_val],\n",
    "                         verbose_eval=200,\n",
    "                         early_stopping_rounds=100,\n",
    "                         categorical_feature=cat_features)\n",
    "    \n",
    "    oof = model.predict(Xv, num_iteration=model.best_iteration)\n",
    "    score = np.sqrt(mean_squared_error(yv, oof))\n",
    "    print(f'Fold {fold} RMSLE: {score}\\n')\n",
    "    return model, oof, score"
   ]
  },
  {
   "cell_type": "markdown",
   "id": "contrary-synthesis",
   "metadata": {
    "papermill": {
     "duration": 0.035519,
     "end_time": "2021-06-19T10:45:47.305529",
     "exception": false,
     "start_time": "2021-06-19T10:45:47.270010",
     "status": "completed"
    },
    "tags": []
   },
   "source": [
    "Let's train a model for each meter, to maximise meter-specific learning (at the expense for interaction effects between meter types). \n",
    "\n",
    "For each model we perform k-fold CV, without shuffling as this is a time series. An alternative would be to do a single train/validation split, possibly with a gap to mimic training/private split."
   ]
  },
  {
   "cell_type": "code",
   "execution_count": 11,
   "id": "natural-party",
   "metadata": {
    "execution": {
     "iopub.execute_input": "2021-06-19T10:45:47.380232Z",
     "iopub.status.busy": "2021-06-19T10:45:47.379583Z",
     "iopub.status.idle": "2021-06-19T10:45:47.386502Z",
     "shell.execute_reply": "2021-06-19T10:45:47.386985Z",
     "shell.execute_reply.started": "2021-06-17T17:20:21.155832Z"
    },
    "papermill": {
     "duration": 0.045688,
     "end_time": "2021-06-19T10:45:47.387131",
     "exception": false,
     "start_time": "2021-06-19T10:45:47.341443",
     "status": "completed"
    },
    "tags": []
   },
   "outputs": [],
   "source": [
    "def CV_per_meter(n_splits=3):  \n",
    "    \n",
    "    oof_total = np.zeros(X_train.shape[0])\n",
    "\n",
    "    kf = KFold(n_splits=n_splits, shuffle=False)\n",
    "    models = {}\n",
    "    scores = {}\n",
    "\n",
    "    for meter in tqdm(X_train.meter.sort_values().unique()):\n",
    "\n",
    "        print(f'TRAINING MODEL FOR METER {meter}')\n",
    "        X_train_meter = X_train[X_train.meter==meter].drop(columns='meter')\n",
    "        y_train_meter = y_train.reindex_like(X_train_meter)\n",
    "\n",
    "        models[meter] = []\n",
    "        scores[meter] = []\n",
    "\n",
    "        for fold, (train_idx, val_idx) in enumerate(kf.split(X_train_meter), start=1):\n",
    "            Xt, yt = X_train_meter.iloc[train_idx], y_train_meter.iloc[train_idx]\n",
    "            Xv, yv = X_train_meter.iloc[val_idx], y_train_meter.iloc[val_idx]\n",
    "            model, oof, score = LGBM_wrapper(Xt, yt, Xv, yv, fold)\n",
    "\n",
    "            models[meter].append(model)\n",
    "            scores[meter].append(score)\n",
    "            oof_total[X_train_meter.index[val_idx]] = oof\n",
    "\n",
    "        rmsle_meter = np.sqrt(mean_squared_error(y_train_meter, oof_total[y_train_meter.index]))\n",
    "        \n",
    "        print(f'> Mean RMSLE for meter {meter}: {np.mean(scores[meter])}, std: {np.std(scores[meter])}')\n",
    "        print(f'> OOF RMSLE for meter {meter}: {rmsle_meter}\\n')\n",
    "    print('Training completed.')\n",
    "    return models, scores, oof_total"
   ]
  },
  {
   "cell_type": "code",
   "execution_count": 12,
   "id": "smooth-abortion",
   "metadata": {
    "execution": {
     "iopub.execute_input": "2021-06-19T10:45:47.443671Z",
     "iopub.status.busy": "2021-06-19T10:45:47.443137Z",
     "iopub.status.idle": "2021-06-19T11:00:32.363333Z",
     "shell.execute_reply": "2021-06-19T11:00:32.362909Z",
     "shell.execute_reply.started": "2021-06-17T17:20:21.177853Z"
    },
    "papermill": {
     "duration": 884.951133,
     "end_time": "2021-06-19T11:00:32.363466",
     "exception": false,
     "start_time": "2021-06-19T10:45:47.412333",
     "status": "completed"
    },
    "tags": []
   },
   "outputs": [
    {
     "data": {
      "application/vnd.jupyter.widget-view+json": {
       "model_id": "2efb1fdb125749369fb8af7e86bc4a3d",
       "version_major": 2,
       "version_minor": 0
      },
      "text/plain": [
       "  0%|          | 0/4 [00:00<?, ?it/s]"
      ]
     },
     "metadata": {},
     "output_type": "display_data"
    },
    {
     "name": "stdout",
     "output_type": "stream",
     "text": [
      "TRAINING MODEL FOR METER 0\n",
      "Fold 1\n",
      "Training until validation scores don't improve for 100 rounds\n",
      "Early stopping, best iteration is:\n",
      "[60]\ttraining's rmse: 0.604227\tvalid_1's rmse: 0.697048\n",
      "Fold 1 RMSLE: 0.6970482462337642\n",
      "\n",
      "Fold 2\n",
      "Training until validation scores don't improve for 100 rounds\n",
      "[200]\ttraining's rmse: 0.516879\tvalid_1's rmse: 0.675298\n",
      "Early stopping, best iteration is:\n",
      "[105]\ttraining's rmse: 0.557333\tvalid_1's rmse: 0.664321\n",
      "Fold 2 RMSLE: 0.6643209034723367\n",
      "\n",
      "Fold 3\n",
      "Training until validation scores don't improve for 100 rounds\n",
      "[200]\ttraining's rmse: 0.469432\tvalid_1's rmse: 0.754163\n",
      "Early stopping, best iteration is:\n",
      "[102]\ttraining's rmse: 0.518205\tvalid_1's rmse: 0.749747\n",
      "Fold 3 RMSLE: 0.7497471979801242\n",
      "\n",
      "> Mean RMSLE for meter 0: 0.7037054492287417, std: 0.035191397737894835\n",
      "> OOF RMSLE for meter 0: 0.7045848338860609\n",
      "\n",
      "TRAINING MODEL FOR METER 1\n",
      "Fold 1\n",
      "Training until validation scores don't improve for 100 rounds\n",
      "[200]\ttraining's rmse: 1.0692\tvalid_1's rmse: 1.37687\n",
      "[400]\ttraining's rmse: 1.01061\tvalid_1's rmse: 1.37471\n",
      "Early stopping, best iteration is:\n",
      "[395]\ttraining's rmse: 1.01188\tvalid_1's rmse: 1.37458\n",
      "Fold 1 RMSLE: 1.3745831503828663\n",
      "\n",
      "Fold 2\n",
      "Training until validation scores don't improve for 100 rounds\n",
      "[200]\ttraining's rmse: 1.08891\tvalid_1's rmse: 1.37113\n",
      "Early stopping, best iteration is:\n",
      "[197]\ttraining's rmse: 1.09007\tvalid_1's rmse: 1.37049\n",
      "Fold 2 RMSLE: 1.3704910061338196\n",
      "\n",
      "Fold 3\n",
      "Training until validation scores don't improve for 100 rounds\n",
      "[200]\ttraining's rmse: 0.986696\tvalid_1's rmse: 1.45769\n",
      "Early stopping, best iteration is:\n",
      "[230]\ttraining's rmse: 0.975549\tvalid_1's rmse: 1.45741\n",
      "Fold 3 RMSLE: 1.4574125106648268\n",
      "\n",
      "> Mean RMSLE for meter 1: 1.400828889060504, std: 0.04004552481476237\n",
      "> OOF RMSLE for meter 1: 1.4014011496352023\n",
      "\n",
      "TRAINING MODEL FOR METER 2\n",
      "Fold 1\n",
      "Training until validation scores don't improve for 100 rounds\n",
      "[200]\ttraining's rmse: 1.18398\tvalid_1's rmse: 1.62677\n",
      "Early stopping, best iteration is:\n",
      "[113]\ttraining's rmse: 1.22757\tvalid_1's rmse: 1.62446\n",
      "Fold 1 RMSLE: 1.6244599816845688\n",
      "\n",
      "Fold 2\n",
      "Training until validation scores don't improve for 100 rounds\n",
      "[200]\ttraining's rmse: 1.21004\tvalid_1's rmse: 1.4719\n",
      "Early stopping, best iteration is:\n",
      "[276]\ttraining's rmse: 1.18408\tvalid_1's rmse: 1.4705\n",
      "Fold 2 RMSLE: 1.470497038704457\n",
      "\n",
      "Fold 3\n",
      "Training until validation scores don't improve for 100 rounds\n",
      "Early stopping, best iteration is:\n",
      "[76]\ttraining's rmse: 1.2357\tvalid_1's rmse: 1.57426\n",
      "Fold 3 RMSLE: 1.5742572310926624\n",
      "\n",
      "> Mean RMSLE for meter 2: 1.556404750493896, std: 0.064110218896425\n",
      "> OOF RMSLE for meter 2: 1.5577246052904796\n",
      "\n",
      "TRAINING MODEL FOR METER 3\n",
      "Fold 1\n",
      "Training until validation scores don't improve for 100 rounds\n",
      "[200]\ttraining's rmse: 1.26572\tvalid_1's rmse: 1.65479\n",
      "Early stopping, best iteration is:\n",
      "[148]\ttraining's rmse: 1.28571\tvalid_1's rmse: 1.64849\n",
      "Fold 1 RMSLE: 1.6484869597558536\n",
      "\n",
      "Fold 2\n",
      "Training until validation scores don't improve for 100 rounds\n",
      "[200]\ttraining's rmse: 1.36765\tvalid_1's rmse: 1.38709\n",
      "Early stopping, best iteration is:\n",
      "[286]\ttraining's rmse: 1.34418\tvalid_1's rmse: 1.38467\n",
      "Fold 2 RMSLE: 1.3846676010259147\n",
      "\n",
      "Fold 3\n",
      "Training until validation scores don't improve for 100 rounds\n",
      "Early stopping, best iteration is:\n",
      "[76]\ttraining's rmse: 1.25899\tvalid_1's rmse: 1.69029\n",
      "Fold 3 RMSLE: 1.6902881386822162\n",
      "\n",
      "> Mean RMSLE for meter 3: 1.574480899821328, std: 0.13529880743403006\n",
      "> OOF RMSLE for meter 3: 1.5802833880570257\n",
      "\n",
      "Training completed.\n"
     ]
    }
   ],
   "source": [
    "n_splits = 3\n",
    "models, scores, oof_total = CV_per_meter(n_splits=n_splits)"
   ]
  },
  {
   "cell_type": "code",
   "execution_count": 13,
   "id": "increasing-acoustic",
   "metadata": {
    "execution": {
     "iopub.execute_input": "2021-06-19T11:00:32.445855Z",
     "iopub.status.busy": "2021-06-19T11:00:32.445336Z",
     "iopub.status.idle": "2021-06-19T11:00:32.524095Z",
     "shell.execute_reply": "2021-06-19T11:00:32.523701Z",
     "shell.execute_reply.started": "2021-06-17T17:32:54.737546Z"
    },
    "papermill": {
     "duration": 0.122002,
     "end_time": "2021-06-19T11:00:32.524205",
     "exception": false,
     "start_time": "2021-06-19T11:00:32.402203",
     "status": "completed"
    },
    "tags": []
   },
   "outputs": [
    {
     "name": "stdout",
     "output_type": "stream",
     "text": [
      "TOTAL OOF RMSLE: 1.0934944878619095\n"
     ]
    }
   ],
   "source": [
    "print(f'TOTAL OOF RMSLE: {np.sqrt(mean_squared_error(y_train, oof_total))}')"
   ]
  },
  {
   "cell_type": "markdown",
   "id": "august-stocks",
   "metadata": {
    "papermill": {
     "duration": 0.038433,
     "end_time": "2021-06-19T11:00:32.601129",
     "exception": false,
     "start_time": "2021-06-19T11:00:32.562696",
     "status": "completed"
    },
    "tags": []
   },
   "source": [
    "## Feature importance"
   ]
  },
  {
   "cell_type": "markdown",
   "id": "numeric-combining",
   "metadata": {
    "papermill": {
     "duration": 0.038143,
     "end_time": "2021-06-19T11:00:32.677813",
     "exception": false,
     "start_time": "2021-06-19T11:00:32.639670",
     "status": "completed"
    },
    "tags": []
   },
   "source": [
    "Let's see the average feature importance across models (per meter type). We can use this to retroactively drop further superfluous features during preprocessing."
   ]
  },
  {
   "cell_type": "code",
   "execution_count": 14,
   "id": "direct-jewel",
   "metadata": {
    "execution": {
     "iopub.execute_input": "2021-06-19T11:00:32.761585Z",
     "iopub.status.busy": "2021-06-19T11:00:32.760954Z",
     "iopub.status.idle": "2021-06-19T11:00:32.762399Z",
     "shell.execute_reply": "2021-06-19T11:00:32.762903Z",
     "shell.execute_reply.started": "2021-06-17T17:32:54.905403Z"
    },
    "papermill": {
     "duration": 0.046838,
     "end_time": "2021-06-19T11:00:32.763057",
     "exception": false,
     "start_time": "2021-06-19T11:00:32.716219",
     "status": "completed"
    },
    "tags": []
   },
   "outputs": [],
   "source": [
    "def plot_importance(meter):    \n",
    "    importance = pd.DataFrame([model.feature_importance() for model in models[meter]],\n",
    "                              columns=X_train.drop(columns='meter').columns,\n",
    "                              index=[f'Fold {i}' for i in range(1, n_splits + 1)])\n",
    "    importance = importance.T\n",
    "    importance['Average importance'] = importance.mean(axis=1)\n",
    "    importance = importance.sort_values(by='Average importance', ascending=False)\n",
    "\n",
    "    plt.figure(figsize=(10,7))\n",
    "    sns.barplot(x='Average importance', y=importance.index, data=importance);"
   ]
  },
  {
   "cell_type": "markdown",
   "id": "standing-aruba",
   "metadata": {
    "papermill": {
     "duration": 0.059702,
     "end_time": "2021-06-19T11:00:32.881482",
     "exception": false,
     "start_time": "2021-06-19T11:00:32.821780",
     "status": "completed"
    },
    "tags": []
   },
   "source": [
    "Let's plot it for e.g. meter 3:"
   ]
  },
  {
   "cell_type": "code",
   "execution_count": 15,
   "id": "varying-overall",
   "metadata": {
    "execution": {
     "iopub.execute_input": "2021-06-19T11:00:33.002371Z",
     "iopub.status.busy": "2021-06-19T11:00:33.001757Z",
     "iopub.status.idle": "2021-06-19T11:00:33.908325Z",
     "shell.execute_reply": "2021-06-19T11:00:33.907761Z",
     "shell.execute_reply.started": "2021-06-17T17:32:54.914242Z"
    },
    "papermill": {
     "duration": 0.967434,
     "end_time": "2021-06-19T11:00:33.908441",
     "exception": false,
     "start_time": "2021-06-19T11:00:32.941007",
     "status": "completed"
    },
    "tags": []
   },
   "outputs": [
    {
     "data": {
      "image/png": "[encoded data removed]",
      "text/plain": [
       "<Figure size 720x504 with 1 Axes>"
      ]
     },
     "metadata": {
      "needs_background": "light"
     },
     "output_type": "display_data"
    }
   ],
   "source": [
    "plot_importance(3)"
   ]
  },
  {
   "cell_type": "code",
   "execution_count": 16,
   "id": "assisted-affairs",
   "metadata": {
    "execution": {
     "iopub.execute_input": "2021-06-19T11:00:34.177762Z",
     "iopub.status.busy": "2021-06-19T11:00:34.176486Z",
     "iopub.status.idle": "2021-06-19T11:00:34.181753Z",
     "shell.execute_reply": "2021-06-19T11:00:34.181356Z",
     "shell.execute_reply.started": "2021-06-17T17:32:56.76255Z"
    },
    "papermill": {
     "duration": 0.220578,
     "end_time": "2021-06-19T11:00:34.181861",
     "exception": false,
     "start_time": "2021-06-19T11:00:33.961283",
     "status": "completed"
    },
    "tags": []
   },
   "outputs": [
    {
     "data": {
      "text/plain": [
       "7601"
      ]
     },
     "execution_count": 16,
     "metadata": {},
     "output_type": "execute_result"
    }
   ],
   "source": [
    "del X_train, y_train\n",
    "gc.collect()"
   ]
  },
  {
   "cell_type": "markdown",
   "id": "metric-population",
   "metadata": {
    "papermill": {
     "duration": 0.040174,
     "end_time": "2021-06-19T11:00:34.262849",
     "exception": false,
     "start_time": "2021-06-19T11:00:34.222675",
     "status": "completed"
    },
    "tags": []
   },
   "source": [
    "# Test set, inference and submission"
   ]
  },
  {
   "cell_type": "code",
   "execution_count": 17,
   "id": "wanted-proof",
   "metadata": {
    "execution": {
     "iopub.execute_input": "2021-06-19T11:00:34.349083Z",
     "iopub.status.busy": "2021-06-19T11:00:34.348544Z",
     "iopub.status.idle": "2021-06-19T11:01:42.129867Z",
     "shell.execute_reply": "2021-06-19T11:01:42.130402Z",
     "shell.execute_reply.started": "2021-06-17T17:32:56.973004Z"
    },
    "papermill": {
     "duration": 67.827272,
     "end_time": "2021-06-19T11:01:42.130561",
     "exception": false,
     "start_time": "2021-06-19T11:00:34.303289",
     "status": "completed"
    },
    "tags": []
   },
   "outputs": [
    {
     "name": "stdout",
     "output_type": "stream",
     "text": [
      "CPU times: user 53.3 s, sys: 3.36 s, total: 56.7 s\n",
      "Wall time: 1min 7s\n"
     ]
    }
   ],
   "source": [
    "%%time\n",
    "X_test = merged_dfs('test')"
   ]
  },
  {
   "cell_type": "code",
   "execution_count": 18,
   "id": "wooden-editor",
   "metadata": {
    "execution": {
     "iopub.execute_input": "2021-06-19T11:01:42.260259Z",
     "iopub.status.busy": "2021-06-19T11:01:42.259502Z",
     "iopub.status.idle": "2021-06-19T11:01:52.853197Z",
     "shell.execute_reply": "2021-06-19T11:01:52.852529Z",
     "shell.execute_reply.started": "2021-06-17T17:34:10.475085Z"
    },
    "papermill": {
     "duration": 10.660699,
     "end_time": "2021-06-19T11:01:52.853335",
     "exception": false,
     "start_time": "2021-06-19T11:01:42.192636",
     "status": "completed"
    },
    "tags": []
   },
   "outputs": [
    {
     "data": {
      "text/plain": [
       "34"
      ]
     },
     "execution_count": 18,
     "metadata": {},
     "output_type": "execute_result"
    }
   ],
   "source": [
    "row_ids = X_test.row_id # for submission file\n",
    "X_test = _extract_temporal(X_test)\n",
    "X_test.drop(columns=['row_id','timestamp']+to_drop, inplace=True)\n",
    "\n",
    "gc.collect()"
   ]
  },
  {
   "cell_type": "code",
   "execution_count": 19,
   "id": "injured-tourist",
   "metadata": {
    "execution": {
     "iopub.execute_input": "2021-06-19T11:01:52.982645Z",
     "iopub.status.busy": "2021-06-19T11:01:52.981996Z",
     "iopub.status.idle": "2021-06-19T11:01:52.992275Z",
     "shell.execute_reply": "2021-06-19T11:01:52.991796Z",
     "shell.execute_reply.started": "2021-06-17T17:34:36.954711Z"
    },
    "papermill": {
     "duration": 0.076557,
     "end_time": "2021-06-19T11:01:52.992389",
     "exception": false,
     "start_time": "2021-06-19T11:01:52.915832",
     "status": "completed"
    },
    "tags": []
   },
   "outputs": [
    {
     "name": "stdout",
     "output_type": "stream",
     "text": [
      "<class 'pandas.core.frame.DataFrame'>\n",
      "Int64Index: 41697600 entries, 0 to 41697599\n",
      "Data columns (total 25 columns):\n",
      " #   Column                       Dtype  \n",
      "---  ------                       -----  \n",
      " 0   building_id                  uint16 \n",
      " 1   meter                        uint8  \n",
      " 2   site_id                      uint8  \n",
      " 3   primary_use                  uint8  \n",
      " 4   square_feet                  uint32 \n",
      " 5   year_built                   float32\n",
      " 6   floor_count                  float32\n",
      " 7   air_temperature              float32\n",
      " 8   cloud_coverage               float32\n",
      " 9   dew_temperature              float32\n",
      " 10  precip_depth_1_hr            float32\n",
      " 11  air_temperature_min_lag3     float16\n",
      " 12  air_temperature_mean_lag3    float16\n",
      " 13  air_temperature_max_lag3     float16\n",
      " 14  cloud_coverage_min_lag3      float16\n",
      " 15  cloud_coverage_mean_lag3     float16\n",
      " 16  cloud_coverage_max_lag3      float16\n",
      " 17  dew_temperature_min_lag3     float16\n",
      " 18  dew_temperature_mean_lag3    float16\n",
      " 19  dew_temperature_max_lag3     float16\n",
      " 20  precip_depth_1_hr_min_lag3   float16\n",
      " 21  precip_depth_1_hr_mean_lag3  float16\n",
      " 22  precip_depth_1_hr_max_lag3   float16\n",
      " 23  hour                         uint8  \n",
      " 24  weekday                      uint8  \n",
      "dtypes: float16(12), float32(6), uint16(1), uint32(1), uint8(5)\n",
      "memory usage: 2.6 GB\n"
     ]
    }
   ],
   "source": [
    "X_test.info()"
   ]
  },
  {
   "cell_type": "markdown",
   "id": "hindu-sphere",
   "metadata": {
    "papermill": {
     "duration": 0.040288,
     "end_time": "2021-06-19T11:01:53.073911",
     "exception": false,
     "start_time": "2021-06-19T11:01:53.033623",
     "status": "completed"
    },
    "tags": []
   },
   "source": [
    "For each meter, we compute the predictions on the test set for each CV model, then average the results. We split the computation in batches, to keep memory usage within the limits. Naturally, we transform the predictions back into linear space with the inverse of the log-transform."
   ]
  },
  {
   "cell_type": "code",
   "execution_count": 20,
   "id": "professional-ghana",
   "metadata": {
    "execution": {
     "iopub.execute_input": "2021-06-19T11:01:53.157701Z",
     "iopub.status.busy": "2021-06-19T11:01:53.157214Z",
     "iopub.status.idle": "2021-06-19T11:11:07.712153Z",
     "shell.execute_reply": "2021-06-19T11:11:07.712545Z",
     "shell.execute_reply.started": "2021-06-17T17:34:36.973345Z"
    },
    "papermill": {
     "duration": 554.598233,
     "end_time": "2021-06-19T11:11:07.712703",
     "exception": false,
     "start_time": "2021-06-19T11:01:53.114470",
     "status": "completed"
    },
    "tags": []
   },
   "outputs": [
    {
     "name": "stdout",
     "output_type": "stream",
     "text": [
      "Getting predictions for meter 0...\n"
     ]
    },
    {
     "data": {
      "application/vnd.jupyter.widget-view+json": {
       "model_id": "466af2bd5f0f4df18e4c8f56b3287085",
       "version_major": 2,
       "version_minor": 0
      },
      "text/plain": [
       "  0%|          | 0/5 [00:00<?, ?it/s]"
      ]
     },
     "metadata": {},
     "output_type": "display_data"
    },
    {
     "name": "stdout",
     "output_type": "stream",
     "text": [
      "Getting predictions for meter 1...\n"
     ]
    },
    {
     "data": {
      "application/vnd.jupyter.widget-view+json": {
       "model_id": "c6b007787f454529b4e44e483702936d",
       "version_major": 2,
       "version_minor": 0
      },
      "text/plain": [
       "  0%|          | 0/5 [00:00<?, ?it/s]"
      ]
     },
     "metadata": {},
     "output_type": "display_data"
    },
    {
     "name": "stdout",
     "output_type": "stream",
     "text": [
      "Getting predictions for meter 2...\n"
     ]
    },
    {
     "data": {
      "application/vnd.jupyter.widget-view+json": {
       "model_id": "532f05ed22b74e569955d19dc28cc873",
       "version_major": 2,
       "version_minor": 0
      },
      "text/plain": [
       "  0%|          | 0/5 [00:00<?, ?it/s]"
      ]
     },
     "metadata": {},
     "output_type": "display_data"
    },
    {
     "name": "stdout",
     "output_type": "stream",
     "text": [
      "Getting predictions for meter 3...\n"
     ]
    },
    {
     "data": {
      "application/vnd.jupyter.widget-view+json": {
       "model_id": "d5cfc769bed94d85aad87656c7b1fb92",
       "version_major": 2,
       "version_minor": 0
      },
      "text/plain": [
       "  0%|          | 0/5 [00:00<?, ?it/s]"
      ]
     },
     "metadata": {},
     "output_type": "display_data"
    }
   ],
   "source": [
    "def get_preds(n_iterations=5):   \n",
    "    \n",
    "    all_preds = np.zeros(X_test.shape[0])\n",
    "    \n",
    "    for meter in range(4):\n",
    "\n",
    "        X_test_meter = X_test[X_test.meter == meter].drop(columns='meter')\n",
    "        batch_size = len(X_test_meter) // n_iterations\n",
    "        preds = []\n",
    "\n",
    "        print(f'Getting predictions for meter {meter}...')\n",
    "        for i in tqdm(range(n_iterations)):\n",
    "            start = i * batch_size\n",
    "            fold_preds = [np.expm1(model.predict(X_test_meter.iloc[start:start + batch_size], \n",
    "                             num_iteration=model.best_iteration)) for model in models[meter]]\n",
    "            preds.extend(np.mean(fold_preds, axis=0))\n",
    "\n",
    "        all_preds[X_test_meter.index] = preds\n",
    "        \n",
    "    return all_preds\n",
    "\n",
    "all_preds = get_preds()"
   ]
  },
  {
   "cell_type": "code",
   "execution_count": 21,
   "id": "obvious-denial",
   "metadata": {
    "execution": {
     "iopub.execute_input": "2021-06-19T11:11:07.957464Z",
     "iopub.status.busy": "2021-06-19T11:11:07.956873Z",
     "iopub.status.idle": "2021-06-19T11:11:07.959834Z",
     "shell.execute_reply": "2021-06-19T11:11:07.960224Z",
     "shell.execute_reply.started": "2021-06-17T17:46:25.452967Z"
    },
    "papermill": {
     "duration": 0.204412,
     "end_time": "2021-06-19T11:11:07.960351",
     "exception": false,
     "start_time": "2021-06-19T11:11:07.755939",
     "status": "completed"
    },
    "tags": []
   },
   "outputs": [
    {
     "data": {
      "text/plain": [
       "80"
      ]
     },
     "execution_count": 21,
     "metadata": {},
     "output_type": "execute_result"
    }
   ],
   "source": [
    "del X_test\n",
    "gc.collect()"
   ]
  },
  {
   "cell_type": "markdown",
   "id": "marine-chicago",
   "metadata": {
    "papermill": {
     "duration": 0.043709,
     "end_time": "2021-06-19T11:11:08.048182",
     "exception": false,
     "start_time": "2021-06-19T11:11:08.004473",
     "status": "completed"
    },
    "tags": []
   },
   "source": [
    "Finally, save for submission and hope for the best."
   ]
  },
  {
   "cell_type": "code",
   "execution_count": 22,
   "id": "aware-sound",
   "metadata": {
    "execution": {
     "iopub.execute_input": "2021-06-19T11:11:08.140742Z",
     "iopub.status.busy": "2021-06-19T11:11:08.140244Z",
     "iopub.status.idle": "2021-06-19T11:12:36.501189Z",
     "shell.execute_reply": "2021-06-19T11:12:36.500708Z",
     "shell.execute_reply.started": "2021-06-17T17:46:25.670525Z"
    },
    "papermill": {
     "duration": 88.409348,
     "end_time": "2021-06-19T11:12:36.501317",
     "exception": false,
     "start_time": "2021-06-19T11:11:08.091969",
     "status": "completed"
    },
    "tags": []
   },
   "outputs": [],
   "source": [
    "submission = pd.DataFrame({'row_id':row_ids, 'meter_reading':np.clip(all_preds, 0, a_max=None)})\n",
    "submission.to_csv('submission.csv', index=False)"
   ]
  },
  {
   "cell_type": "markdown",
   "id": "coordinate-leeds",
   "metadata": {
    "papermill": {
     "duration": 0.04464,
     "end_time": "2021-06-19T11:12:36.591130",
     "exception": false,
     "start_time": "2021-06-19T11:12:36.546490",
     "status": "completed"
    },
    "tags": []
   },
   "source": [
    "We can check that the distribution of the predictions looks reasonable:"
   ]
  },
  {
   "cell_type": "code",
   "execution_count": 23,
   "id": "experienced-saturn",
   "metadata": {
    "execution": {
     "iopub.execute_input": "2021-06-19T11:12:36.685295Z",
     "iopub.status.busy": "2021-06-19T11:12:36.684702Z",
     "iopub.status.idle": "2021-06-19T11:13:03.500907Z",
     "shell.execute_reply": "2021-06-19T11:13:03.501412Z",
     "shell.execute_reply.started": "2021-06-17T17:48:58.186646Z"
    },
    "papermill": {
     "duration": 26.865669,
     "end_time": "2021-06-19T11:13:03.501588",
     "exception": false,
     "start_time": "2021-06-19T11:12:36.635919",
     "status": "completed"
    },
    "tags": []
   },
   "outputs": [
    {
     "data": {
      "image/png": "[encoded data removed]",
      "text/plain": [
       "<Figure size 360x360 with 1 Axes>"
      ]
     },
     "metadata": {
      "needs_background": "light"
     },
     "output_type": "display_data"
    }
   ],
   "source": [
    "sns.displot(np.log1p(submission.meter_reading));"
   ]
  }
 ],
 "metadata": {
  "kernelspec": {
   "display_name": "Python 3",
   "language": "python",
   "name": "python3"
  },
  "language_info": {
   "codemirror_mode": {
    "name": "ipython",
    "version": 3
   },
   "file_extension": ".py",
   "mimetype": "text/x-python",
   "name": "python",
   "nbconvert_exporter": "python",
   "pygments_lexer": "ipython3",
   "version": "3.7.10"
  },
  "papermill": {
   "default_parameters": {},
   "duration": 1685.17386,
   "end_time": "2021-06-19T11:13:05.171734",
   "environment_variables": {},
   "exception": null,
   "input_path": "__notebook__.ipynb",
   "output_path": "__notebook__.ipynb",
   "parameters": {},
   "start_time": "2021-06-19T10:44:59.997874",
   "version": "2.3.3"
  },
  "widgets": {
   "application/vnd.jupyter.widget-state+json": {
    "state": {
     "070c41de01124aa6b8b09f2269979b8e": {
      "model_module": "@jupyter-widgets/base",
      "model_module_version": "1.2.0",
      "model_name": "LayoutModel",
      "state": {
       "_model_module": "@jupyter-widgets/base",
       "_model_module_version": "1.2.0",
       "_model_name": "LayoutModel",
       "_view_count": null,
       "_view_module": "@jupyter-widgets/base",
       "_view_module_version": "1.2.0",
       "_view_name": "LayoutView",
       "align_content": null,
       "align_items": null,
       "align_self": null,
       "border": null,
       "bottom": null,
       "display": null,
       "flex": null,
       "flex_flow": null,
       "grid_area": null,
       "grid_auto_columns": null,
       "grid_auto_flow": null,
       "grid_auto_rows": null,
       "grid_column": null,
       "grid_gap": null,
       "grid_row": null,
       "grid_template_areas": null,
       "grid_template_columns": null,
       "grid_template_rows": null,
       "height": null,
       "justify_content": null,
       "justify_items": null,
       "left": null,
       "margin": null,
       "max_height": null,
       "max_width": null,
       "min_height": null,
       "min_width": null,
       "object_fit": null,
       "object_position": null,
       "order": null,
       "overflow": null,
       "overflow_x": null,
       "overflow_y": null,
       "padding": null,
       "right": null,
       "top": null,
       "visibility": null,
       "width": null
      }
     },
     "08c0cbbd1f144deb84906d1ee8ee7e75": {
      "model_module": "@jupyter-widgets/base",
      "model_module_version": "1.2.0",
      "model_name": "LayoutModel",
      "state": {
       "_model_module": "@jupyter-widgets/base",
       "_model_module_version": "1.2.0",
       "_model_name": "LayoutModel",
       "_view_count": null,
       "_view_module": "@jupyter-widgets/base",
       "_view_module_version": "1.2.0",
       "_view_name": "LayoutView",
       "align_content": null,
       "align_items": null,
       "align_self": null,
       "border": null,
       "bottom": null,
       "display": null,
       "flex": null,
       "flex_flow": null,
       "grid_area": null,
       "grid_auto_columns": null,
       "grid_auto_flow": null,
       "grid_auto_rows": null,
       "grid_column": null,
       "grid_gap": null,
       "grid_row": null,
       "grid_template_areas": null,
       "grid_template_columns": null,
       "grid_template_rows": null,
       "height": null,
       "justify_content": null,
       "justify_items": null,
       "left": null,
       "margin": null,
       "max_height": null,
       "max_width": null,
       "min_height": null,
       "min_width": null,
       "object_fit": null,
       "object_position": null,
       "order": null,
       "overflow": null,
       "overflow_x": null,
       "overflow_y": null,
       "padding": null,
       "right": null,
       "top": null,
       "visibility": null,
       "width": null
      }
     },
     "0b90f5c5cdab4aef8f2dd275fabf149d": {
      "model_module": "@jupyter-widgets/controls",
      "model_module_version": "1.5.0",
      "model_name": "DescriptionStyleModel",
      "state": {
       "_model_module": "@jupyter-widgets/controls",
       "_model_module_version": "1.5.0",
       "_model_name": "DescriptionStyleModel",
       "_view_count": null,
       "_view_module": "@jupyter-widgets/base",
       "_view_module_version": "1.2.0",
       "_view_name": "StyleView",
       "description_width": ""
      }
     },
     "0d4f092c0d8541dbad288371ae437b88": {
      "model_module": "@jupyter-widgets/base",
      "model_module_version": "1.2.0",
      "model_name": "LayoutModel",
      "state": {
       "_model_module": "@jupyter-widgets/base",
       "_model_module_version": "1.2.0",
       "_model_name": "LayoutModel",
       "_view_count": null,
       "_view_module": "@jupyter-widgets/base",
       "_view_module_version": "1.2.0",
       "_view_name": "LayoutView",
       "align_content": null,
       "align_items": null,
       "align_self": null,
       "border": null,
       "bottom": null,
       "display": null,
       "flex": null,
       "flex_flow": null,
       "grid_area": null,
       "grid_auto_columns": null,
       "grid_auto_flow": null,
       "grid_auto_rows": null,
       "grid_column": null,
       "grid_gap": null,
       "grid_row": null,
       "grid_template_areas": null,
       "grid_template_columns": null,
       "grid_template_rows": null,
       "height": null,
       "justify_content": null,
       "justify_items": null,
       "left": null,
       "margin": null,
       "max_height": null,
       "max_width": null,
       "min_height": null,
       "min_width": null,
       "object_fit": null,
       "object_position": null,
       "order": null,
       "overflow": null,
       "overflow_x": null,
       "overflow_y": null,
       "padding": null,
       "right": null,
       "top": null,
       "visibility": null,
       "width": null
      }
     },
     "152abf5bbc9a44c9bf36f7d9e9d9e357": {
      "model_module": "@jupyter-widgets/controls",
      "model_module_version": "1.5.0",
      "model_name": "HTMLModel",
      "state": {
       "_dom_classes": [],
       "_model_module": "@jupyter-widgets/controls",
       "_model_module_version": "1.5.0",
       "_model_name": "HTMLModel",
       "_view_count": null,
       "_view_module": "@jupyter-widgets/controls",
       "_view_module_version": "1.5.0",
       "_view_name": "HTMLView",
       "description": "",
       "description_tooltip": null,
       "layout": "IPY_MODEL_5f057d82c1594375a04ad1f7aa4639a4",
       "placeholder": "​",
       "style": "IPY_MODEL_c683248a0ed64250b188ec0acf7d3848",
       "value": "100%"
      }
     },
     "1cdf6586c6a7406e916ccd3185c17b27": {
      "model_module": "@jupyter-widgets/controls",
      "model_module_version": "1.5.0",
      "model_name": "ProgressStyleModel",
      "state": {
       "_model_module": "@jupyter-widgets/controls",
       "_model_module_version": "1.5.0",
       "_model_name": "ProgressStyleModel",
       "_view_count": null,
       "_view_module": "@jupyter-widgets/base",
       "_view_module_version": "1.2.0",
       "_view_name": "StyleView",
       "bar_color": null,
       "description_width": ""
      }
     },
     "2166eb29e7de4eb1a23e2707694c9561": {
      "model_module": "@jupyter-widgets/controls",
      "model_module_version": "1.5.0",
      "model_name": "DescriptionStyleModel",
      "state": {
       "_model_module": "@jupyter-widgets/controls",
       "_model_module_version": "1.5.0",
       "_model_name": "DescriptionStyleModel",
       "_view_count": null,
       "_view_module": "@jupyter-widgets/base",
       "_view_module_version": "1.2.0",
       "_view_name": "StyleView",
       "description_width": ""
      }
     },
     "222b2489eff64d21ace101c560bd8f19": {
      "model_module": "@jupyter-widgets/controls",
      "model_module_version": "1.5.0",
      "model_name": "FloatProgressModel",
      "state": {
       "_dom_classes": [],
       "_model_module": "@jupyter-widgets/controls",
       "_model_module_version": "1.5.0",
       "_model_name": "FloatProgressModel",
       "_view_count": null,
       "_view_module": "@jupyter-widgets/controls",
       "_view_module_version": "1.5.0",
       "_view_name": "ProgressView",
       "bar_style": "success",
       "description": "",
       "description_tooltip": null,
       "layout": "IPY_MODEL_80c26f2b380d4479993da05b684854d0",
       "max": 5.0,
       "min": 0.0,
       "orientation": "horizontal",
       "style": "IPY_MODEL_dbf27666dc424d848e604598c7a2e0ca",
       "value": 5.0
      }
     },
     "2efb1fdb125749369fb8af7e86bc4a3d": {
      "model_module": "@jupyter-widgets/controls",
      "model_module_version": "1.5.0",
      "model_name": "HBoxModel",
      "state": {
       "_dom_classes": [],
       "_model_module": "@jupyter-widgets/controls",
       "_model_module_version": "1.5.0",
       "_model_name": "HBoxModel",
       "_view_count": null,
       "_view_module": "@jupyter-widgets/controls",
       "_view_module_version": "1.5.0",
       "_view_name": "HBoxView",
       "box_style": "",
       "children": [
        "IPY_MODEL_7c4fd4f52e6e4269ada45deadd84dc02",
        "IPY_MODEL_8d2ebea1d2514c29bd2d2d1b85a8f5bf",
        "IPY_MODEL_810c799b2bd347038c39e519def15eda"
       ],
       "layout": "IPY_MODEL_cad0523aa60b4479a1981801b1fd29e7"
      }
     },
     "3370dcf6cf8442c89af7a470ad1276e3": {
      "model_module": "@jupyter-widgets/base",
      "model_module_version": "1.2.0",
      "model_name": "LayoutModel",
      "state": {
       "_model_module": "@jupyter-widgets/base",
       "_model_module_version": "1.2.0",
       "_model_name": "LayoutModel",
       "_view_count": null,
       "_view_module": "@jupyter-widgets/base",
       "_view_module_version": "1.2.0",
       "_view_name": "LayoutView",
       "align_content": null,
       "align_items": null,
       "align_self": null,
       "border": null,
       "bottom": null,
       "display": null,
       "flex": null,
       "flex_flow": null,
       "grid_area": null,
       "grid_auto_columns": null,
       "grid_auto_flow": null,
       "grid_auto_rows": null,
       "grid_column": null,
       "grid_gap": null,
       "grid_row": null,
       "grid_template_areas": null,
       "grid_template_columns": null,
       "grid_template_rows": null,
       "height": null,
       "justify_content": null,
       "justify_items": null,
       "left": null,
       "margin": null,
       "max_height": null,
       "max_width": null,
       "min_height": null,
       "min_width": null,
       "object_fit": null,
       "object_position": null,
       "order": null,
       "overflow": null,
       "overflow_x": null,
       "overflow_y": null,
       "padding": null,
       "right": null,
       "top": null,
       "visibility": null,
       "width": null
      }
     },
     "3560e1a36b154fd1ac7c66bce98dadc8": {
      "model_module": "@jupyter-widgets/controls",
      "model_module_version": "1.5.0",
      "model_name": "DescriptionStyleModel",
      "state": {
       "_model_module": "@jupyter-widgets/controls",
       "_model_module_version": "1.5.0",
       "_model_name": "DescriptionStyleModel",
       "_view_count": null,
       "_view_module": "@jupyter-widgets/base",
       "_view_module_version": "1.2.0",
       "_view_name": "StyleView",
       "description_width": ""
      }
     },
     "40ef48456d334bf2bec9e0249f7a5d9f": {
      "model_module": "@jupyter-widgets/controls",
      "model_module_version": "1.5.0",
      "model_name": "HTMLModel",
      "state": {
       "_dom_classes": [],
       "_model_module": "@jupyter-widgets/controls",
       "_model_module_version": "1.5.0",
       "_model_name": "HTMLModel",
       "_view_count": null,
       "_view_module": "@jupyter-widgets/controls",
       "_view_module_version": "1.5.0",
       "_view_name": "HTMLView",
       "description": "",
       "description_tooltip": null,
       "layout": "IPY_MODEL_ca6758f087794b0b9501f68dfb7d0f58",
       "placeholder": "​",
       "style": "IPY_MODEL_6ee09d8c90c34fbeaae52f066182a769",
       "value": " 5/5 [00:34&lt;00:00,  6.89s/it]"
      }
     },
     "466af2bd5f0f4df18e4c8f56b3287085": {
      "model_module": "@jupyter-widgets/controls",
      "model_module_version": "1.5.0",
      "model_name": "HBoxModel",
      "state": {
       "_dom_classes": [],
       "_model_module": "@jupyter-widgets/controls",
       "_model_module_version": "1.5.0",
       "_model_name": "HBoxModel",
       "_view_count": null,
       "_view_module": "@jupyter-widgets/controls",
       "_view_module_version": "1.5.0",
       "_view_name": "HBoxView",
       "box_style": "",
       "children": [
        "IPY_MODEL_a53acadd99a94614982dba73ebe63685",
        "IPY_MODEL_7ab2c23e66fa443f85e78483fb06b5ab",
        "IPY_MODEL_7c24da8c7d484e6cb51f1a61c8294549"
       ],
       "layout": "IPY_MODEL_565f2a692839495d816a8ee8ed52ffed"
      }
     },
     "466ba3f19d404d1885c3bf636175c127": {
      "model_module": "@jupyter-widgets/controls",
      "model_module_version": "1.5.0",
      "model_name": "ProgressStyleModel",
      "state": {
       "_model_module": "@jupyter-widgets/controls",
       "_model_module_version": "1.5.0",
       "_model_name": "ProgressStyleModel",
       "_view_count": null,
       "_view_module": "@jupyter-widgets/base",
       "_view_module_version": "1.2.0",
       "_view_name": "StyleView",
       "bar_color": null,
       "description_width": ""
      }
     },
     "4e6e7d6c2b1945c4971f21a9bc712def": {
      "model_module": "@jupyter-widgets/base",
      "model_module_version": "1.2.0",
      "model_name": "LayoutModel",
      "state": {
       "_model_module": "@jupyter-widgets/base",
       "_model_module_version": "1.2.0",
       "_model_name": "LayoutModel",
       "_view_count": null,
       "_view_module": "@jupyter-widgets/base",
       "_view_module_version": "1.2.0",
       "_view_name": "LayoutView",
       "align_content": null,
       "align_items": null,
       "align_self": null,
       "border": null,
       "bottom": null,
       "display": null,
       "flex": null,
       "flex_flow": null,
       "grid_area": null,
       "grid_auto_columns": null,
       "grid_auto_flow": null,
       "grid_auto_rows": null,
       "grid_column": null,
       "grid_gap": null,
       "grid_row": null,
       "grid_template_areas": null,
       "grid_template_columns": null,
       "grid_template_rows": null,
       "height": null,
       "justify_content": null,
       "justify_items": null,
       "left": null,
       "margin": null,
       "max_height": null,
       "max_width": null,
       "min_height": null,
       "min_width": null,
       "object_fit": null,
       "object_position": null,
       "order": null,
       "overflow": null,
       "overflow_x": null,
       "overflow_y": null,
       "padding": null,
       "right": null,
       "top": null,
       "visibility": null,
       "width": null
      }
     },
     "532f05ed22b74e569955d19dc28cc873": {
      "model_module": "@jupyter-widgets/controls",
      "model_module_version": "1.5.0",
      "model_name": "HBoxModel",
      "state": {
       "_dom_classes": [],
       "_model_module": "@jupyter-widgets/controls",
       "_model_module_version": "1.5.0",
       "_model_name": "HBoxModel",
       "_view_count": null,
       "_view_module": "@jupyter-widgets/controls",
       "_view_module_version": "1.5.0",
       "_view_name": "HBoxView",
       "box_style": "",
       "children": [
        "IPY_MODEL_6a8f6bea434d453bbca63e05a4175ae5",
        "IPY_MODEL_222b2489eff64d21ace101c560bd8f19",
        "IPY_MODEL_9cdd47580ba84937b2877bb8a87deb15"
       ],
       "layout": "IPY_MODEL_93d558f0dc26486eb6822d4c4fe5df57"
      }
     },
     "565f2a692839495d816a8ee8ed52ffed": {
      "model_module": "@jupyter-widgets/base",
      "model_module_version": "1.2.0",
      "model_name": "LayoutModel",
      "state": {
       "_model_module": "@jupyter-widgets/base",
       "_model_module_version": "1.2.0",
       "_model_name": "LayoutModel",
       "_view_count": null,
       "_view_module": "@jupyter-widgets/base",
       "_view_module_version": "1.2.0",
       "_view_name": "LayoutView",
       "align_content": null,
       "align_items": null,
       "align_self": null,
       "border": null,
       "bottom": null,
       "display": null,
       "flex": null,
       "flex_flow": null,
       "grid_area": null,
       "grid_auto_columns": null,
       "grid_auto_flow": null,
       "grid_auto_rows": null,
       "grid_column": null,
       "grid_gap": null,
       "grid_row": null,
       "grid_template_areas": null,
       "grid_template_columns": null,
       "grid_template_rows": null,
       "height": null,
       "justify_content": null,
       "justify_items": null,
       "left": null,
       "margin": null,
       "max_height": null,
       "max_width": null,
       "min_height": null,
       "min_width": null,
       "object_fit": null,
       "object_position": null,
       "order": null,
       "overflow": null,
       "overflow_x": null,
       "overflow_y": null,
       "padding": null,
       "right": null,
       "top": null,
       "visibility": null,
       "width": null
      }
     },
     "5b2ef4eed2cc4bf28cfe646494d12c3a": {
      "model_module": "@jupyter-widgets/base",
      "model_module_version": "1.2.0",
      "model_name": "LayoutModel",
      "state": {
       "_model_module": "@jupyter-widgets/base",
       "_model_module_version": "1.2.0",
       "_model_name": "LayoutModel",
       "_view_count": null,
       "_view_module": "@jupyter-widgets/base",
       "_view_module_version": "1.2.0",
       "_view_name": "LayoutView",
       "align_content": null,
       "align_items": null,
       "align_self": null,
       "border": null,
       "bottom": null,
       "display": null,
       "flex": null,
       "flex_flow": null,
       "grid_area": null,
       "grid_auto_columns": null,
       "grid_auto_flow": null,
       "grid_auto_rows": null,
       "grid_column": null,
       "grid_gap": null,
       "grid_row": null,
       "grid_template_areas": null,
       "grid_template_columns": null,
       "grid_template_rows": null,
       "height": null,
       "justify_content": null,
       "justify_items": null,
       "left": null,
       "margin": null,
       "max_height": null,
       "max_width": null,
       "min_height": null,
       "min_width": null,
       "object_fit": null,
       "object_position": null,
       "order": null,
       "overflow": null,
       "overflow_x": null,
       "overflow_y": null,
       "padding": null,
       "right": null,
       "top": null,
       "visibility": null,
       "width": null
      }
     },
     "5f057d82c1594375a04ad1f7aa4639a4": {
      "model_module": "@jupyter-widgets/base",
      "model_module_version": "1.2.0",
      "model_name": "LayoutModel",
      "state": {
       "_model_module": "@jupyter-widgets/base",
       "_model_module_version": "1.2.0",
       "_model_name": "LayoutModel",
       "_view_count": null,
       "_view_module": "@jupyter-widgets/base",
       "_view_module_version": "1.2.0",
       "_view_name": "LayoutView",
       "align_content": null,
       "align_items": null,
       "align_self": null,
       "border": null,
       "bottom": null,
       "display": null,
       "flex": null,
       "flex_flow": null,
       "grid_area": null,
       "grid_auto_columns": null,
       "grid_auto_flow": null,
       "grid_auto_rows": null,
       "grid_column": null,
       "grid_gap": null,
       "grid_row": null,
       "grid_template_areas": null,
       "grid_template_columns": null,
       "grid_template_rows": null,
       "height": null,
       "justify_content": null,
       "justify_items": null,
       "left": null,
       "margin": null,
       "max_height": null,
       "max_width": null,
       "min_height": null,
       "min_width": null,
       "object_fit": null,
       "object_position": null,
       "order": null,
       "overflow": null,
       "overflow_x": null,
       "overflow_y": null,
       "padding": null,
       "right": null,
       "top": null,
       "visibility": null,
       "width": null
      }
     },
     "6019366501914e378ab6194a5e21e89c": {
      "model_module": "@jupyter-widgets/controls",
      "model_module_version": "1.5.0",
      "model_name": "DescriptionStyleModel",
      "state": {
       "_model_module": "@jupyter-widgets/controls",
       "_model_module_version": "1.5.0",
       "_model_name": "DescriptionStyleModel",
       "_view_count": null,
       "_view_module": "@jupyter-widgets/base",
       "_view_module_version": "1.2.0",
       "_view_name": "StyleView",
       "description_width": ""
      }
     },
     "62f09758a2b64b34afc3c8560b8e5333": {
      "model_module": "@jupyter-widgets/base",
      "model_module_version": "1.2.0",
      "model_name": "LayoutModel",
      "state": {
       "_model_module": "@jupyter-widgets/base",
       "_model_module_version": "1.2.0",
       "_model_name": "LayoutModel",
       "_view_count": null,
       "_view_module": "@jupyter-widgets/base",
       "_view_module_version": "1.2.0",
       "_view_name": "LayoutView",
       "align_content": null,
       "align_items": null,
       "align_self": null,
       "border": null,
       "bottom": null,
       "display": null,
       "flex": null,
       "flex_flow": null,
       "grid_area": null,
       "grid_auto_columns": null,
       "grid_auto_flow": null,
       "grid_auto_rows": null,
       "grid_column": null,
       "grid_gap": null,
       "grid_row": null,
       "grid_template_areas": null,
       "grid_template_columns": null,
       "grid_template_rows": null,
       "height": null,
       "justify_content": null,
       "justify_items": null,
       "left": null,
       "margin": null,
       "max_height": null,
       "max_width": null,
       "min_height": null,
       "min_width": null,
       "object_fit": null,
       "object_position": null,
       "order": null,
       "overflow": null,
       "overflow_x": null,
       "overflow_y": null,
       "padding": null,
       "right": null,
       "top": null,
       "visibility": null,
       "width": null
      }
     },
     "6563ba3dfadf4e3485a447b7e35718fd": {
      "model_module": "@jupyter-widgets/base",
      "model_module_version": "1.2.0",
      "model_name": "LayoutModel",
      "state": {
       "_model_module": "@jupyter-widgets/base",
       "_model_module_version": "1.2.0",
       "_model_name": "LayoutModel",
       "_view_count": null,
       "_view_module": "@jupyter-widgets/base",
       "_view_module_version": "1.2.0",
       "_view_name": "LayoutView",
       "align_content": null,
       "align_items": null,
       "align_self": null,
       "border": null,
       "bottom": null,
       "display": null,
       "flex": null,
       "flex_flow": null,
       "grid_area": null,
       "grid_auto_columns": null,
       "grid_auto_flow": null,
       "grid_auto_rows": null,
       "grid_column": null,
       "grid_gap": null,
       "grid_row": null,
       "grid_template_areas": null,
       "grid_template_columns": null,
       "grid_template_rows": null,
       "height": null,
       "justify_content": null,
       "justify_items": null,
       "left": null,
       "margin": null,
       "max_height": null,
       "max_width": null,
       "min_height": null,
       "min_width": null,
       "object_fit": null,
       "object_position": null,
       "order": null,
       "overflow": null,
       "overflow_x": null,
       "overflow_y": null,
       "padding": null,
       "right": null,
       "top": null,
       "visibility": null,
       "width": null
      }
     },
     "6a8f6bea434d453bbca63e05a4175ae5": {
      "model_module": "@jupyter-widgets/controls",
      "model_module_version": "1.5.0",
      "model_name": "HTMLModel",
      "state": {
       "_dom_classes": [],
       "_model_module": "@jupyter-widgets/controls",
       "_model_module_version": "1.5.0",
       "_model_name": "HTMLModel",
       "_view_count": null,
       "_view_module": "@jupyter-widgets/controls",
       "_view_module_version": "1.5.0",
       "_view_name": "HTMLView",
       "description": "",
       "description_tooltip": null,
       "layout": "IPY_MODEL_5b2ef4eed2cc4bf28cfe646494d12c3a",
       "placeholder": "​",
       "style": "IPY_MODEL_9fd2955d8e1b488f8ad98542d3440f78",
       "value": "100%"
      }
     },
     "6d92d2fed8234d1aa9ce35e2d06a0343": {
      "model_module": "@jupyter-widgets/base",
      "model_module_version": "1.2.0",
      "model_name": "LayoutModel",
      "state": {
       "_model_module": "@jupyter-widgets/base",
       "_model_module_version": "1.2.0",
       "_model_name": "LayoutModel",
       "_view_count": null,
       "_view_module": "@jupyter-widgets/base",
       "_view_module_version": "1.2.0",
       "_view_name": "LayoutView",
       "align_content": null,
       "align_items": null,
       "align_self": null,
       "border": null,
       "bottom": null,
       "display": null,
       "flex": null,
       "flex_flow": null,
       "grid_area": null,
       "grid_auto_columns": null,
       "grid_auto_flow": null,
       "grid_auto_rows": null,
       "grid_column": null,
       "grid_gap": null,
       "grid_row": null,
       "grid_template_areas": null,
       "grid_template_columns": null,
       "grid_template_rows": null,
       "height": null,
       "justify_content": null,
       "justify_items": null,
       "left": null,
       "margin": null,
       "max_height": null,
       "max_width": null,
       "min_height": null,
       "min_width": null,
       "object_fit": null,
       "object_position": null,
       "order": null,
       "overflow": null,
       "overflow_x": null,
       "overflow_y": null,
       "padding": null,
       "right": null,
       "top": null,
       "visibility": null,
       "width": null
      }
     },
     "6ee09d8c90c34fbeaae52f066182a769": {
      "model_module": "@jupyter-widgets/controls",
      "model_module_version": "1.5.0",
      "model_name": "DescriptionStyleModel",
      "state": {
       "_model_module": "@jupyter-widgets/controls",
       "_model_module_version": "1.5.0",
       "_model_name": "DescriptionStyleModel",
       "_view_count": null,
       "_view_module": "@jupyter-widgets/base",
       "_view_module_version": "1.2.0",
       "_view_name": "StyleView",
       "description_width": ""
      }
     },
     "7ab2c23e66fa443f85e78483fb06b5ab": {
      "model_module": "@jupyter-widgets/controls",
      "model_module_version": "1.5.0",
      "model_name": "FloatProgressModel",
      "state": {
       "_dom_classes": [],
       "_model_module": "@jupyter-widgets/controls",
       "_model_module_version": "1.5.0",
       "_model_name": "FloatProgressModel",
       "_view_count": null,
       "_view_module": "@jupyter-widgets/controls",
       "_view_module_version": "1.5.0",
       "_view_name": "ProgressView",
       "bar_style": "success",
       "description": "",
       "description_tooltip": null,
       "layout": "IPY_MODEL_08c0cbbd1f144deb84906d1ee8ee7e75",
       "max": 5.0,
       "min": 0.0,
       "orientation": "horizontal",
       "style": "IPY_MODEL_466ba3f19d404d1885c3bf636175c127",
       "value": 5.0
      }
     },
     "7c24da8c7d484e6cb51f1a61c8294549": {
      "model_module": "@jupyter-widgets/controls",
      "model_module_version": "1.5.0",
      "model_name": "HTMLModel",
      "state": {
       "_dom_classes": [],
       "_model_module": "@jupyter-widgets/controls",
       "_model_module_version": "1.5.0",
       "_model_name": "HTMLModel",
       "_view_count": null,
       "_view_module": "@jupyter-widgets/controls",
       "_view_module_version": "1.5.0",
       "_view_name": "HTMLView",
       "description": "",
       "description_tooltip": null,
       "layout": "IPY_MODEL_6d92d2fed8234d1aa9ce35e2d06a0343",
       "placeholder": "​",
       "style": "IPY_MODEL_3560e1a36b154fd1ac7c66bce98dadc8",
       "value": " 5/5 [03:44&lt;00:00, 45.04s/it]"
      }
     },
     "7c4fd4f52e6e4269ada45deadd84dc02": {
      "model_module": "@jupyter-widgets/controls",
      "model_module_version": "1.5.0",
      "model_name": "HTMLModel",
      "state": {
       "_dom_classes": [],
       "_model_module": "@jupyter-widgets/controls",
       "_model_module_version": "1.5.0",
       "_model_name": "HTMLModel",
       "_view_count": null,
       "_view_module": "@jupyter-widgets/controls",
       "_view_module_version": "1.5.0",
       "_view_name": "HTMLView",
       "description": "",
       "description_tooltip": null,
       "layout": "IPY_MODEL_e0a8b7a4b3984ae497d6d42c9766c09e",
       "placeholder": "​",
       "style": "IPY_MODEL_2166eb29e7de4eb1a23e2707694c9561",
       "value": "100%"
      }
     },
     "7fcb84aa2d8545b5842035cb688fe41c": {
      "model_module": "@jupyter-widgets/controls",
      "model_module_version": "1.5.0",
      "model_name": "DescriptionStyleModel",
      "state": {
       "_model_module": "@jupyter-widgets/controls",
       "_model_module_version": "1.5.0",
       "_model_name": "DescriptionStyleModel",
       "_view_count": null,
       "_view_module": "@jupyter-widgets/base",
       "_view_module_version": "1.2.0",
       "_view_name": "StyleView",
       "description_width": ""
      }
     },
     "80c26f2b380d4479993da05b684854d0": {
      "model_module": "@jupyter-widgets/base",
      "model_module_version": "1.2.0",
      "model_name": "LayoutModel",
      "state": {
       "_model_module": "@jupyter-widgets/base",
       "_model_module_version": "1.2.0",
       "_model_name": "LayoutModel",
       "_view_count": null,
       "_view_module": "@jupyter-widgets/base",
       "_view_module_version": "1.2.0",
       "_view_name": "LayoutView",
       "align_content": null,
       "align_items": null,
       "align_self": null,
       "border": null,
       "bottom": null,
       "display": null,
       "flex": null,
       "flex_flow": null,
       "grid_area": null,
       "grid_auto_columns": null,
       "grid_auto_flow": null,
       "grid_auto_rows": null,
       "grid_column": null,
       "grid_gap": null,
       "grid_row": null,
       "grid_template_areas": null,
       "grid_template_columns": null,
       "grid_template_rows": null,
       "height": null,
       "justify_content": null,
       "justify_items": null,
       "left": null,
       "margin": null,
       "max_height": null,
       "max_width": null,
       "min_height": null,
       "min_width": null,
       "object_fit": null,
       "object_position": null,
       "order": null,
       "overflow": null,
       "overflow_x": null,
       "overflow_y": null,
       "padding": null,
       "right": null,
       "top": null,
       "visibility": null,
       "width": null
      }
     },
     "810c799b2bd347038c39e519def15eda": {
      "model_module": "@jupyter-widgets/controls",
      "model_module_version": "1.5.0",
      "model_name": "HTMLModel",
      "state": {
       "_dom_classes": [],
       "_model_module": "@jupyter-widgets/controls",
       "_model_module_version": "1.5.0",
       "_model_name": "HTMLModel",
       "_view_count": null,
       "_view_module": "@jupyter-widgets/controls",
       "_view_module_version": "1.5.0",
       "_view_name": "HTMLView",
       "description": "",
       "description_tooltip": null,
       "layout": "IPY_MODEL_e8b3076316424fa791f4a6dbfeab2a8f",
       "placeholder": "​",
       "style": "IPY_MODEL_88f9c17f8b1241b3b511b0bd3e623d04",
       "value": " 4/4 [14:44&lt;00:00, 164.30s/it]"
      }
     },
     "884d2934ce574c148c92e03a69381e2c": {
      "model_module": "@jupyter-widgets/controls",
      "model_module_version": "1.5.0",
      "model_name": "HTMLModel",
      "state": {
       "_dom_classes": [],
       "_model_module": "@jupyter-widgets/controls",
       "_model_module_version": "1.5.0",
       "_model_name": "HTMLModel",
       "_view_count": null,
       "_view_module": "@jupyter-widgets/controls",
       "_view_module_version": "1.5.0",
       "_view_name": "HTMLView",
       "description": "",
       "description_tooltip": null,
       "layout": "IPY_MODEL_0d4f092c0d8541dbad288371ae437b88",
       "placeholder": "​",
       "style": "IPY_MODEL_8eb210b130164c0b88c04cdb8db95617",
       "value": "100%"
      }
     },
     "88f9c17f8b1241b3b511b0bd3e623d04": {
      "model_module": "@jupyter-widgets/controls",
      "model_module_version": "1.5.0",
      "model_name": "DescriptionStyleModel",
      "state": {
       "_model_module": "@jupyter-widgets/controls",
       "_model_module_version": "1.5.0",
       "_model_name": "DescriptionStyleModel",
       "_view_count": null,
       "_view_module": "@jupyter-widgets/base",
       "_view_module_version": "1.2.0",
       "_view_name": "StyleView",
       "description_width": ""
      }
     },
     "8d2ebea1d2514c29bd2d2d1b85a8f5bf": {
      "model_module": "@jupyter-widgets/controls",
      "model_module_version": "1.5.0",
      "model_name": "FloatProgressModel",
      "state": {
       "_dom_classes": [],
       "_model_module": "@jupyter-widgets/controls",
       "_model_module_version": "1.5.0",
       "_model_name": "FloatProgressModel",
       "_view_count": null,
       "_view_module": "@jupyter-widgets/controls",
       "_view_module_version": "1.5.0",
       "_view_name": "ProgressView",
       "bar_style": "success",
       "description": "",
       "description_tooltip": null,
       "layout": "IPY_MODEL_62f09758a2b64b34afc3c8560b8e5333",
       "max": 4.0,
       "min": 0.0,
       "orientation": "horizontal",
       "style": "IPY_MODEL_1cdf6586c6a7406e916ccd3185c17b27",
       "value": 4.0
      }
     },
     "8eb210b130164c0b88c04cdb8db95617": {
      "model_module": "@jupyter-widgets/controls",
      "model_module_version": "1.5.0",
      "model_name": "DescriptionStyleModel",
      "state": {
       "_model_module": "@jupyter-widgets/controls",
       "_model_module_version": "1.5.0",
       "_model_name": "DescriptionStyleModel",
       "_view_count": null,
       "_view_module": "@jupyter-widgets/base",
       "_view_module_version": "1.2.0",
       "_view_name": "StyleView",
       "description_width": ""
      }
     },
     "91f211bbee994189bc72e6ac8bf33470": {
      "model_module": "@jupyter-widgets/controls",
      "model_module_version": "1.5.0",
      "model_name": "FloatProgressModel",
      "state": {
       "_dom_classes": [],
       "_model_module": "@jupyter-widgets/controls",
       "_model_module_version": "1.5.0",
       "_model_name": "FloatProgressModel",
       "_view_count": null,
       "_view_module": "@jupyter-widgets/controls",
       "_view_module_version": "1.5.0",
       "_view_name": "ProgressView",
       "bar_style": "success",
       "description": "",
       "description_tooltip": null,
       "layout": "IPY_MODEL_4e6e7d6c2b1945c4971f21a9bc712def",
       "max": 5.0,
       "min": 0.0,
       "orientation": "horizontal",
       "style": "IPY_MODEL_fd87861777594e4f867e3c8cedabf087",
       "value": 5.0
      }
     },
     "93d558f0dc26486eb6822d4c4fe5df57": {
      "model_module": "@jupyter-widgets/base",
      "model_module_version": "1.2.0",
      "model_name": "LayoutModel",
      "state": {
       "_model_module": "@jupyter-widgets/base",
       "_model_module_version": "1.2.0",
       "_model_name": "LayoutModel",
       "_view_count": null,
       "_view_module": "@jupyter-widgets/base",
       "_view_module_version": "1.2.0",
       "_view_name": "LayoutView",
       "align_content": null,
       "align_items": null,
       "align_self": null,
       "border": null,
       "bottom": null,
       "display": null,
       "flex": null,
       "flex_flow": null,
       "grid_area": null,
       "grid_auto_columns": null,
       "grid_auto_flow": null,
       "grid_auto_rows": null,
       "grid_column": null,
       "grid_gap": null,
       "grid_row": null,
       "grid_template_areas": null,
       "grid_template_columns": null,
       "grid_template_rows": null,
       "height": null,
       "justify_content": null,
       "justify_items": null,
       "left": null,
       "margin": null,
       "max_height": null,
       "max_width": null,
       "min_height": null,
       "min_width": null,
       "object_fit": null,
       "object_position": null,
       "order": null,
       "overflow": null,
       "overflow_x": null,
       "overflow_y": null,
       "padding": null,
       "right": null,
       "top": null,
       "visibility": null,
       "width": null
      }
     },
     "9cdd47580ba84937b2877bb8a87deb15": {
      "model_module": "@jupyter-widgets/controls",
      "model_module_version": "1.5.0",
      "model_name": "HTMLModel",
      "state": {
       "_dom_classes": [],
       "_model_module": "@jupyter-widgets/controls",
       "_model_module_version": "1.5.0",
       "_model_name": "HTMLModel",
       "_view_count": null,
       "_view_module": "@jupyter-widgets/controls",
       "_view_module_version": "1.5.0",
       "_view_name": "HTMLView",
       "description": "",
       "description_tooltip": null,
       "layout": "IPY_MODEL_3370dcf6cf8442c89af7a470ad1276e3",
       "placeholder": "​",
       "style": "IPY_MODEL_7fcb84aa2d8545b5842035cb688fe41c",
       "value": " 5/5 [01:10&lt;00:00, 14.07s/it]"
      }
     },
     "9f71b45043ea4bb5b28a80c131272ecb": {
      "model_module": "@jupyter-widgets/base",
      "model_module_version": "1.2.0",
      "model_name": "LayoutModel",
      "state": {
       "_model_module": "@jupyter-widgets/base",
       "_model_module_version": "1.2.0",
       "_model_name": "LayoutModel",
       "_view_count": null,
       "_view_module": "@jupyter-widgets/base",
       "_view_module_version": "1.2.0",
       "_view_name": "LayoutView",
       "align_content": null,
       "align_items": null,
       "align_self": null,
       "border": null,
       "bottom": null,
       "display": null,
       "flex": null,
       "flex_flow": null,
       "grid_area": null,
       "grid_auto_columns": null,
       "grid_auto_flow": null,
       "grid_auto_rows": null,
       "grid_column": null,
       "grid_gap": null,
       "grid_row": null,
       "grid_template_areas": null,
       "grid_template_columns": null,
       "grid_template_rows": null,
       "height": null,
       "justify_content": null,
       "justify_items": null,
       "left": null,
       "margin": null,
       "max_height": null,
       "max_width": null,
       "min_height": null,
       "min_width": null,
       "object_fit": null,
       "object_position": null,
       "order": null,
       "overflow": null,
       "overflow_x": null,
       "overflow_y": null,
       "padding": null,
       "right": null,
       "top": null,
       "visibility": null,
       "width": null
      }
     },
     "9fd2955d8e1b488f8ad98542d3440f78": {
      "model_module": "@jupyter-widgets/controls",
      "model_module_version": "1.5.0",
      "model_name": "DescriptionStyleModel",
      "state": {
       "_model_module": "@jupyter-widgets/controls",
       "_model_module_version": "1.5.0",
       "_model_name": "DescriptionStyleModel",
       "_view_count": null,
       "_view_module": "@jupyter-widgets/base",
       "_view_module_version": "1.2.0",
       "_view_name": "StyleView",
       "description_width": ""
      }
     },
     "a48372f353584ca6ac65df7d27897b18": {
      "model_module": "@jupyter-widgets/base",
      "model_module_version": "1.2.0",
      "model_name": "LayoutModel",
      "state": {
       "_model_module": "@jupyter-widgets/base",
       "_model_module_version": "1.2.0",
       "_model_name": "LayoutModel",
       "_view_count": null,
       "_view_module": "@jupyter-widgets/base",
       "_view_module_version": "1.2.0",
       "_view_name": "LayoutView",
       "align_content": null,
       "align_items": null,
       "align_self": null,
       "border": null,
       "bottom": null,
       "display": null,
       "flex": null,
       "flex_flow": null,
       "grid_area": null,
       "grid_auto_columns": null,
       "grid_auto_flow": null,
       "grid_auto_rows": null,
       "grid_column": null,
       "grid_gap": null,
       "grid_row": null,
       "grid_template_areas": null,
       "grid_template_columns": null,
       "grid_template_rows": null,
       "height": null,
       "justify_content": null,
       "justify_items": null,
       "left": null,
       "margin": null,
       "max_height": null,
       "max_width": null,
       "min_height": null,
       "min_width": null,
       "object_fit": null,
       "object_position": null,
       "order": null,
       "overflow": null,
       "overflow_x": null,
       "overflow_y": null,
       "padding": null,
       "right": null,
       "top": null,
       "visibility": null,
       "width": null
      }
     },
     "a53acadd99a94614982dba73ebe63685": {
      "model_module": "@jupyter-widgets/controls",
      "model_module_version": "1.5.0",
      "model_name": "HTMLModel",
      "state": {
       "_dom_classes": [],
       "_model_module": "@jupyter-widgets/controls",
       "_model_module_version": "1.5.0",
       "_model_name": "HTMLModel",
       "_view_count": null,
       "_view_module": "@jupyter-widgets/controls",
       "_view_module_version": "1.5.0",
       "_view_name": "HTMLView",
       "description": "",
       "description_tooltip": null,
       "layout": "IPY_MODEL_9f71b45043ea4bb5b28a80c131272ecb",
       "placeholder": "​",
       "style": "IPY_MODEL_6019366501914e378ab6194a5e21e89c",
       "value": "100%"
      }
     },
     "c683248a0ed64250b188ec0acf7d3848": {
      "model_module": "@jupyter-widgets/controls",
      "model_module_version": "1.5.0",
      "model_name": "DescriptionStyleModel",
      "state": {
       "_model_module": "@jupyter-widgets/controls",
       "_model_module_version": "1.5.0",
       "_model_name": "DescriptionStyleModel",
       "_view_count": null,
       "_view_module": "@jupyter-widgets/base",
       "_view_module_version": "1.2.0",
       "_view_name": "StyleView",
       "description_width": ""
      }
     },
     "c6b007787f454529b4e44e483702936d": {
      "model_module": "@jupyter-widgets/controls",
      "model_module_version": "1.5.0",
      "model_name": "HBoxModel",
      "state": {
       "_dom_classes": [],
       "_model_module": "@jupyter-widgets/controls",
       "_model_module_version": "1.5.0",
       "_model_name": "HBoxModel",
       "_view_count": null,
       "_view_module": "@jupyter-widgets/controls",
       "_view_module_version": "1.5.0",
       "_view_name": "HBoxView",
       "box_style": "",
       "children": [
        "IPY_MODEL_152abf5bbc9a44c9bf36f7d9e9d9e357",
        "IPY_MODEL_fd45f7b25fb847e6b0364f93f6b6f996",
        "IPY_MODEL_f9446eb6ae314a418b1e17ae2fecf266"
       ],
       "layout": "IPY_MODEL_070c41de01124aa6b8b09f2269979b8e"
      }
     },
     "ca6758f087794b0b9501f68dfb7d0f58": {
      "model_module": "@jupyter-widgets/base",
      "model_module_version": "1.2.0",
      "model_name": "LayoutModel",
      "state": {
       "_model_module": "@jupyter-widgets/base",
       "_model_module_version": "1.2.0",
       "_model_name": "LayoutModel",
       "_view_count": null,
       "_view_module": "@jupyter-widgets/base",
       "_view_module_version": "1.2.0",
       "_view_name": "LayoutView",
       "align_content": null,
       "align_items": null,
       "align_self": null,
       "border": null,
       "bottom": null,
       "display": null,
       "flex": null,
       "flex_flow": null,
       "grid_area": null,
       "grid_auto_columns": null,
       "grid_auto_flow": null,
       "grid_auto_rows": null,
       "grid_column": null,
       "grid_gap": null,
       "grid_row": null,
       "grid_template_areas": null,
       "grid_template_columns": null,
       "grid_template_rows": null,
       "height": null,
       "justify_content": null,
       "justify_items": null,
       "left": null,
       "margin": null,
       "max_height": null,
       "max_width": null,
       "min_height": null,
       "min_width": null,
       "object_fit": null,
       "object_position": null,
       "order": null,
       "overflow": null,
       "overflow_x": null,
       "overflow_y": null,
       "padding": null,
       "right": null,
       "top": null,
       "visibility": null,
       "width": null
      }
     },
     "cad0523aa60b4479a1981801b1fd29e7": {
      "model_module": "@jupyter-widgets/base",
      "model_module_version": "1.2.0",
      "model_name": "LayoutModel",
      "state": {
       "_model_module": "@jupyter-widgets/base",
       "_model_module_version": "1.2.0",
       "_model_name": "LayoutModel",
       "_view_count": null,
       "_view_module": "@jupyter-widgets/base",
       "_view_module_version": "1.2.0",
       "_view_name": "LayoutView",
       "align_content": null,
       "align_items": null,
       "align_self": null,
       "border": null,
       "bottom": null,
       "display": null,
       "flex": null,
       "flex_flow": null,
       "grid_area": null,
       "grid_auto_columns": null,
       "grid_auto_flow": null,
       "grid_auto_rows": null,
       "grid_column": null,
       "grid_gap": null,
       "grid_row": null,
       "grid_template_areas": null,
       "grid_template_columns": null,
       "grid_template_rows": null,
       "height": null,
       "justify_content": null,
       "justify_items": null,
       "left": null,
       "margin": null,
       "max_height": null,
       "max_width": null,
       "min_height": null,
       "min_width": null,
       "object_fit": null,
       "object_position": null,
       "order": null,
       "overflow": null,
       "overflow_x": null,
       "overflow_y": null,
       "padding": null,
       "right": null,
       "top": null,
       "visibility": null,
       "width": null
      }
     },
     "d5cfc769bed94d85aad87656c7b1fb92": {
      "model_module": "@jupyter-widgets/controls",
      "model_module_version": "1.5.0",
      "model_name": "HBoxModel",
      "state": {
       "_dom_classes": [],
       "_model_module": "@jupyter-widgets/controls",
       "_model_module_version": "1.5.0",
       "_model_name": "HBoxModel",
       "_view_count": null,
       "_view_module": "@jupyter-widgets/controls",
       "_view_module_version": "1.5.0",
       "_view_name": "HBoxView",
       "box_style": "",
       "children": [
        "IPY_MODEL_884d2934ce574c148c92e03a69381e2c",
        "IPY_MODEL_91f211bbee994189bc72e6ac8bf33470",
        "IPY_MODEL_40ef48456d334bf2bec9e0249f7a5d9f"
       ],
       "layout": "IPY_MODEL_e31fa85a6f094d27b2eaaacada4eb94f"
      }
     },
     "dbf27666dc424d848e604598c7a2e0ca": {
      "model_module": "@jupyter-widgets/controls",
      "model_module_version": "1.5.0",
      "model_name": "ProgressStyleModel",
      "state": {
       "_model_module": "@jupyter-widgets/controls",
       "_model_module_version": "1.5.0",
       "_model_name": "ProgressStyleModel",
       "_view_count": null,
       "_view_module": "@jupyter-widgets/base",
       "_view_module_version": "1.2.0",
       "_view_name": "StyleView",
       "bar_color": null,
       "description_width": ""
      }
     },
     "e0a8b7a4b3984ae497d6d42c9766c09e": {
      "model_module": "@jupyter-widgets/base",
      "model_module_version": "1.2.0",
      "model_name": "LayoutModel",
      "state": {
       "_model_module": "@jupyter-widgets/base",
       "_model_module_version": "1.2.0",
       "_model_name": "LayoutModel",
       "_view_count": null,
       "_view_module": "@jupyter-widgets/base",
       "_view_module_version": "1.2.0",
       "_view_name": "LayoutView",
       "align_content": null,
       "align_items": null,
       "align_self": null,
       "border": null,
       "bottom": null,
       "display": null,
       "flex": null,
       "flex_flow": null,
       "grid_area": null,
       "grid_auto_columns": null,
       "grid_auto_flow": null,
       "grid_auto_rows": null,
       "grid_column": null,
       "grid_gap": null,
       "grid_row": null,
       "grid_template_areas": null,
       "grid_template_columns": null,
       "grid_template_rows": null,
       "height": null,
       "justify_content": null,
       "justify_items": null,
       "left": null,
       "margin": null,
       "max_height": null,
       "max_width": null,
       "min_height": null,
       "min_width": null,
       "object_fit": null,
       "object_position": null,
       "order": null,
       "overflow": null,
       "overflow_x": null,
       "overflow_y": null,
       "padding": null,
       "right": null,
       "top": null,
       "visibility": null,
       "width": null
      }
     },
     "e31fa85a6f094d27b2eaaacada4eb94f": {
      "model_module": "@jupyter-widgets/base",
      "model_module_version": "1.2.0",
      "model_name": "LayoutModel",
      "state": {
       "_model_module": "@jupyter-widgets/base",
       "_model_module_version": "1.2.0",
       "_model_name": "LayoutModel",
       "_view_count": null,
       "_view_module": "@jupyter-widgets/base",
       "_view_module_version": "1.2.0",
       "_view_name": "LayoutView",
       "align_content": null,
       "align_items": null,
       "align_self": null,
       "border": null,
       "bottom": null,
       "display": null,
       "flex": null,
       "flex_flow": null,
       "grid_area": null,
       "grid_auto_columns": null,
       "grid_auto_flow": null,
       "grid_auto_rows": null,
       "grid_column": null,
       "grid_gap": null,
       "grid_row": null,
       "grid_template_areas": null,
       "grid_template_columns": null,
       "grid_template_rows": null,
       "height": null,
       "justify_content": null,
       "justify_items": null,
       "left": null,
       "margin": null,
       "max_height": null,
       "max_width": null,
       "min_height": null,
       "min_width": null,
       "object_fit": null,
       "object_position": null,
       "order": null,
       "overflow": null,
       "overflow_x": null,
       "overflow_y": null,
       "padding": null,
       "right": null,
       "top": null,
       "visibility": null,
       "width": null
      }
     },
     "e8b3076316424fa791f4a6dbfeab2a8f": {
      "model_module": "@jupyter-widgets/base",
      "model_module_version": "1.2.0",
      "model_name": "LayoutModel",
      "state": {
       "_model_module": "@jupyter-widgets/base",
       "_model_module_version": "1.2.0",
       "_model_name": "LayoutModel",
       "_view_count": null,
       "_view_module": "@jupyter-widgets/base",
       "_view_module_version": "1.2.0",
       "_view_name": "LayoutView",
       "align_content": null,
       "align_items": null,
       "align_self": null,
       "border": null,
       "bottom": null,
       "display": null,
       "flex": null,
       "flex_flow": null,
       "grid_area": null,
       "grid_auto_columns": null,
       "grid_auto_flow": null,
       "grid_auto_rows": null,
       "grid_column": null,
       "grid_gap": null,
       "grid_row": null,
       "grid_template_areas": null,
       "grid_template_columns": null,
       "grid_template_rows": null,
       "height": null,
       "justify_content": null,
       "justify_items": null,
       "left": null,
       "margin": null,
       "max_height": null,
       "max_width": null,
       "min_height": null,
       "min_width": null,
       "object_fit": null,
       "object_position": null,
       "order": null,
       "overflow": null,
       "overflow_x": null,
       "overflow_y": null,
       "padding": null,
       "right": null,
       "top": null,
       "visibility": null,
       "width": null
      }
     },
     "f7c255618f544736991b30c5b7e14b84": {
      "model_module": "@jupyter-widgets/controls",
      "model_module_version": "1.5.0",
      "model_name": "ProgressStyleModel",
      "state": {
       "_model_module": "@jupyter-widgets/controls",
       "_model_module_version": "1.5.0",
       "_model_name": "ProgressStyleModel",
       "_view_count": null,
       "_view_module": "@jupyter-widgets/base",
       "_view_module_version": "1.2.0",
       "_view_name": "StyleView",
       "bar_color": null,
       "description_width": ""
      }
     },
     "f9446eb6ae314a418b1e17ae2fecf266": {
      "model_module": "@jupyter-widgets/controls",
      "model_module_version": "1.5.0",
      "model_name": "HTMLModel",
      "state": {
       "_dom_classes": [],
       "_model_module": "@jupyter-widgets/controls",
       "_model_module_version": "1.5.0",
       "_model_name": "HTMLModel",
       "_view_count": null,
       "_view_module": "@jupyter-widgets/controls",
       "_view_module_version": "1.5.0",
       "_view_name": "HTMLView",
       "description": "",
       "description_tooltip": null,
       "layout": "IPY_MODEL_a48372f353584ca6ac65df7d27897b18",
       "placeholder": "​",
       "style": "IPY_MODEL_0b90f5c5cdab4aef8f2dd275fabf149d",
       "value": " 5/5 [03:24&lt;00:00, 40.52s/it]"
      }
     },
     "fd45f7b25fb847e6b0364f93f6b6f996": {
      "model_module": "@jupyter-widgets/controls",
      "model_module_version": "1.5.0",
      "model_name": "FloatProgressModel",
      "state": {
       "_dom_classes": [],
       "_model_module": "@jupyter-widgets/controls",
       "_model_module_version": "1.5.0",
       "_model_name": "FloatProgressModel",
       "_view_count": null,
       "_view_module": "@jupyter-widgets/controls",
       "_view_module_version": "1.5.0",
       "_view_name": "ProgressView",
       "bar_style": "success",
       "description": "",
       "description_tooltip": null,
       "layout": "IPY_MODEL_6563ba3dfadf4e3485a447b7e35718fd",
       "max": 5.0,
       "min": 0.0,
       "orientation": "horizontal",
       "style": "IPY_MODEL_f7c255618f544736991b30c5b7e14b84",
       "value": 5.0
      }
     },
     "fd87861777594e4f867e3c8cedabf087": {
      "model_module": "@jupyter-widgets/controls",
      "model_module_version": "1.5.0",
      "model_name": "ProgressStyleModel",
      "state": {
       "_model_module": "@jupyter-widgets/controls",
       "_model_module_version": "1.5.0",
       "_model_name": "ProgressStyleModel",
       "_view_count": null,
       "_view_module": "@jupyter-widgets/base",
       "_view_module_version": "1.2.0",
       "_view_name": "StyleView",
       "bar_color": null,
       "description_width": ""
      }
     }
    },
    "version_major": 2,
    "version_minor": 0
   }
  }
 },
 "nbformat": 4,
 "nbformat_minor": 5
}
