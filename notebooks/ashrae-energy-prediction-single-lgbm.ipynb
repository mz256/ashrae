{
 "cells": [
  {
   "cell_type": "markdown",
   "id": "higher-behalf",
   "metadata": {
    "papermill": {
     "duration": 0.029603,
     "end_time": "2021-07-02T08:10:34.545083",
     "exception": false,
     "start_time": "2021-07-02T08:10:34.515480",
     "status": "completed"
    },
    "tags": []
   },
   "source": [
    "# Single LGBM for ASHRAE"
   ]
  },
  {
   "cell_type": "markdown",
   "id": "colonial-welding",
   "metadata": {
    "papermill": {
     "duration": 0.027681,
     "end_time": "2021-07-02T08:10:34.600984",
     "exception": false,
     "start_time": "2021-07-02T08:10:34.573303",
     "status": "completed"
    },
    "tags": []
   },
   "source": [
    "This is a simple kernel which does the following:\n",
    "- **preprocessing**: during data import, minimise memory usage (typecasting) given the size of the dataset and the instance's RAM, correct weather data (timezone alignment, imputation) and log-transform the target.\n",
    "- **cleaning**: drops bad readings in site 0.\n",
    "- **FE**: basic temporal and lag features, to avoid overfitting.\n",
    "- **modelling**: trains a single LGBM with (unshuffled) k-fold CV (plus a random forest for reference).\n",
    "- **inference**: bagging of model's versions trained on each CV fold."
   ]
  },
  {
   "cell_type": "code",
   "execution_count": 1,
   "id": "armed-response",
   "metadata": {
    "execution": {
     "iopub.execute_input": "2021-07-02T08:10:34.666165Z",
     "iopub.status.busy": "2021-07-02T08:10:34.665567Z",
     "iopub.status.idle": "2021-07-02T08:10:37.123188Z",
     "shell.execute_reply": "2021-07-02T08:10:37.122314Z",
     "shell.execute_reply.started": "2021-06-23T06:49:07.763399Z"
    },
    "papermill": {
     "duration": 2.494485,
     "end_time": "2021-07-02T08:10:37.123389",
     "exception": false,
     "start_time": "2021-07-02T08:10:34.628904",
     "status": "completed"
    },
    "tags": []
   },
   "outputs": [
    {
     "data": {
      "text/html": [
       "<style type='text/css'>\n",
       ".datatable table.frame { margin-bottom: 0; }\n",
       ".datatable table.frame thead { border-bottom: none; }\n",
       ".datatable table.frame tr.coltypes td {  color: #FFFFFF;  line-height: 6px;  padding: 0 0.5em;}\n",
       ".datatable .bool    { background: #DDDD99; }\n",
       ".datatable .object  { background: #565656; }\n",
       ".datatable .int     { background: #5D9E5D; }\n",
       ".datatable .float   { background: #4040CC; }\n",
       ".datatable .str     { background: #CC4040; }\n",
       ".datatable .row_index {  background: var(--jp-border-color3);  border-right: 1px solid var(--jp-border-color0);  color: var(--jp-ui-font-color3);  font-size: 9px;}\n",
       ".datatable .frame tr.coltypes .row_index {  background: var(--jp-border-color0);}\n",
       ".datatable th:nth-child(2) { padding-left: 12px; }\n",
       ".datatable .hellipsis {  color: var(--jp-cell-editor-border-color);}\n",
       ".datatable .vellipsis {  background: var(--jp-layout-color0);  color: var(--jp-cell-editor-border-color);}\n",
       ".datatable .na {  color: var(--jp-cell-editor-border-color);  font-size: 80%;}\n",
       ".datatable .footer { font-size: 9px; }\n",
       ".datatable .frame_dimensions {  background: var(--jp-border-color3);  border-top: 1px solid var(--jp-border-color0);  color: var(--jp-ui-font-color3);  display: inline-block;  opacity: 0.6;  padding: 1px 10px 1px 5px;}\n",
       "</style>\n"
      ],
      "text/plain": [
       "<IPython.core.display.HTML object>"
      ]
     },
     "metadata": {},
     "output_type": "display_data"
    }
   ],
   "source": [
    "import numpy as np # linear algebra\n",
    "import pandas as pd # data processing, CSV file I/O\n",
    "import os\n",
    "import datetime\n",
    "import warnings\n",
    "import gc\n",
    "\n",
    "from sklearn.metrics import mean_squared_error\n",
    "from sklearn.model_selection import KFold\n",
    "from sklearn.ensemble import RandomForestRegressor\n",
    "import lightgbm as lgb\n",
    "\n",
    "from tqdm.notebook import tqdm\n",
    "\n",
    "# plotting\n",
    "import matplotlib.pyplot as plt\n",
    "import seaborn as sns"
   ]
  },
  {
   "cell_type": "code",
   "execution_count": 2,
   "id": "indoor-california",
   "metadata": {
    "execution": {
     "iopub.execute_input": "2021-07-02T08:10:37.187440Z",
     "iopub.status.busy": "2021-07-02T08:10:37.186135Z",
     "iopub.status.idle": "2021-07-02T08:10:37.191726Z",
     "shell.execute_reply": "2021-07-02T08:10:37.191036Z",
     "shell.execute_reply.started": "2021-06-23T06:49:10.234942Z"
    },
    "papermill": {
     "duration": 0.038905,
     "end_time": "2021-07-02T08:10:37.191921",
     "exception": false,
     "start_time": "2021-07-02T08:10:37.153016",
     "status": "completed"
    },
    "tags": []
   },
   "outputs": [
    {
     "name": "stdout",
     "output_type": "stream",
     "text": [
      "../input/ashrae-energy-prediction/sample_submission.csv\n",
      "../input/ashrae-energy-prediction/building_metadata.csv\n",
      "../input/ashrae-energy-prediction/weather_train.csv\n",
      "../input/ashrae-energy-prediction/weather_test.csv\n",
      "../input/ashrae-energy-prediction/train.csv\n",
      "../input/ashrae-energy-prediction/test.csv\n"
     ]
    }
   ],
   "source": [
    "path = '../input/ashrae-energy-prediction'\n",
    "\n",
    "for dirname, _, filenames in os.walk(path):\n",
    "    for filename in filenames:\n",
    "        print(os.path.join(dirname, filename))"
   ]
  },
  {
   "cell_type": "markdown",
   "id": "incredible-acrobat",
   "metadata": {
    "papermill": {
     "duration": 0.028651,
     "end_time": "2021-07-02T08:10:37.250991",
     "exception": false,
     "start_time": "2021-07-02T08:10:37.222340",
     "status": "completed"
    },
    "tags": []
   },
   "source": [
    "# Utilities"
   ]
  },
  {
   "cell_type": "markdown",
   "id": "banned-valve",
   "metadata": {
    "papermill": {
     "duration": 0.029254,
     "end_time": "2021-07-02T08:10:37.309451",
     "exception": false,
     "start_time": "2021-07-02T08:10:37.280197",
     "status": "completed"
    },
    "tags": []
   },
   "source": [
    "Memory reduction adapted from [this kernel.](https://www.kaggle.com/purist1024/ashrae-simple-data-cleanup-lb-1-08-no-leaks/notebook)"
   ]
  },
  {
   "cell_type": "code",
   "execution_count": 3,
   "id": "tropical-focus",
   "metadata": {
    "execution": {
     "iopub.execute_input": "2021-07-02T08:10:37.377697Z",
     "iopub.status.busy": "2021-07-02T08:10:37.376997Z",
     "iopub.status.idle": "2021-07-02T08:10:37.379149Z",
     "shell.execute_reply": "2021-07-02T08:10:37.379674Z",
     "shell.execute_reply.started": "2021-06-23T06:49:10.3129Z"
    },
    "papermill": {
     "duration": 0.041063,
     "end_time": "2021-07-02T08:10:37.379861",
     "exception": false,
     "start_time": "2021-07-02T08:10:37.338798",
     "status": "completed"
    },
    "tags": []
   },
   "outputs": [],
   "source": [
    "def reduce_mem(df):\n",
    "    result = df.copy()\n",
    "    for col in result.columns:\n",
    "        col_data = result[col]\n",
    "        dn = col_data.dtype.name\n",
    "        if not dn.startswith(\"datetime\"):\n",
    "            if dn == \"object\":  # only object feature has low cardinality\n",
    "                result[col] = pd.to_numeric(col_data.astype(\"category\").cat.codes, downcast=\"unsigned\")\n",
    "            elif dn.startswith(\"int\") | dn.startswith(\"uint\"):\n",
    "                if col_data.min() >= 0:\n",
    "                    result[col] = pd.to_numeric(col_data, downcast=\"unsigned\")\n",
    "                else:\n",
    "                    result[col] = pd.to_numeric(col_data, downcast='integer')\n",
    "            else:\n",
    "                result[col] = pd.to_numeric(col_data, downcast='float')\n",
    "    return result"
   ]
  },
  {
   "cell_type": "markdown",
   "id": "continent-dealer",
   "metadata": {
    "papermill": {
     "duration": 0.028726,
     "end_time": "2021-07-02T08:10:37.437853",
     "exception": false,
     "start_time": "2021-07-02T08:10:37.409127",
     "status": "completed"
    },
    "tags": []
   },
   "source": [
    "Routine to add lag features to weather dataset, adapted from [this kernel](https://www.kaggle.com/corochann/ashrae-training-lgbm-by-meter-type/notebook)."
   ]
  },
  {
   "cell_type": "code",
   "execution_count": 4,
   "id": "brazilian-fetish",
   "metadata": {
    "execution": {
     "iopub.execute_input": "2021-07-02T08:10:37.499568Z",
     "iopub.status.busy": "2021-07-02T08:10:37.498583Z",
     "iopub.status.idle": "2021-07-02T08:10:37.505774Z",
     "shell.execute_reply": "2021-07-02T08:10:37.506337Z",
     "shell.execute_reply.started": "2021-06-23T06:49:10.323504Z"
    },
    "papermill": {
     "duration": 0.039845,
     "end_time": "2021-07-02T08:10:37.506517",
     "exception": false,
     "start_time": "2021-07-02T08:10:37.466672",
     "status": "completed"
    },
    "tags": []
   },
   "outputs": [],
   "source": [
    "def add_lag_features(weather_df, window=3):\n",
    "    group_df = weather_df.groupby('site_id')\n",
    "    cols = ['air_temperature', 'cloud_coverage', 'dew_temperature', 'precip_depth_1_hr']\n",
    "    rolled = group_df[cols].rolling(window=window, min_periods=0)\n",
    "    lag_mean = rolled.mean().reset_index().astype(np.float16)\n",
    "    lag_max = rolled.max().reset_index().astype(np.float16)\n",
    "    lag_min = rolled.min().reset_index().astype(np.float16)\n",
    "    for col in cols:\n",
    "        weather_df[f'{col}_min_lag{window}'] = lag_min[col]\n",
    "        weather_df[f'{col}_mean_lag{window}'] = lag_mean[col]\n",
    "        weather_df[f'{col}_max_lag{window}'] = lag_max[col]\n",
    "    return weather_df"
   ]
  },
  {
   "cell_type": "markdown",
   "id": "played-pharmaceutical",
   "metadata": {
    "papermill": {
     "duration": 0.028525,
     "end_time": "2021-07-02T08:10:37.565256",
     "exception": false,
     "start_time": "2021-07-02T08:10:37.536731",
     "status": "completed"
    },
    "tags": []
   },
   "source": [
    "# Load data"
   ]
  },
  {
   "cell_type": "code",
   "execution_count": 5,
   "id": "german-secret",
   "metadata": {
    "execution": {
     "iopub.execute_input": "2021-07-02T08:10:37.626955Z",
     "iopub.status.busy": "2021-07-02T08:10:37.626225Z",
     "iopub.status.idle": "2021-07-02T08:10:37.642028Z",
     "shell.execute_reply": "2021-07-02T08:10:37.642550Z",
     "shell.execute_reply.started": "2021-06-23T07:03:00.915308Z"
    },
    "papermill": {
     "duration": 0.048342,
     "end_time": "2021-07-02T08:10:37.642738",
     "exception": false,
     "start_time": "2021-07-02T08:10:37.594396",
     "status": "completed"
    },
    "tags": []
   },
   "outputs": [],
   "source": [
    "def load_data(source='train'):\n",
    "    assert source in ['train','test']\n",
    "    df = pd.read_csv(f'{path}/{source}.csv', parse_dates=['timestamp'])\n",
    "    return reduce_mem(df)\n",
    "\n",
    "def load_building():\n",
    "    df = pd.read_csv(f'{path}/building_metadata.csv').fillna(-1)\n",
    "    return reduce_mem(df)\n",
    "\n",
    "def load_weather(source='train', fix_timezone=True, impute=True, add_lag=True):\n",
    "    assert source in ['train','test']\n",
    "    df = pd.read_csv(f'{path}/weather_{source}.csv', parse_dates=['timestamp'])\n",
    "    if fix_timezone:\n",
    "        offsets = [5,0,9,6,8,0,6,6,5,7,8,6,0,7,6,6]\n",
    "        offset_map = {site: offset for site, offset in enumerate(offsets)}\n",
    "        df.timestamp = df.timestamp - pd.to_timedelta(df.site_id.map(offset_map), unit='h')\n",
    "    if impute:\n",
    "        site_dfs = []\n",
    "        for site in df.site_id.unique():\n",
    "            if source == 'train':\n",
    "                new_idx = pd.date_range(start='2016-1-1', end='2016-12-31-23', freq='H')\n",
    "            else:\n",
    "                new_idx = pd.date_range(start='2017-1-1', end='2018-12-31-23', freq='H')\n",
    "            site_df = df[df.site_id == site].set_index('timestamp').reindex(new_idx)\n",
    "            site_df.site_id = site\n",
    "            for col in [c for c in site_df.columns if c != 'site_id']:\n",
    "                site_df[col] = site_df[col].interpolate(limit_direction='both', method='linear')\n",
    "                site_df[col] = site_df[col].fillna(df[col].median())\n",
    "            site_dfs.append(site_df)\n",
    "        df = pd.concat(site_dfs)\n",
    "        df['timestamp'] = df.index\n",
    "        df = df.reset_index(drop=True)\n",
    "        \n",
    "    if add_lag:\n",
    "        df = add_lag_features(df, window=3)\n",
    "    \n",
    "    return reduce_mem(df)\n",
    "\n",
    "def merged_dfs(source='train', fix_timezone=True, impute=True, add_lag=True):\n",
    "    df = load_data(source=source).merge(load_building(), on='building_id', how='left')\n",
    "    df = df.merge(load_weather(source=source, fix_timezone=True, impute=True, add_lag=True),\n",
    "                 on=['site_id','timestamp'], how='left')\n",
    "    if source == 'train':\n",
    "        X = df.drop('meter_reading', axis=1)  \n",
    "        y = np.log1p(df.meter_reading)  # log-transform of target\n",
    "        return X, y\n",
    "    elif source == 'test':\n",
    "        return df"
   ]
  },
  {
   "cell_type": "code",
   "execution_count": 6,
   "id": "human-eagle",
   "metadata": {
    "execution": {
     "iopub.execute_input": "2021-07-02T08:10:37.704200Z",
     "iopub.status.busy": "2021-07-02T08:10:37.703555Z",
     "iopub.status.idle": "2021-07-02T08:11:12.525062Z",
     "shell.execute_reply": "2021-07-02T08:11:12.524541Z",
     "shell.execute_reply.started": "2021-06-23T06:49:10.355807Z"
    },
    "papermill": {
     "duration": 34.853121,
     "end_time": "2021-07-02T08:11:12.525197",
     "exception": false,
     "start_time": "2021-07-02T08:10:37.672076",
     "status": "completed"
    },
    "tags": []
   },
   "outputs": [
    {
     "name": "stdout",
     "output_type": "stream",
     "text": [
      "CPU times: user 22.1 s, sys: 5.71 s, total: 27.8 s\n",
      "Wall time: 34.8 s\n"
     ]
    },
    {
     "data": {
      "text/html": [
       "<div>\n",
       "<style scoped>\n",
       "    .dataframe tbody tr th:only-of-type {\n",
       "        vertical-align: middle;\n",
       "    }\n",
       "\n",
       "    .dataframe tbody tr th {\n",
       "        vertical-align: top;\n",
       "    }\n",
       "\n",
       "    .dataframe thead th {\n",
       "        text-align: right;\n",
       "    }\n",
       "</style>\n",
       "<table border=\"1\" class=\"dataframe\">\n",
       "  <thead>\n",
       "    <tr style=\"text-align: right;\">\n",
       "      <th></th>\n",
       "      <th>building_id</th>\n",
       "      <th>meter</th>\n",
       "      <th>timestamp</th>\n",
       "      <th>site_id</th>\n",
       "      <th>primary_use</th>\n",
       "      <th>square_feet</th>\n",
       "      <th>year_built</th>\n",
       "      <th>floor_count</th>\n",
       "      <th>air_temperature</th>\n",
       "      <th>cloud_coverage</th>\n",
       "      <th>...</th>\n",
       "      <th>air_temperature_max_lag3</th>\n",
       "      <th>cloud_coverage_min_lag3</th>\n",
       "      <th>cloud_coverage_mean_lag3</th>\n",
       "      <th>cloud_coverage_max_lag3</th>\n",
       "      <th>dew_temperature_min_lag3</th>\n",
       "      <th>dew_temperature_mean_lag3</th>\n",
       "      <th>dew_temperature_max_lag3</th>\n",
       "      <th>precip_depth_1_hr_min_lag3</th>\n",
       "      <th>precip_depth_1_hr_mean_lag3</th>\n",
       "      <th>precip_depth_1_hr_max_lag3</th>\n",
       "    </tr>\n",
       "  </thead>\n",
       "  <tbody>\n",
       "    <tr>\n",
       "      <th>0</th>\n",
       "      <td>0</td>\n",
       "      <td>0</td>\n",
       "      <td>2016-01-01</td>\n",
       "      <td>0</td>\n",
       "      <td>0</td>\n",
       "      <td>7432</td>\n",
       "      <td>2008.0</td>\n",
       "      <td>-1.0</td>\n",
       "      <td>19.4</td>\n",
       "      <td>6.0</td>\n",
       "      <td>...</td>\n",
       "      <td>19.40625</td>\n",
       "      <td>6.0</td>\n",
       "      <td>6.0</td>\n",
       "      <td>6.0</td>\n",
       "      <td>19.40625</td>\n",
       "      <td>19.40625</td>\n",
       "      <td>19.40625</td>\n",
       "      <td>0.0</td>\n",
       "      <td>0.0</td>\n",
       "      <td>0.0</td>\n",
       "    </tr>\n",
       "    <tr>\n",
       "      <th>1</th>\n",
       "      <td>1</td>\n",
       "      <td>0</td>\n",
       "      <td>2016-01-01</td>\n",
       "      <td>0</td>\n",
       "      <td>0</td>\n",
       "      <td>2720</td>\n",
       "      <td>2004.0</td>\n",
       "      <td>-1.0</td>\n",
       "      <td>19.4</td>\n",
       "      <td>6.0</td>\n",
       "      <td>...</td>\n",
       "      <td>19.40625</td>\n",
       "      <td>6.0</td>\n",
       "      <td>6.0</td>\n",
       "      <td>6.0</td>\n",
       "      <td>19.40625</td>\n",
       "      <td>19.40625</td>\n",
       "      <td>19.40625</td>\n",
       "      <td>0.0</td>\n",
       "      <td>0.0</td>\n",
       "      <td>0.0</td>\n",
       "    </tr>\n",
       "    <tr>\n",
       "      <th>2</th>\n",
       "      <td>2</td>\n",
       "      <td>0</td>\n",
       "      <td>2016-01-01</td>\n",
       "      <td>0</td>\n",
       "      <td>0</td>\n",
       "      <td>5376</td>\n",
       "      <td>1991.0</td>\n",
       "      <td>-1.0</td>\n",
       "      <td>19.4</td>\n",
       "      <td>6.0</td>\n",
       "      <td>...</td>\n",
       "      <td>19.40625</td>\n",
       "      <td>6.0</td>\n",
       "      <td>6.0</td>\n",
       "      <td>6.0</td>\n",
       "      <td>19.40625</td>\n",
       "      <td>19.40625</td>\n",
       "      <td>19.40625</td>\n",
       "      <td>0.0</td>\n",
       "      <td>0.0</td>\n",
       "      <td>0.0</td>\n",
       "    </tr>\n",
       "    <tr>\n",
       "      <th>3</th>\n",
       "      <td>3</td>\n",
       "      <td>0</td>\n",
       "      <td>2016-01-01</td>\n",
       "      <td>0</td>\n",
       "      <td>0</td>\n",
       "      <td>23685</td>\n",
       "      <td>2002.0</td>\n",
       "      <td>-1.0</td>\n",
       "      <td>19.4</td>\n",
       "      <td>6.0</td>\n",
       "      <td>...</td>\n",
       "      <td>19.40625</td>\n",
       "      <td>6.0</td>\n",
       "      <td>6.0</td>\n",
       "      <td>6.0</td>\n",
       "      <td>19.40625</td>\n",
       "      <td>19.40625</td>\n",
       "      <td>19.40625</td>\n",
       "      <td>0.0</td>\n",
       "      <td>0.0</td>\n",
       "      <td>0.0</td>\n",
       "    </tr>\n",
       "    <tr>\n",
       "      <th>4</th>\n",
       "      <td>4</td>\n",
       "      <td>0</td>\n",
       "      <td>2016-01-01</td>\n",
       "      <td>0</td>\n",
       "      <td>0</td>\n",
       "      <td>116607</td>\n",
       "      <td>1975.0</td>\n",
       "      <td>-1.0</td>\n",
       "      <td>19.4</td>\n",
       "      <td>6.0</td>\n",
       "      <td>...</td>\n",
       "      <td>19.40625</td>\n",
       "      <td>6.0</td>\n",
       "      <td>6.0</td>\n",
       "      <td>6.0</td>\n",
       "      <td>19.40625</td>\n",
       "      <td>19.40625</td>\n",
       "      <td>19.40625</td>\n",
       "      <td>0.0</td>\n",
       "      <td>0.0</td>\n",
       "      <td>0.0</td>\n",
       "    </tr>\n",
       "  </tbody>\n",
       "</table>\n",
       "<p>5 rows × 27 columns</p>\n",
       "</div>"
      ],
      "text/plain": [
       "   building_id  meter  timestamp  site_id  primary_use  square_feet  \\\n",
       "0            0      0 2016-01-01        0            0         7432   \n",
       "1            1      0 2016-01-01        0            0         2720   \n",
       "2            2      0 2016-01-01        0            0         5376   \n",
       "3            3      0 2016-01-01        0            0        23685   \n",
       "4            4      0 2016-01-01        0            0       116607   \n",
       "\n",
       "   year_built  floor_count  air_temperature  cloud_coverage  ...  \\\n",
       "0      2008.0         -1.0             19.4             6.0  ...   \n",
       "1      2004.0         -1.0             19.4             6.0  ...   \n",
       "2      1991.0         -1.0             19.4             6.0  ...   \n",
       "3      2002.0         -1.0             19.4             6.0  ...   \n",
       "4      1975.0         -1.0             19.4             6.0  ...   \n",
       "\n",
       "   air_temperature_max_lag3  cloud_coverage_min_lag3  \\\n",
       "0                  19.40625                      6.0   \n",
       "1                  19.40625                      6.0   \n",
       "2                  19.40625                      6.0   \n",
       "3                  19.40625                      6.0   \n",
       "4                  19.40625                      6.0   \n",
       "\n",
       "   cloud_coverage_mean_lag3  cloud_coverage_max_lag3  \\\n",
       "0                       6.0                      6.0   \n",
       "1                       6.0                      6.0   \n",
       "2                       6.0                      6.0   \n",
       "3                       6.0                      6.0   \n",
       "4                       6.0                      6.0   \n",
       "\n",
       "   dew_temperature_min_lag3  dew_temperature_mean_lag3  \\\n",
       "0                  19.40625                   19.40625   \n",
       "1                  19.40625                   19.40625   \n",
       "2                  19.40625                   19.40625   \n",
       "3                  19.40625                   19.40625   \n",
       "4                  19.40625                   19.40625   \n",
       "\n",
       "   dew_temperature_max_lag3  precip_depth_1_hr_min_lag3  \\\n",
       "0                  19.40625                         0.0   \n",
       "1                  19.40625                         0.0   \n",
       "2                  19.40625                         0.0   \n",
       "3                  19.40625                         0.0   \n",
       "4                  19.40625                         0.0   \n",
       "\n",
       "   precip_depth_1_hr_mean_lag3  precip_depth_1_hr_max_lag3  \n",
       "0                          0.0                         0.0  \n",
       "1                          0.0                         0.0  \n",
       "2                          0.0                         0.0  \n",
       "3                          0.0                         0.0  \n",
       "4                          0.0                         0.0  \n",
       "\n",
       "[5 rows x 27 columns]"
      ]
     },
     "execution_count": 6,
     "metadata": {},
     "output_type": "execute_result"
    }
   ],
   "source": [
    "%%time\n",
    "X_train, y_train = merged_dfs()\n",
    "X_train.head()"
   ]
  },
  {
   "cell_type": "code",
   "execution_count": 7,
   "id": "endless-queensland",
   "metadata": {
    "execution": {
     "iopub.execute_input": "2021-07-02T08:11:12.600260Z",
     "iopub.status.busy": "2021-07-02T08:11:12.599604Z",
     "iopub.status.idle": "2021-07-02T08:11:12.602856Z",
     "shell.execute_reply": "2021-07-02T08:11:12.603463Z",
     "shell.execute_reply.started": "2021-06-23T06:49:43.243585Z"
    },
    "papermill": {
     "duration": 0.048679,
     "end_time": "2021-07-02T08:11:12.603650",
     "exception": false,
     "start_time": "2021-07-02T08:11:12.554971",
     "status": "completed"
    },
    "tags": []
   },
   "outputs": [
    {
     "name": "stdout",
     "output_type": "stream",
     "text": [
      "<class 'pandas.core.frame.DataFrame'>\n",
      "Int64Index: 20216100 entries, 0 to 20216099\n",
      "Data columns (total 27 columns):\n",
      " #   Column                       Dtype         \n",
      "---  ------                       -----         \n",
      " 0   building_id                  uint16        \n",
      " 1   meter                        uint8         \n",
      " 2   timestamp                    datetime64[ns]\n",
      " 3   site_id                      uint8         \n",
      " 4   primary_use                  uint8         \n",
      " 5   square_feet                  uint32        \n",
      " 6   year_built                   float32       \n",
      " 7   floor_count                  float32       \n",
      " 8   air_temperature              float32       \n",
      " 9   cloud_coverage               float32       \n",
      " 10  dew_temperature              float32       \n",
      " 11  precip_depth_1_hr            float32       \n",
      " 12  sea_level_pressure           float32       \n",
      " 13  wind_direction               float32       \n",
      " 14  wind_speed                   float32       \n",
      " 15  air_temperature_min_lag3     float16       \n",
      " 16  air_temperature_mean_lag3    float16       \n",
      " 17  air_temperature_max_lag3     float16       \n",
      " 18  cloud_coverage_min_lag3      float16       \n",
      " 19  cloud_coverage_mean_lag3     float16       \n",
      " 20  cloud_coverage_max_lag3      float16       \n",
      " 21  dew_temperature_min_lag3     float16       \n",
      " 22  dew_temperature_mean_lag3    float16       \n",
      " 23  dew_temperature_max_lag3     float16       \n",
      " 24  precip_depth_1_hr_min_lag3   float16       \n",
      " 25  precip_depth_1_hr_mean_lag3  float16       \n",
      " 26  precip_depth_1_hr_max_lag3   float16       \n",
      "dtypes: datetime64[ns](1), float16(12), float32(9), uint16(1), uint32(1), uint8(3)\n",
      "memory usage: 1.6 GB\n"
     ]
    }
   ],
   "source": [
    "X_train.info()"
   ]
  },
  {
   "cell_type": "markdown",
   "id": "forty-knight",
   "metadata": {
    "papermill": {
     "duration": 0.029988,
     "end_time": "2021-07-02T08:11:12.664124",
     "exception": false,
     "start_time": "2021-07-02T08:11:12.634136",
     "status": "completed"
    },
    "tags": []
   },
   "source": [
    "This corresponds to roughly a 50% improvement in memory usage, despite having added lag features."
   ]
  },
  {
   "cell_type": "markdown",
   "id": "inner-funds",
   "metadata": {
    "papermill": {
     "duration": 0.030045,
     "end_time": "2021-07-02T08:11:12.724771",
     "exception": false,
     "start_time": "2021-07-02T08:11:12.694726",
     "status": "completed"
    },
    "tags": []
   },
   "source": [
    "# Preprocessing"
   ]
  },
  {
   "cell_type": "markdown",
   "id": "spare-specialist",
   "metadata": {
    "papermill": {
     "duration": 0.029831,
     "end_time": "2021-07-02T08:11:12.785947",
     "exception": false,
     "start_time": "2021-07-02T08:11:12.756116",
     "status": "completed"
    },
    "tags": []
   },
   "source": [
    "Let us remove the first 141 days of electrical meter readings at site 0, which are mostly zero or contain anomalous spikes. This is the type of outlier which causes the most trouble and is comparatively easier to remove. We also extract some basic temporal features."
   ]
  },
  {
   "cell_type": "code",
   "execution_count": 8,
   "id": "vocational-passion",
   "metadata": {
    "execution": {
     "iopub.execute_input": "2021-07-02T08:11:12.850572Z",
     "iopub.status.busy": "2021-07-02T08:11:12.849869Z",
     "iopub.status.idle": "2021-07-02T08:11:12.858008Z",
     "shell.execute_reply": "2021-07-02T08:11:12.857436Z",
     "shell.execute_reply.started": "2021-06-22T12:29:04.857557Z"
    },
    "papermill": {
     "duration": 0.041251,
     "end_time": "2021-07-02T08:11:12.858165",
     "exception": false,
     "start_time": "2021-07-02T08:11:12.816914",
     "status": "completed"
    },
    "tags": []
   },
   "outputs": [],
   "source": [
    "def _delete_bad_sitezero(X, y):\n",
    "    cond = (X.timestamp > '2016-05-20') | (X.site_id != 0) | (X.meter != 0)\n",
    "    X = X[cond]\n",
    "    y = y.reindex_like(X)\n",
    "    return X.reset_index(drop=True), y.reset_index(drop=True)\n",
    "\n",
    "def _extract_temporal(X):\n",
    "    X['hour'] = X.timestamp.dt.hour\n",
    "    X['weekday'] = X.timestamp.dt.weekday\n",
    "    # month and year cause overfit, could try other (holiday, business, etc.)\n",
    "    return reduce_mem(X)"
   ]
  },
  {
   "cell_type": "code",
   "execution_count": 9,
   "id": "controversial-roberts",
   "metadata": {
    "execution": {
     "iopub.execute_input": "2021-07-02T08:11:12.928230Z",
     "iopub.status.busy": "2021-07-02T08:11:12.926848Z",
     "iopub.status.idle": "2021-07-02T08:11:35.038117Z",
     "shell.execute_reply": "2021-07-02T08:11:35.037424Z",
     "shell.execute_reply.started": "2021-06-22T12:29:04.873804Z"
    },
    "papermill": {
     "duration": 22.146927,
     "end_time": "2021-07-02T08:11:35.038406",
     "exception": false,
     "start_time": "2021-07-02T08:11:12.891479",
     "status": "completed"
    },
    "tags": []
   },
   "outputs": [
    {
     "data": {
      "text/plain": [
       "57"
      ]
     },
     "execution_count": 9,
     "metadata": {},
     "output_type": "execute_result"
    }
   ],
   "source": [
    "# preprocessing\n",
    "X_train, y_train = _delete_bad_sitezero(X_train, y_train)\n",
    "X_train = _extract_temporal(X_train)\n",
    "\n",
    "# remove timestamp and other unimportant features\n",
    "to_drop = ['timestamp','sea_level_pressure','wind_direction','wind_speed']\n",
    "X_train.drop(to_drop, axis=1, inplace=True)\n",
    "\n",
    "gc.collect()"
   ]
  },
  {
   "cell_type": "markdown",
   "id": "billion-option",
   "metadata": {
    "papermill": {
     "duration": 0.031032,
     "end_time": "2021-07-02T08:11:35.102045",
     "exception": false,
     "start_time": "2021-07-02T08:11:35.071013",
     "status": "completed"
    },
    "tags": []
   },
   "source": [
    "# Modeling"
   ]
  },
  {
   "cell_type": "markdown",
   "id": "ideal-explosion",
   "metadata": {
    "papermill": {
     "duration": 0.030657,
     "end_time": "2021-07-02T08:11:35.163110",
     "exception": false,
     "start_time": "2021-07-02T08:11:35.132453",
     "status": "completed"
    },
    "tags": []
   },
   "source": [
    "Before training the LGBM, let us train a \"baseline\" random forest for comparison. We write small wrappers for each, to be passed to a CV routine."
   ]
  },
  {
   "cell_type": "code",
   "execution_count": 10,
   "id": "abroad-navigator",
   "metadata": {
    "execution": {
     "iopub.execute_input": "2021-07-02T08:11:35.232412Z",
     "iopub.status.busy": "2021-07-02T08:11:35.231371Z",
     "iopub.status.idle": "2021-07-02T08:11:35.234553Z",
     "shell.execute_reply": "2021-07-02T08:11:35.234019Z",
     "shell.execute_reply.started": "2021-06-22T13:03:02.158912Z"
    },
    "papermill": {
     "duration": 0.041283,
     "end_time": "2021-07-02T08:11:35.234694",
     "exception": false,
     "start_time": "2021-07-02T08:11:35.193411",
     "status": "completed"
    },
    "tags": []
   },
   "outputs": [],
   "source": [
    "def RF_wrapper(Xt, yt, Xv, yv, fold=-1):\n",
    "    \n",
    "    model = RandomForestRegressor(n_jobs=-1, n_estimators=40,\n",
    "                              max_samples=200000, max_features=0.5,\n",
    "                              min_samples_leaf=5, oob_score=False).fit(Xt, yt)\n",
    "    print(f'Training fold {fold}...')\n",
    "    \n",
    "    score_train = np.sqrt(mean_squared_error(model.predict(Xt), yt))\n",
    "    oof = model.predict(Xv)\n",
    "    score = np.sqrt(mean_squared_error(oof, yv))\n",
    "    print(f'Fold {fold}: training RMSLE: {score_train},   validation RMSLE: {score}\\n')\n",
    "    return model, oof, score"
   ]
  },
  {
   "cell_type": "code",
   "execution_count": 11,
   "id": "fewer-prince",
   "metadata": {
    "execution": {
     "iopub.execute_input": "2021-07-02T08:11:35.305815Z",
     "iopub.status.busy": "2021-07-02T08:11:35.304786Z",
     "iopub.status.idle": "2021-07-02T08:11:35.307779Z",
     "shell.execute_reply": "2021-07-02T08:11:35.307282Z",
     "shell.execute_reply.started": "2021-06-22T12:54:29.993321Z"
    },
    "papermill": {
     "duration": 0.042738,
     "end_time": "2021-07-02T08:11:35.307917",
     "exception": false,
     "start_time": "2021-07-02T08:11:35.265179",
     "status": "completed"
    },
    "tags": []
   },
   "outputs": [],
   "source": [
    "def LGBM_wrapper(Xt, yt, Xv, yv, fold=-1):\n",
    "    \n",
    "    dset = lgb.Dataset(Xt, label=yt, categorical_feature=cat_features)\n",
    "    dset_val = lgb.Dataset(Xv, label=yv, categorical_feature=cat_features)\n",
    "    \n",
    "    params = {\n",
    "        \"objective\": \"regression\",\n",
    "        \"boosting\": \"gbdt\",\n",
    "        \"num_leaves\": 500,\n",
    "        \"learning_rate\": 0.04,\n",
    "        \"feature_fraction\": 0.7,\n",
    "        \"subsample\": 0.4,\n",
    "        \"metric\": \"rmse\",\n",
    "        \"seed\": 42,\n",
    "        \"n_jobs\": -1,\n",
    "        \"verbose\": -1\n",
    "    }\n",
    "    \n",
    "    print(f'Fold {fold}')\n",
    "    \n",
    "    # filter some known warnings (open issue at https://github.com/microsoft/LightGBM/issues/3379)\n",
    "    with warnings.catch_warnings():\n",
    "        warnings.filterwarnings(\"ignore\", \"categorical_column in param dict is overridden\")\n",
    "        warnings.filterwarnings(\"ignore\", \"Overriding the parameters from Reference Dataset\")\n",
    "        model = lgb.train(params,\n",
    "                         train_set=dset,\n",
    "                         num_boost_round=1000,\n",
    "                         valid_sets=[dset, dset_val],\n",
    "                         verbose_eval=200,\n",
    "                         early_stopping_rounds=100,\n",
    "                         categorical_feature=cat_features)\n",
    "    \n",
    "    oof = model.predict(Xv, num_iteration=model.best_iteration)\n",
    "    score = np.sqrt(mean_squared_error(yv, oof))\n",
    "    print(f'Fold {fold} validation RMSLE: {score}\\n')\n",
    "    return model, oof, score"
   ]
  },
  {
   "cell_type": "markdown",
   "id": "essential-print",
   "metadata": {
    "papermill": {
     "duration": 0.030029,
     "end_time": "2021-07-02T08:11:35.368446",
     "exception": false,
     "start_time": "2021-07-02T08:11:35.338417",
     "status": "completed"
    },
    "tags": []
   },
   "source": [
    "Let us perform k-fold CV, without shuffling as this is a time series. An alternative would be to do a single train/validation split, possibly with a gap to mimic training/private split. Otherwise, one could try something like Time-series split CV."
   ]
  },
  {
   "cell_type": "code",
   "execution_count": 12,
   "id": "clinical-satin",
   "metadata": {
    "execution": {
     "iopub.execute_input": "2021-07-02T08:11:35.438158Z",
     "iopub.status.busy": "2021-07-02T08:11:35.437528Z",
     "iopub.status.idle": "2021-07-02T08:11:35.440436Z",
     "shell.execute_reply": "2021-07-02T08:11:35.439829Z",
     "shell.execute_reply.started": "2021-06-22T12:59:11.439764Z"
    },
    "papermill": {
     "duration": 0.041363,
     "end_time": "2021-07-02T08:11:35.440577",
     "exception": false,
     "start_time": "2021-07-02T08:11:35.399214",
     "status": "completed"
    },
    "tags": []
   },
   "outputs": [],
   "source": [
    "def perform_CV(wrapper, n_splits=3):\n",
    "    \n",
    "    kf = KFold(n_splits=n_splits, shuffle=False)\n",
    "\n",
    "    models = []\n",
    "    scores = []\n",
    "    oof_total = np.zeros(X_train.shape[0])\n",
    "\n",
    "\n",
    "    for fold, (train_idx, val_idx) in enumerate(kf.split(X_train), start=1):\n",
    "        Xt, yt = X_train.iloc[train_idx], y_train[train_idx]\n",
    "        Xv, yv = X_train.iloc[val_idx], y_train[val_idx]\n",
    "        model, oof, score = wrapper(Xt, yt, Xv, yv, fold)\n",
    "\n",
    "        models.append(model)\n",
    "        scores.append(score)\n",
    "        oof_total[val_idx] = oof\n",
    "\n",
    "    print('Training completed.')\n",
    "    print(f'> Mean RMSLE across folds: {np.mean(scores)}, std: {np.std(scores)}')\n",
    "    print(f'> OOF RMSLE: {np.sqrt(mean_squared_error(y_train, oof_total))}')\n",
    "    return models, scores, oof_total"
   ]
  },
  {
   "cell_type": "markdown",
   "id": "phantom-complaint",
   "metadata": {
    "papermill": {
     "duration": 0.030082,
     "end_time": "2021-07-02T08:11:35.501011",
     "exception": false,
     "start_time": "2021-07-02T08:11:35.470929",
     "status": "completed"
    },
    "tags": []
   },
   "source": [
    "Let's train the random forest."
   ]
  },
  {
   "cell_type": "code",
   "execution_count": 13,
   "id": "statutory-youth",
   "metadata": {
    "execution": {
     "iopub.execute_input": "2021-07-02T08:11:35.565485Z",
     "iopub.status.busy": "2021-07-02T08:11:35.564489Z",
     "iopub.status.idle": "2021-07-02T08:17:53.612075Z",
     "shell.execute_reply": "2021-07-02T08:17:53.612616Z",
     "shell.execute_reply.started": "2021-06-22T13:13:02.910829Z"
    },
    "papermill": {
     "duration": 378.081552,
     "end_time": "2021-07-02T08:17:53.612886",
     "exception": false,
     "start_time": "2021-07-02T08:11:35.531334",
     "status": "completed"
    },
    "tags": []
   },
   "outputs": [
    {
     "name": "stdout",
     "output_type": "stream",
     "text": [
      "Training fold 1...\n",
      "Fold 1: training RMSLE: 0.8611267316477558,   validation RMSLE: 1.1367056048709083\n",
      "\n",
      "Training fold 2...\n",
      "Fold 2: training RMSLE: 0.8835663917256341,   validation RMSLE: 1.0767358407752063\n",
      "\n",
      "Training fold 3...\n",
      "Fold 3: training RMSLE: 0.8106710913321011,   validation RMSLE: 1.1552281622182512\n",
      "\n",
      "Training completed.\n",
      "> Mean RMSLE across folds: 1.122889869288122, std: 0.033500418342160755\n",
      "> OOF RMSLE: 1.1233894863731062\n"
     ]
    }
   ],
   "source": [
    "n_splits = 3\n",
    "\n",
    "_, _, _ = perform_CV(RF_wrapper, n_splits=n_splits)"
   ]
  },
  {
   "cell_type": "markdown",
   "id": "quarterly-complexity",
   "metadata": {
    "papermill": {
     "duration": 0.033057,
     "end_time": "2021-07-02T08:17:53.679425",
     "exception": false,
     "start_time": "2021-07-02T08:17:53.646368",
     "status": "completed"
    },
    "tags": []
   },
   "source": [
    "Now let's repeat this for LGBM."
   ]
  },
  {
   "cell_type": "code",
   "execution_count": 14,
   "id": "personal-commons",
   "metadata": {
    "execution": {
     "iopub.execute_input": "2021-07-02T08:17:53.751438Z",
     "iopub.status.busy": "2021-07-02T08:17:53.750725Z",
     "iopub.status.idle": "2021-07-02T08:49:23.657733Z",
     "shell.execute_reply": "2021-07-02T08:49:23.658208Z",
     "shell.execute_reply.started": "2021-06-22T13:04:53.95881Z"
    },
    "papermill": {
     "duration": 1889.945856,
     "end_time": "2021-07-02T08:49:23.658410",
     "exception": false,
     "start_time": "2021-07-02T08:17:53.712554",
     "status": "completed"
    },
    "tags": []
   },
   "outputs": [
    {
     "name": "stdout",
     "output_type": "stream",
     "text": [
      "Fold 1\n",
      "Training until validation scores don't improve for 100 rounds\n",
      "[200]\ttraining's rmse: 0.7854\tvalid_1's rmse: 1.11766\n",
      "Early stopping, best iteration is:\n",
      "[170]\ttraining's rmse: 0.801017\tvalid_1's rmse: 1.11759\n",
      "Fold 1 validation RMSLE: 1.1175865805724514\n",
      "\n",
      "Fold 2\n",
      "Training until validation scores don't improve for 100 rounds\n",
      "[200]\ttraining's rmse: 0.81202\tvalid_1's rmse: 1.04374\n",
      "Early stopping, best iteration is:\n",
      "[188]\ttraining's rmse: 0.81741\tvalid_1's rmse: 1.04346\n",
      "Fold 2 validation RMSLE: 1.0434573400170135\n",
      "\n",
      "Fold 3\n",
      "Training until validation scores don't improve for 100 rounds\n",
      "[200]\ttraining's rmse: 0.736617\tvalid_1's rmse: 1.1475\n",
      "Early stopping, best iteration is:\n",
      "[130]\ttraining's rmse: 0.788298\tvalid_1's rmse: 1.14266\n",
      "Fold 3 validation RMSLE: 1.1426582584781555\n",
      "\n",
      "Training completed.\n",
      "> Mean RMSLE across folds: 1.101234059689207, std: 0.04211697409446891\n",
      "> OOF RMSLE: 1.1020391533258782\n"
     ]
    }
   ],
   "source": [
    "cat_features = ['building_id','meter','site_id','primary_use','hour','weekday']\n",
    "\n",
    "models, scores, oof_total = perform_CV(LGBM_wrapper, n_splits=n_splits)"
   ]
  },
  {
   "cell_type": "markdown",
   "id": "periodic-panama",
   "metadata": {
    "papermill": {
     "duration": 0.037179,
     "end_time": "2021-07-02T08:49:23.733026",
     "exception": false,
     "start_time": "2021-07-02T08:49:23.695847",
     "status": "completed"
    },
    "tags": []
   },
   "source": [
    "## Feature importance"
   ]
  },
  {
   "cell_type": "markdown",
   "id": "familiar-choir",
   "metadata": {
    "papermill": {
     "duration": 0.038084,
     "end_time": "2021-07-02T08:49:23.808580",
     "exception": false,
     "start_time": "2021-07-02T08:49:23.770496",
     "status": "completed"
    },
    "tags": []
   },
   "source": [
    "Let's see the average feature importance across models. We can use this to retroactively drop further superfluous features during preprocessing."
   ]
  },
  {
   "cell_type": "code",
   "execution_count": 15,
   "id": "assured-floor",
   "metadata": {
    "execution": {
     "iopub.execute_input": "2021-07-02T08:49:23.891068Z",
     "iopub.status.busy": "2021-07-02T08:49:23.890379Z",
     "iopub.status.idle": "2021-07-02T08:49:24.315951Z",
     "shell.execute_reply": "2021-07-02T08:49:24.315336Z"
    },
    "papermill": {
     "duration": 0.470087,
     "end_time": "2021-07-02T08:49:24.316085",
     "exception": false,
     "start_time": "2021-07-02T08:49:23.845998",
     "status": "completed"
    },
    "tags": []
   },
   "outputs": [
    {
     "data": {
      "image/png": "[encoded data removed]",
      "text/plain": [
       "<Figure size 720x504 with 1 Axes>"
      ]
     },
     "metadata": {
      "needs_background": "light"
     },
     "output_type": "display_data"
    }
   ],
   "source": [
    "importance = pd.DataFrame([model.feature_importance() for model in models],\n",
    "                          columns=X_train.columns,\n",
    "                          index=[f'Fold {i}' for i in range(1, n_splits + 1)])\n",
    "importance = importance.T\n",
    "importance['Average importance'] = importance.mean(axis=1)\n",
    "importance = importance.sort_values(by='Average importance', ascending=False)\n",
    "\n",
    "plt.figure(figsize=(10,7))\n",
    "sns.barplot(x='Average importance', y=importance.index, data=importance);"
   ]
  },
  {
   "cell_type": "code",
   "execution_count": 16,
   "id": "hollywood-zambia",
   "metadata": {
    "execution": {
     "iopub.execute_input": "2021-07-02T08:49:24.552561Z",
     "iopub.status.busy": "2021-07-02T08:49:24.407044Z",
     "iopub.status.idle": "2021-07-02T08:49:24.557703Z",
     "shell.execute_reply": "2021-07-02T08:49:24.557047Z"
    },
    "papermill": {
     "duration": 0.20189,
     "end_time": "2021-07-02T08:49:24.557849",
     "exception": false,
     "start_time": "2021-07-02T08:49:24.355959",
     "status": "completed"
    },
    "tags": []
   },
   "outputs": [
    {
     "data": {
      "text/plain": [
       "7821"
      ]
     },
     "execution_count": 16,
     "metadata": {},
     "output_type": "execute_result"
    }
   ],
   "source": [
    "del X_train, y_train\n",
    "gc.collect()"
   ]
  },
  {
   "cell_type": "markdown",
   "id": "worth-carpet",
   "metadata": {
    "papermill": {
     "duration": 0.039721,
     "end_time": "2021-07-02T08:49:24.637357",
     "exception": false,
     "start_time": "2021-07-02T08:49:24.597636",
     "status": "completed"
    },
    "tags": []
   },
   "source": [
    "# Test set, inference and submission"
   ]
  },
  {
   "cell_type": "markdown",
   "id": "white-freeze",
   "metadata": {
    "papermill": {
     "duration": 0.039348,
     "end_time": "2021-07-02T08:49:24.716640",
     "exception": false,
     "start_time": "2021-07-02T08:49:24.677292",
     "status": "completed"
    },
    "tags": []
   },
   "source": [
    "Let us load the test data and apply the same transformations as for the training set."
   ]
  },
  {
   "cell_type": "code",
   "execution_count": 17,
   "id": "charitable-queue",
   "metadata": {
    "execution": {
     "iopub.execute_input": "2021-07-02T08:49:24.801370Z",
     "iopub.status.busy": "2021-07-02T08:49:24.800269Z",
     "iopub.status.idle": "2021-07-02T08:50:34.910057Z",
     "shell.execute_reply": "2021-07-02T08:50:34.910581Z"
    },
    "papermill": {
     "duration": 70.154658,
     "end_time": "2021-07-02T08:50:34.910744",
     "exception": false,
     "start_time": "2021-07-02T08:49:24.756086",
     "status": "completed"
    },
    "tags": []
   },
   "outputs": [
    {
     "name": "stdout",
     "output_type": "stream",
     "text": [
      "CPU times: user 45.2 s, sys: 10.6 s, total: 55.9 s\n",
      "Wall time: 1min 10s\n"
     ]
    }
   ],
   "source": [
    "%%time\n",
    "X_test = merged_dfs('test')"
   ]
  },
  {
   "cell_type": "code",
   "execution_count": 18,
   "id": "julian-scott",
   "metadata": {
    "execution": {
     "iopub.execute_input": "2021-07-02T08:50:34.994664Z",
     "iopub.status.busy": "2021-07-02T08:50:34.993637Z",
     "iopub.status.idle": "2021-07-02T08:50:55.870580Z",
     "shell.execute_reply": "2021-07-02T08:50:55.869929Z"
    },
    "papermill": {
     "duration": 20.920027,
     "end_time": "2021-07-02T08:50:55.870723",
     "exception": false,
     "start_time": "2021-07-02T08:50:34.950696",
     "status": "completed"
    },
    "tags": []
   },
   "outputs": [
    {
     "data": {
      "text/plain": [
       "34"
      ]
     },
     "execution_count": 18,
     "metadata": {},
     "output_type": "execute_result"
    }
   ],
   "source": [
    "row_ids = X_test.row_id # for submission file\n",
    "X_test = _extract_temporal(X_test)\n",
    "X_test.drop(columns=['row_id','timestamp']+to_drop, inplace=True)\n",
    "\n",
    "gc.collect()"
   ]
  },
  {
   "cell_type": "code",
   "execution_count": 19,
   "id": "certified-correspondence",
   "metadata": {
    "execution": {
     "iopub.execute_input": "2021-07-02T08:50:55.968520Z",
     "iopub.status.busy": "2021-07-02T08:50:55.967559Z",
     "iopub.status.idle": "2021-07-02T08:50:55.970992Z",
     "shell.execute_reply": "2021-07-02T08:50:55.971703Z"
    },
    "papermill": {
     "duration": 0.060638,
     "end_time": "2021-07-02T08:50:55.971920",
     "exception": false,
     "start_time": "2021-07-02T08:50:55.911282",
     "status": "completed"
    },
    "tags": []
   },
   "outputs": [
    {
     "name": "stdout",
     "output_type": "stream",
     "text": [
      "<class 'pandas.core.frame.DataFrame'>\n",
      "Int64Index: 41697600 entries, 0 to 41697599\n",
      "Data columns (total 25 columns):\n",
      " #   Column                       Dtype  \n",
      "---  ------                       -----  \n",
      " 0   building_id                  uint16 \n",
      " 1   meter                        uint8  \n",
      " 2   site_id                      uint8  \n",
      " 3   primary_use                  uint8  \n",
      " 4   square_feet                  uint32 \n",
      " 5   year_built                   float32\n",
      " 6   floor_count                  float32\n",
      " 7   air_temperature              float32\n",
      " 8   cloud_coverage               float32\n",
      " 9   dew_temperature              float32\n",
      " 10  precip_depth_1_hr            float32\n",
      " 11  air_temperature_min_lag3     float16\n",
      " 12  air_temperature_mean_lag3    float16\n",
      " 13  air_temperature_max_lag3     float16\n",
      " 14  cloud_coverage_min_lag3      float16\n",
      " 15  cloud_coverage_mean_lag3     float16\n",
      " 16  cloud_coverage_max_lag3      float16\n",
      " 17  dew_temperature_min_lag3     float16\n",
      " 18  dew_temperature_mean_lag3    float16\n",
      " 19  dew_temperature_max_lag3     float16\n",
      " 20  precip_depth_1_hr_min_lag3   float16\n",
      " 21  precip_depth_1_hr_mean_lag3  float16\n",
      " 22  precip_depth_1_hr_max_lag3   float16\n",
      " 23  hour                         uint8  \n",
      " 24  weekday                      uint8  \n",
      "dtypes: float16(12), float32(6), uint16(1), uint32(1), uint8(5)\n",
      "memory usage: 2.6 GB\n"
     ]
    }
   ],
   "source": [
    "X_test.info()"
   ]
  },
  {
   "cell_type": "markdown",
   "id": "demanding-timer",
   "metadata": {
    "papermill": {
     "duration": 0.040661,
     "end_time": "2021-07-02T08:50:56.055019",
     "exception": false,
     "start_time": "2021-07-02T08:50:56.014358",
     "status": "completed"
    },
    "tags": []
   },
   "source": [
    "Let's compute the predictions on the test set for each model, then average the results. This would improve the stability of the predictions, assuming the errors from each model are independent. Indeed, this gives a considerable boost in performance on PB.\n",
    "\n",
    "We split the computation in batches, to keep memory usage within the limits. Naturally, we transform the predictions back into linear space with the inverse of the log-transform."
   ]
  },
  {
   "cell_type": "code",
   "execution_count": 20,
   "id": "flush-speech",
   "metadata": {
    "execution": {
     "iopub.execute_input": "2021-07-02T08:50:56.145020Z",
     "iopub.status.busy": "2021-07-02T08:50:56.143439Z",
     "iopub.status.idle": "2021-07-02T09:30:10.897005Z",
     "shell.execute_reply": "2021-07-02T09:30:10.894183Z"
    },
    "papermill": {
     "duration": 2354.801147,
     "end_time": "2021-07-02T09:30:10.897165",
     "exception": false,
     "start_time": "2021-07-02T08:50:56.096018",
     "status": "completed"
    },
    "tags": []
   },
   "outputs": [
    {
     "data": {
      "application/vnd.jupyter.widget-view+json": {
       "model_id": "dcf38c2f0db045a589a92c6e3b90e6bc",
       "version_major": 2,
       "version_minor": 0
      },
      "text/plain": [
       "  0%|          | 0/20 [00:00<?, ?it/s]"
      ]
     },
     "metadata": {},
     "output_type": "display_data"
    },
    {
     "data": {
      "text/plain": [
       "44"
      ]
     },
     "execution_count": 20,
     "metadata": {},
     "output_type": "execute_result"
    }
   ],
   "source": [
    "n_iterations = 20\n",
    "batch_size = len(X_test) // n_iterations\n",
    "\n",
    "preds = []\n",
    "for i in tqdm(range(n_iterations)):\n",
    "    start = i * batch_size\n",
    "    fold_preds = [np.expm1(model.predict(X_test.iloc[start:start + batch_size], \n",
    "                                         num_iteration=model.best_iteration)) for model in models]\n",
    "    preds.extend(np.mean(fold_preds, axis=0))\n",
    "\n",
    "del X_test\n",
    "gc.collect()"
   ]
  },
  {
   "cell_type": "markdown",
   "id": "fancy-victorian",
   "metadata": {
    "papermill": {
     "duration": 0.043295,
     "end_time": "2021-07-02T09:30:10.983853",
     "exception": false,
     "start_time": "2021-07-02T09:30:10.940558",
     "status": "completed"
    },
    "tags": []
   },
   "source": [
    "Finally, save for submission and hope for the best."
   ]
  },
  {
   "cell_type": "code",
   "execution_count": 21,
   "id": "institutional-clinic",
   "metadata": {
    "execution": {
     "iopub.execute_input": "2021-07-02T09:30:17.974632Z",
     "iopub.status.busy": "2021-07-02T09:30:17.973809Z",
     "iopub.status.idle": "2021-07-02T09:32:44.842872Z",
     "shell.execute_reply": "2021-07-02T09:32:44.842231Z"
    },
    "papermill": {
     "duration": 153.816168,
     "end_time": "2021-07-02T09:32:44.843039",
     "exception": false,
     "start_time": "2021-07-02T09:30:11.026871",
     "status": "completed"
    },
    "tags": []
   },
   "outputs": [],
   "source": [
    "submission = pd.DataFrame({'row_id':row_ids, 'meter_reading':np.clip(preds, 0, a_max=None)})\n",
    "submission.to_csv('submission.csv', index=False)"
   ]
  },
  {
   "cell_type": "markdown",
   "id": "million-stanford",
   "metadata": {
    "papermill": {
     "duration": 0.041893,
     "end_time": "2021-07-02T09:32:44.927309",
     "exception": false,
     "start_time": "2021-07-02T09:32:44.885416",
     "status": "completed"
    },
    "tags": []
   },
   "source": [
    "We can check that the distribution of the predictions looks reasonable:"
   ]
  },
  {
   "cell_type": "code",
   "execution_count": 22,
   "id": "southeast-chaos",
   "metadata": {
    "execution": {
     "iopub.execute_input": "2021-07-02T09:32:45.016763Z",
     "iopub.status.busy": "2021-07-02T09:32:45.016104Z",
     "iopub.status.idle": "2021-07-02T09:33:23.548822Z",
     "shell.execute_reply": "2021-07-02T09:33:23.549363Z"
    },
    "papermill": {
     "duration": 38.580228,
     "end_time": "2021-07-02T09:33:23.549545",
     "exception": false,
     "start_time": "2021-07-02T09:32:44.969317",
     "status": "completed"
    },
    "tags": []
   },
   "outputs": [
    {
     "data": {
      "image/png": "[encoded data removed]",
      "text/plain": [
       "<Figure size 360x360 with 1 Axes>"
      ]
     },
     "metadata": {
      "needs_background": "light"
     },
     "output_type": "display_data"
    }
   ],
   "source": [
    "sns.displot(np.log1p(submission.meter_reading));"
   ]
  },
  {
   "cell_type": "markdown",
   "id": "external-input",
   "metadata": {
    "papermill": {
     "duration": 0.043087,
     "end_time": "2021-07-02T09:33:23.637751",
     "exception": false,
     "start_time": "2021-07-02T09:33:23.594664",
     "status": "completed"
    },
    "tags": []
   },
   "source": [
    "That's it. Do upvote this kernel if you found it of any use! 🖖\n",
    "\n",
    "Below are some links to kernels I either found interesting or directly borrowed from."
   ]
  },
  {
   "cell_type": "markdown",
   "id": "worse-hungarian",
   "metadata": {
    "papermill": {
     "duration": 0.04319,
     "end_time": "2021-07-02T09:33:23.723972",
     "exception": false,
     "start_time": "2021-07-02T09:33:23.680782",
     "status": "completed"
    },
    "tags": []
   },
   "source": [
    "# References"
   ]
  },
  {
   "cell_type": "markdown",
   "id": "elegant-bathroom",
   "metadata": {
    "papermill": {
     "duration": 0.042391,
     "end_time": "2021-07-02T09:33:23.809215",
     "exception": false,
     "start_time": "2021-07-02T09:33:23.766824",
     "status": "completed"
    },
    "tags": []
   },
   "source": [
    "Instructive kernels:\n",
    "- https://www.kaggle.com/purist1024/ashrae-simple-data-cleanup-lb-1-08-no-leaks\n",
    "- https://www.kaggle.com/gunesevitan/ashrae-lightgbm-1-048-no-leak\n",
    "\n",
    "Interesting discussions:\n",
    "- https://www.kaggle.com/kyakovlev/ashrae-cv-options/comments\n",
    "- https://www.kaggle.com/c/ashrae-energy-prediction/discussion/122471\n",
    "\n",
    "And summaries:\n",
    "- https://www.kaggle.com/c/ashrae-energy-prediction/discussion/125017\n",
    "- https://www.kaggle.com/c/ashrae-energy-prediction/discussion/112872#651685"
   ]
  }
 ],
 "metadata": {
  "kernelspec": {
   "display_name": "Python 3",
   "language": "python",
   "name": "python3"
  },
  "language_info": {
   "codemirror_mode": {
    "name": "ipython",
    "version": 3
   },
   "file_extension": ".py",
   "mimetype": "text/x-python",
   "name": "python",
   "nbconvert_exporter": "python",
   "pygments_lexer": "ipython3",
   "version": "3.7.10"
  },
  "papermill": {
   "default_parameters": {},
   "duration": 4981.297261,
   "end_time": "2021-07-02T09:33:27.573540",
   "environment_variables": {},
   "exception": null,
   "input_path": "__notebook__.ipynb",
   "output_path": "__notebook__.ipynb",
   "parameters": {},
   "start_time": "2021-07-02T08:10:26.276279",
   "version": "2.3.3"
  },
  "widgets": {
   "application/vnd.jupyter.widget-state+json": {
    "state": {
     "146c6aed8bab4005aa565971138cf4e2": {
      "model_module": "@jupyter-widgets/controls",
      "model_module_version": "1.5.0",
      "model_name": "HTMLModel",
      "state": {
       "_dom_classes": [],
       "_model_module": "@jupyter-widgets/controls",
       "_model_module_version": "1.5.0",
       "_model_name": "HTMLModel",
       "_view_count": null,
       "_view_module": "@jupyter-widgets/controls",
       "_view_module_version": "1.5.0",
       "_view_name": "HTMLView",
       "description": "",
       "description_tooltip": null,
       "layout": "IPY_MODEL_c53ceaa8f1f44550ad4d05b55eb68dc6",
       "placeholder": "​",
       "style": "IPY_MODEL_245b837944b24649a733a4113a504920",
       "value": " 20/20 [39:14&lt;00:00, 118.04s/it]"
      }
     },
     "245b837944b24649a733a4113a504920": {
      "model_module": "@jupyter-widgets/controls",
      "model_module_version": "1.5.0",
      "model_name": "DescriptionStyleModel",
      "state": {
       "_model_module": "@jupyter-widgets/controls",
       "_model_module_version": "1.5.0",
       "_model_name": "DescriptionStyleModel",
       "_view_count": null,
       "_view_module": "@jupyter-widgets/base",
       "_view_module_version": "1.2.0",
       "_view_name": "StyleView",
       "description_width": ""
      }
     },
     "2a98ffa82d054bc2b35d5ba29ff09b50": {
      "model_module": "@jupyter-widgets/controls",
      "model_module_version": "1.5.0",
      "model_name": "ProgressStyleModel",
      "state": {
       "_model_module": "@jupyter-widgets/controls",
       "_model_module_version": "1.5.0",
       "_model_name": "ProgressStyleModel",
       "_view_count": null,
       "_view_module": "@jupyter-widgets/base",
       "_view_module_version": "1.2.0",
       "_view_name": "StyleView",
       "bar_color": null,
       "description_width": ""
      }
     },
     "37151aee57554813bff884fc981efcb5": {
      "model_module": "@jupyter-widgets/base",
      "model_module_version": "1.2.0",
      "model_name": "LayoutModel",
      "state": {
       "_model_module": "@jupyter-widgets/base",
       "_model_module_version": "1.2.0",
       "_model_name": "LayoutModel",
       "_view_count": null,
       "_view_module": "@jupyter-widgets/base",
       "_view_module_version": "1.2.0",
       "_view_name": "LayoutView",
       "align_content": null,
       "align_items": null,
       "align_self": null,
       "border": null,
       "bottom": null,
       "display": null,
       "flex": null,
       "flex_flow": null,
       "grid_area": null,
       "grid_auto_columns": null,
       "grid_auto_flow": null,
       "grid_auto_rows": null,
       "grid_column": null,
       "grid_gap": null,
       "grid_row": null,
       "grid_template_areas": null,
       "grid_template_columns": null,
       "grid_template_rows": null,
       "height": null,
       "justify_content": null,
       "justify_items": null,
       "left": null,
       "margin": null,
       "max_height": null,
       "max_width": null,
       "min_height": null,
       "min_width": null,
       "object_fit": null,
       "object_position": null,
       "order": null,
       "overflow": null,
       "overflow_x": null,
       "overflow_y": null,
       "padding": null,
       "right": null,
       "top": null,
       "visibility": null,
       "width": null
      }
     },
     "4b28dd45bcc54754b99cfc11263c123a": {
      "model_module": "@jupyter-widgets/controls",
      "model_module_version": "1.5.0",
      "model_name": "HTMLModel",
      "state": {
       "_dom_classes": [],
       "_model_module": "@jupyter-widgets/controls",
       "_model_module_version": "1.5.0",
       "_model_name": "HTMLModel",
       "_view_count": null,
       "_view_module": "@jupyter-widgets/controls",
       "_view_module_version": "1.5.0",
       "_view_name": "HTMLView",
       "description": "",
       "description_tooltip": null,
       "layout": "IPY_MODEL_37151aee57554813bff884fc981efcb5",
       "placeholder": "​",
       "style": "IPY_MODEL_a47cb160df984dc4ace744d65ba49954",
       "value": "100%"
      }
     },
     "5a55af3bc37f4c638a3349688888790c": {
      "model_module": "@jupyter-widgets/base",
      "model_module_version": "1.2.0",
      "model_name": "LayoutModel",
      "state": {
       "_model_module": "@jupyter-widgets/base",
       "_model_module_version": "1.2.0",
       "_model_name": "LayoutModel",
       "_view_count": null,
       "_view_module": "@jupyter-widgets/base",
       "_view_module_version": "1.2.0",
       "_view_name": "LayoutView",
       "align_content": null,
       "align_items": null,
       "align_self": null,
       "border": null,
       "bottom": null,
       "display": null,
       "flex": null,
       "flex_flow": null,
       "grid_area": null,
       "grid_auto_columns": null,
       "grid_auto_flow": null,
       "grid_auto_rows": null,
       "grid_column": null,
       "grid_gap": null,
       "grid_row": null,
       "grid_template_areas": null,
       "grid_template_columns": null,
       "grid_template_rows": null,
       "height": null,
       "justify_content": null,
       "justify_items": null,
       "left": null,
       "margin": null,
       "max_height": null,
       "max_width": null,
       "min_height": null,
       "min_width": null,
       "object_fit": null,
       "object_position": null,
       "order": null,
       "overflow": null,
       "overflow_x": null,
       "overflow_y": null,
       "padding": null,
       "right": null,
       "top": null,
       "visibility": null,
       "width": null
      }
     },
     "993f245c1a7d436099cf6c84a08cbf29": {
      "model_module": "@jupyter-widgets/controls",
      "model_module_version": "1.5.0",
      "model_name": "FloatProgressModel",
      "state": {
       "_dom_classes": [],
       "_model_module": "@jupyter-widgets/controls",
       "_model_module_version": "1.5.0",
       "_model_name": "FloatProgressModel",
       "_view_count": null,
       "_view_module": "@jupyter-widgets/controls",
       "_view_module_version": "1.5.0",
       "_view_name": "ProgressView",
       "bar_style": "success",
       "description": "",
       "description_tooltip": null,
       "layout": "IPY_MODEL_e52b45a4d02d48cab1fae366564885a3",
       "max": 20.0,
       "min": 0.0,
       "orientation": "horizontal",
       "style": "IPY_MODEL_2a98ffa82d054bc2b35d5ba29ff09b50",
       "value": 20.0
      }
     },
     "a47cb160df984dc4ace744d65ba49954": {
      "model_module": "@jupyter-widgets/controls",
      "model_module_version": "1.5.0",
      "model_name": "DescriptionStyleModel",
      "state": {
       "_model_module": "@jupyter-widgets/controls",
       "_model_module_version": "1.5.0",
       "_model_name": "DescriptionStyleModel",
       "_view_count": null,
       "_view_module": "@jupyter-widgets/base",
       "_view_module_version": "1.2.0",
       "_view_name": "StyleView",
       "description_width": ""
      }
     },
     "c53ceaa8f1f44550ad4d05b55eb68dc6": {
      "model_module": "@jupyter-widgets/base",
      "model_module_version": "1.2.0",
      "model_name": "LayoutModel",
      "state": {
       "_model_module": "@jupyter-widgets/base",
       "_model_module_version": "1.2.0",
       "_model_name": "LayoutModel",
       "_view_count": null,
       "_view_module": "@jupyter-widgets/base",
       "_view_module_version": "1.2.0",
       "_view_name": "LayoutView",
       "align_content": null,
       "align_items": null,
       "align_self": null,
       "border": null,
       "bottom": null,
       "display": null,
       "flex": null,
       "flex_flow": null,
       "grid_area": null,
       "grid_auto_columns": null,
       "grid_auto_flow": null,
       "grid_auto_rows": null,
       "grid_column": null,
       "grid_gap": null,
       "grid_row": null,
       "grid_template_areas": null,
       "grid_template_columns": null,
       "grid_template_rows": null,
       "height": null,
       "justify_content": null,
       "justify_items": null,
       "left": null,
       "margin": null,
       "max_height": null,
       "max_width": null,
       "min_height": null,
       "min_width": null,
       "object_fit": null,
       "object_position": null,
       "order": null,
       "overflow": null,
       "overflow_x": null,
       "overflow_y": null,
       "padding": null,
       "right": null,
       "top": null,
       "visibility": null,
       "width": null
      }
     },
     "dcf38c2f0db045a589a92c6e3b90e6bc": {
      "model_module": "@jupyter-widgets/controls",
      "model_module_version": "1.5.0",
      "model_name": "HBoxModel",
      "state": {
       "_dom_classes": [],
       "_model_module": "@jupyter-widgets/controls",
       "_model_module_version": "1.5.0",
       "_model_name": "HBoxModel",
       "_view_count": null,
       "_view_module": "@jupyter-widgets/controls",
       "_view_module_version": "1.5.0",
       "_view_name": "HBoxView",
       "box_style": "",
       "children": [
        "IPY_MODEL_4b28dd45bcc54754b99cfc11263c123a",
        "IPY_MODEL_993f245c1a7d436099cf6c84a08cbf29",
        "IPY_MODEL_146c6aed8bab4005aa565971138cf4e2"
       ],
       "layout": "IPY_MODEL_5a55af3bc37f4c638a3349688888790c"
      }
     },
     "e52b45a4d02d48cab1fae366564885a3": {
      "model_module": "@jupyter-widgets/base",
      "model_module_version": "1.2.0",
      "model_name": "LayoutModel",
      "state": {
       "_model_module": "@jupyter-widgets/base",
       "_model_module_version": "1.2.0",
       "_model_name": "LayoutModel",
       "_view_count": null,
       "_view_module": "@jupyter-widgets/base",
       "_view_module_version": "1.2.0",
       "_view_name": "LayoutView",
       "align_content": null,
       "align_items": null,
       "align_self": null,
       "border": null,
       "bottom": null,
       "display": null,
       "flex": null,
       "flex_flow": null,
       "grid_area": null,
       "grid_auto_columns": null,
       "grid_auto_flow": null,
       "grid_auto_rows": null,
       "grid_column": null,
       "grid_gap": null,
       "grid_row": null,
       "grid_template_areas": null,
       "grid_template_columns": null,
       "grid_template_rows": null,
       "height": null,
       "justify_content": null,
       "justify_items": null,
       "left": null,
       "margin": null,
       "max_height": null,
       "max_width": null,
       "min_height": null,
       "min_width": null,
       "object_fit": null,
       "object_position": null,
       "order": null,
       "overflow": null,
       "overflow_x": null,
       "overflow_y": null,
       "padding": null,
       "right": null,
       "top": null,
       "visibility": null,
       "width": null
      }
     }
    },
    "version_major": 2,
    "version_minor": 0
   }
  }
 },
 "nbformat": 4,
 "nbformat_minor": 5
}
